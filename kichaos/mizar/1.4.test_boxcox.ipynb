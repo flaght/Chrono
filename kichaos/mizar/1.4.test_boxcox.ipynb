{
 "cells": [
  {
   "cell_type": "code",
   "execution_count": 1,
   "metadata": {},
   "outputs": [],
   "source": [
    "import pandas as pd\n",
    "import numpy as np\n",
    "import os\n",
    "from dotenv import load_dotenv\n",
    "\n",
    "load_dotenv()\n",
    "from kdutils.macro2 import *"
   ]
  },
  {
   "cell_type": "code",
   "execution_count": 2,
   "metadata": {},
   "outputs": [],
   "source": [
    "method = 'aicso4'\n",
    "g_instruments = 'rbb'\n",
    "horizon = 1\n",
    "category = 1\n",
    "types = 'o2o'"
   ]
  },
  {
   "cell_type": "code",
   "execution_count": 3,
   "metadata": {},
   "outputs": [],
   "source": [
    "dirs = os.path.join(base_path, method, g_instruments, 'merged')\n",
    "filename = os.path.join(\n",
    "        dirs, \"{0}_{1}h_{2}_{3}.feather\".format(types, horizon, \"native\", 'adequacy_1'))"
   ]
  },
  {
   "cell_type": "code",
   "execution_count": 4,
   "metadata": {},
   "outputs": [
    {
     "data": {
      "text/html": [
       "<div>\n",
       "<style scoped>\n",
       "    .dataframe tbody tr th:only-of-type {\n",
       "        vertical-align: middle;\n",
       "    }\n",
       "\n",
       "    .dataframe tbody tr th {\n",
       "        vertical-align: top;\n",
       "    }\n",
       "\n",
       "    .dataframe thead th {\n",
       "        text-align: right;\n",
       "    }\n",
       "</style>\n",
       "<table border=\"1\" class=\"dataframe\">\n",
       "  <thead>\n",
       "    <tr style=\"text-align: right;\">\n",
       "      <th></th>\n",
       "      <th>trade_time</th>\n",
       "      <th>code</th>\n",
       "      <th>tn001_5_10_1</th>\n",
       "      <th>tn001_10_15_1</th>\n",
       "      <th>tn001_5_10_0</th>\n",
       "      <th>tn001_10_15_0</th>\n",
       "      <th>tn002_5_1</th>\n",
       "      <th>tn002_10_1</th>\n",
       "      <th>tn002_5_0</th>\n",
       "      <th>tn002_10_0</th>\n",
       "      <th>...</th>\n",
       "      <th>rv013_75_10_15_1</th>\n",
       "      <th>rv013_25_5_10_1</th>\n",
       "      <th>rv013_25_10_15_1</th>\n",
       "      <th>rv014_75_5_10_1</th>\n",
       "      <th>rv014_75_10_15_1</th>\n",
       "      <th>rv014_25_5_10_1</th>\n",
       "      <th>rv014_25_10_15_1</th>\n",
       "      <th>rv014_25_5_10_0</th>\n",
       "      <th>rv014_25_10_15_0</th>\n",
       "      <th>nxt1_ret</th>\n",
       "    </tr>\n",
       "  </thead>\n",
       "  <tbody>\n",
       "    <tr>\n",
       "      <th>0</th>\n",
       "      <td>2020-01-02 09:01:00</td>\n",
       "      <td>RB</td>\n",
       "      <td>1.459269</td>\n",
       "      <td>1.705448</td>\n",
       "      <td>1.134386</td>\n",
       "      <td>1.868720</td>\n",
       "      <td>373.237236</td>\n",
       "      <td>370.232301</td>\n",
       "      <td>371.061499</td>\n",
       "      <td>369.058288</td>\n",
       "      <td>...</td>\n",
       "      <td>-0.000147</td>\n",
       "      <td>-0.000176</td>\n",
       "      <td>-0.000071</td>\n",
       "      <td>-8738.303356</td>\n",
       "      <td>-5272.875300</td>\n",
       "      <td>-8742.866846</td>\n",
       "      <td>-5423.672640</td>\n",
       "      <td>-5753.758</td>\n",
       "      <td>-1663.707111</td>\n",
       "      <td>0.000000</td>\n",
       "    </tr>\n",
       "    <tr>\n",
       "      <th>1</th>\n",
       "      <td>2020-01-02 09:02:00</td>\n",
       "      <td>RB</td>\n",
       "      <td>1.709210</td>\n",
       "      <td>1.693695</td>\n",
       "      <td>1.198046</td>\n",
       "      <td>1.925018</td>\n",
       "      <td>372.407656</td>\n",
       "      <td>370.326155</td>\n",
       "      <td>371.514711</td>\n",
       "      <td>369.187448</td>\n",
       "      <td>...</td>\n",
       "      <td>-0.000147</td>\n",
       "      <td>-0.000176</td>\n",
       "      <td>-0.000071</td>\n",
       "      <td>-4412.101925</td>\n",
       "      <td>-4007.716335</td>\n",
       "      <td>-4416.398415</td>\n",
       "      <td>-4170.128379</td>\n",
       "      <td>-6674.810</td>\n",
       "      <td>-1295.260444</td>\n",
       "      <td>0.000279</td>\n",
       "    </tr>\n",
       "    <tr>\n",
       "      <th>2</th>\n",
       "      <td>2020-01-02 09:03:00</td>\n",
       "      <td>RB</td>\n",
       "      <td>1.913968</td>\n",
       "      <td>1.709833</td>\n",
       "      <td>1.275712</td>\n",
       "      <td>1.976607</td>\n",
       "      <td>371.249602</td>\n",
       "      <td>370.072944</td>\n",
       "      <td>371.571888</td>\n",
       "      <td>369.555548</td>\n",
       "      <td>...</td>\n",
       "      <td>-0.000147</td>\n",
       "      <td>-0.000176</td>\n",
       "      <td>-0.000071</td>\n",
       "      <td>-1582.098821</td>\n",
       "      <td>-2853.830462</td>\n",
       "      <td>-1585.877193</td>\n",
       "      <td>-3018.604690</td>\n",
       "      <td>-7586.298</td>\n",
       "      <td>-1418.240889</td>\n",
       "      <td>0.000000</td>\n",
       "    </tr>\n",
       "    <tr>\n",
       "      <th>3</th>\n",
       "      <td>2020-01-02 09:04:00</td>\n",
       "      <td>RB</td>\n",
       "      <td>1.929378</td>\n",
       "      <td>1.731894</td>\n",
       "      <td>1.337522</td>\n",
       "      <td>2.019350</td>\n",
       "      <td>369.680853</td>\n",
       "      <td>369.431200</td>\n",
       "      <td>371.765958</td>\n",
       "      <td>369.505249</td>\n",
       "      <td>...</td>\n",
       "      <td>-0.000147</td>\n",
       "      <td>-0.000176</td>\n",
       "      <td>-0.000071</td>\n",
       "      <td>1897.741643</td>\n",
       "      <td>-778.917688</td>\n",
       "      <td>1894.668939</td>\n",
       "      <td>-941.614080</td>\n",
       "      <td>-6028.398</td>\n",
       "      <td>-935.389778</td>\n",
       "      <td>-0.000557</td>\n",
       "    </tr>\n",
       "    <tr>\n",
       "      <th>4</th>\n",
       "      <td>2020-01-02 09:05:00</td>\n",
       "      <td>RB</td>\n",
       "      <td>1.801669</td>\n",
       "      <td>1.743390</td>\n",
       "      <td>1.461727</td>\n",
       "      <td>2.035222</td>\n",
       "      <td>368.575697</td>\n",
       "      <td>368.873779</td>\n",
       "      <td>371.733260</td>\n",
       "      <td>369.514706</td>\n",
       "      <td>...</td>\n",
       "      <td>-0.000147</td>\n",
       "      <td>-0.000176</td>\n",
       "      <td>-0.000071</td>\n",
       "      <td>3843.918763</td>\n",
       "      <td>917.423511</td>\n",
       "      <td>3841.557069</td>\n",
       "      <td>765.128671</td>\n",
       "      <td>-3100.436</td>\n",
       "      <td>-403.295111</td>\n",
       "      <td>-0.001116</td>\n",
       "    </tr>\n",
       "  </tbody>\n",
       "</table>\n",
       "<p>5 rows × 687 columns</p>\n",
       "</div>"
      ],
      "text/plain": [
       "           trade_time code  tn001_5_10_1  tn001_10_15_1  tn001_5_10_0  \\\n",
       "0 2020-01-02 09:01:00   RB      1.459269       1.705448      1.134386   \n",
       "1 2020-01-02 09:02:00   RB      1.709210       1.693695      1.198046   \n",
       "2 2020-01-02 09:03:00   RB      1.913968       1.709833      1.275712   \n",
       "3 2020-01-02 09:04:00   RB      1.929378       1.731894      1.337522   \n",
       "4 2020-01-02 09:05:00   RB      1.801669       1.743390      1.461727   \n",
       "\n",
       "   tn001_10_15_0   tn002_5_1  tn002_10_1   tn002_5_0  tn002_10_0  ...  \\\n",
       "0       1.868720  373.237236  370.232301  371.061499  369.058288  ...   \n",
       "1       1.925018  372.407656  370.326155  371.514711  369.187448  ...   \n",
       "2       1.976607  371.249602  370.072944  371.571888  369.555548  ...   \n",
       "3       2.019350  369.680853  369.431200  371.765958  369.505249  ...   \n",
       "4       2.035222  368.575697  368.873779  371.733260  369.514706  ...   \n",
       "\n",
       "   rv013_75_10_15_1  rv013_25_5_10_1  rv013_25_10_15_1  rv014_75_5_10_1  \\\n",
       "0         -0.000147        -0.000176         -0.000071     -8738.303356   \n",
       "1         -0.000147        -0.000176         -0.000071     -4412.101925   \n",
       "2         -0.000147        -0.000176         -0.000071     -1582.098821   \n",
       "3         -0.000147        -0.000176         -0.000071      1897.741643   \n",
       "4         -0.000147        -0.000176         -0.000071      3843.918763   \n",
       "\n",
       "   rv014_75_10_15_1  rv014_25_5_10_1  rv014_25_10_15_1  rv014_25_5_10_0  \\\n",
       "0      -5272.875300     -8742.866846      -5423.672640        -5753.758   \n",
       "1      -4007.716335     -4416.398415      -4170.128379        -6674.810   \n",
       "2      -2853.830462     -1585.877193      -3018.604690        -7586.298   \n",
       "3       -778.917688      1894.668939       -941.614080        -6028.398   \n",
       "4        917.423511      3841.557069        765.128671        -3100.436   \n",
       "\n",
       "   rv014_25_10_15_0  nxt1_ret  \n",
       "0      -1663.707111  0.000000  \n",
       "1      -1295.260444  0.000279  \n",
       "2      -1418.240889  0.000000  \n",
       "3       -935.389778 -0.000557  \n",
       "4       -403.295111 -0.001116  \n",
       "\n",
       "[5 rows x 687 columns]"
      ]
     },
     "execution_count": 4,
     "metadata": {},
     "output_type": "execute_result"
    }
   ],
   "source": [
    "total_data1 = pd.read_feather(filename)\n",
    "total_data1.head()"
   ]
  },
  {
   "cell_type": "code",
   "execution_count": 5,
   "metadata": {},
   "outputs": [],
   "source": [
    "columns = [col for col in total_data1.columns if col not in ['trade_time','code','nxt1_ret']]"
   ]
  },
  {
   "cell_type": "code",
   "execution_count": 8,
   "metadata": {},
   "outputs": [
    {
     "data": {
      "text/plain": [
       "'tn001_5_10_1'"
      ]
     },
     "execution_count": 8,
     "metadata": {},
     "output_type": "execute_result"
    }
   ],
   "source": [
    "factor_name = columns[0]\n",
    "factor_name"
   ]
  },
  {
   "cell_type": "code",
   "execution_count": 9,
   "metadata": {},
   "outputs": [],
   "source": [
    "from scipy.stats import skew, boxcox"
   ]
  },
  {
   "cell_type": "code",
   "execution_count": 10,
   "metadata": {},
   "outputs": [],
   "source": [
    "data_boxcox_transformed, best_lambda = boxcox(total_data1[factor_name]) # boxcox返回转换后数据和lambda值"
   ]
  },
  {
   "cell_type": "code",
   "execution_count": 12,
   "metadata": {},
   "outputs": [
    {
     "data": {
      "text/plain": [
       "0         0.293717\n",
       "1         0.377446\n",
       "2         0.426991\n",
       "3         0.430214\n",
       "4         0.401489\n",
       "            ...   \n",
       "434690   -0.066816\n",
       "434691    0.032058\n",
       "434692    0.083861\n",
       "434693    0.130049\n",
       "434694    0.179806\n",
       "Name: tn001_5_10_1, Length: 434695, dtype: float64"
      ]
     },
     "execution_count": 12,
     "metadata": {},
     "output_type": "execute_result"
    }
   ],
   "source": [
    "pd.Series(data_boxcox_transformed, name=factor_name, index=total_data1.index)"
   ]
  },
  {
   "cell_type": "code",
   "execution_count": null,
   "metadata": {},
   "outputs": [],
   "source": []
  }
 ],
 "metadata": {
  "kernelspec": {
   "display_name": "Python 3",
   "language": "python",
   "name": "python3"
  },
  "language_info": {
   "codemirror_mode": {
    "name": "ipython",
    "version": 3
   },
   "file_extension": ".py",
   "mimetype": "text/x-python",
   "name": "python",
   "nbconvert_exporter": "python",
   "pygments_lexer": "ipython3",
   "version": "3.9.22"
  }
 },
 "nbformat": 4,
 "nbformat_minor": 2
}
