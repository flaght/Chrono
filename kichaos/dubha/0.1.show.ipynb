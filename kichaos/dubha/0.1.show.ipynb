{
 "cells": [
  {
   "cell_type": "code",
   "execution_count": 1,
   "metadata": {},
   "outputs": [
    {
     "data": {
      "text/plain": [
       "True"
      ]
     },
     "execution_count": 1,
     "metadata": {},
     "output_type": "execute_result"
    }
   ],
   "source": [
    "import os\n",
    "from dotenv import load_dotenv\n",
    "load_dotenv()"
   ]
  },
  {
   "cell_type": "code",
   "execution_count": 2,
   "metadata": {},
   "outputs": [],
   "source": [
    "from ultron.factor.fitness.metrics import Metrics\n",
    "from ultron.factor.fitness.state import State"
   ]
  },
  {
   "cell_type": "code",
   "execution_count": 3,
   "metadata": {},
   "outputs": [],
   "source": [
    "import pandas as pd"
   ]
  },
  {
   "cell_type": "code",
   "execution_count": 4,
   "metadata": {},
   "outputs": [],
   "source": [
    "from kdutils.data import fetch_base"
   ]
  },
  {
   "cell_type": "code",
   "execution_count": 5,
   "metadata": {},
   "outputs": [],
   "source": [
    "base = '/mnt/nass125/data/basic_data/dx_data/dubhe'"
   ]
  },
  {
   "cell_type": "code",
   "execution_count": 6,
   "metadata": {},
   "outputs": [],
   "source": [
    "path1 = 'envoy0003_transient_hybrid_transformer_3p_2s_ranking_5h_dubhe_hs300_10c'\n",
    "dirs = os.path.join(base, os.environ['DUMMY_NAME'], 'Timing', \n",
    "            path1)"
   ]
  },
  {
   "cell_type": "code",
   "execution_count": 7,
   "metadata": {},
   "outputs": [],
   "source": [
    "filename = os.path.join(dirs, \"envoy0003_factors.feather\")\n",
    "factors_data = pd.read_feather(filename)"
   ]
  },
  {
   "cell_type": "code",
   "execution_count": 8,
   "metadata": {},
   "outputs": [],
   "source": [
    "begin_date = factors_data['trade_time'].min().strftime('%Y-%m-%d')\n",
    "end_date = factors_data['trade_time'].max().strftime('%Y-%m-%d')"
   ]
  },
  {
   "cell_type": "code",
   "execution_count": 9,
   "metadata": {},
   "outputs": [
    {
     "name": "stderr",
     "output_type": "stream",
     "text": [
      "2024-12-16 16:43:29,910 - kd - INFO - fetching load ret_f1r_cc data\n",
      "2024-12-16 16:43:29,913 - kd - INFO - sql:select ret_f1r_cc,trade_date,code from loadTable('dfs://StkRet',`stk_ret) where 1==1 and date(trade_date)>= 2023.05.29 and date(trade_date)<= 2024.09.09 and Flag= 1\n",
      "2024-12-16 16:43:40,585 - kd - INFO - fetching load dummy120_fst data\n",
      "2024-12-16 16:43:40,590 - kd - INFO - sql:select dummy120_fst,trade_date,code from loadTable('dfs://StkUniverse',`stk_universe) where 1==1 and date(trade_date)>= 2023.05.29 and date(trade_date)<= 2024.09.09 and Flag= 1\n",
      "2024-12-16 16:43:42,641 - kd - INFO - fetching load dummy120_fst_close data\n",
      "2024-12-16 16:43:42,646 - kd - INFO - sql:select dummy120_fst_close,trade_date,code from loadTable('dfs://StkUniverse',`stk_universe) where 1==1 and date(trade_date)>= 2023.05.29 and date(trade_date)<= 2024.09.09 and Flag= 1\n",
      "2024-12-16 16:43:47,492 - kd - INFO - fetching load hs300 data\n",
      "2024-12-16 16:43:47,498 - kd - INFO - sql:select hs300,trade_date,code from loadTable('dfs://StkUniverse',`stk_universe) where 1==1 and date(trade_date)>= 2023.05.29 and date(trade_date)<= 2024.09.09 and Flag= 1\n",
      "2024-12-16 16:43:50,935 - kd - INFO - fetching load zz1000 data\n",
      "2024-12-16 16:43:50,940 - kd - INFO - sql:select zz1000,trade_date,code from loadTable('dfs://StkUniverse',`stk_universe) where 1==1 and date(trade_date)>= 2023.05.29 and date(trade_date)<= 2024.09.09 and Flag= 1\n",
      "2024-12-16 16:43:53,412 - kd - INFO - fetching load zz500 data\n",
      "2024-12-16 16:43:53,420 - kd - INFO - sql:select zz500,trade_date,code from loadTable('dfs://StkUniverse',`stk_universe) where 1==1 and date(trade_date)>= 2023.05.29 and date(trade_date)<= 2024.09.09 and Flag= 1\n",
      "2024-12-16 16:43:55,361 - kd - INFO - fetch load data sucess time: 25.451303358888254\n"
     ]
    }
   ],
   "source": [
    "remain_data = fetch_base(begin_date, end_date)\n",
    "ret_data = remain_data['ret_f1r_cc']\n",
    "dummy120_fst = remain_data['dummy120_fst']\n",
    "dummy120_fst_close = remain_data['dummy120_fst_close']\n",
    "hs300 = remain_data['hs300']\n",
    "zz1000 = remain_data['zz1000']\n",
    "zz500 = remain_data['zz500']"
   ]
  },
  {
   "cell_type": "code",
   "execution_count": 10,
   "metadata": {},
   "outputs": [],
   "source": [
    "yields_data = ret_data.reindex(dummy120_fst.index, columns=dummy120_fst.columns)\n",
    "#yields_data = yields_data[(hs300 == 1) | (zz500 == 1) | (zz1000 == 1)] * dummy120_fst_close * dummy120_fst\n",
    "yields_data = yields_data[(hs300 == 1) ] * dummy120_fst_close * dummy120_fst\n",
    "dummy_fst = dummy120_fst_close * dummy120_fst\n",
    "factors_data = factors_data.set_index(['trade_time', 'code'])\n",
    "factor_columns = factors_data.columns"
   ]
  },
  {
   "cell_type": "code",
   "execution_count": 11,
   "metadata": {},
   "outputs": [],
   "source": [
    "col = 'factor'"
   ]
  },
  {
   "cell_type": "code",
   "execution_count": 12,
   "metadata": {},
   "outputs": [],
   "source": [
    "factors_data0 = factors_data[col].copy()\n",
    "factors_data0 = factors_data0.unstack()\n",
    "factors_data0 = factors_data0.reindex(dummy120_fst.index, columns=dummy120_fst.columns)\n",
    "#factors_data0 = factors_data0[(hs300 == 1) | (zz500 == 1) | (zz1000 == 1)] * dummy_fst\n",
    "factors_data0 = factors_data0[(hs300 == 1)] * dummy_fst\n",
    "yields_data0 = yields_data.reindex(factors_data0.index,\n",
    "                                           columns=factors_data0.columns)\n",
    "dummy_fst0 = dummy_fst.reindex(factors_data0.index,\n",
    "                                       columns=factors_data0.columns)\n",
    "        \n",
    "#st0 = long_metrics(dummy_fst=dummy_fst0, yields_data=yields_data0,\n",
    "#                    factor_data=factors_data0, name=col)"
   ]
  },
  {
   "cell_type": "code",
   "execution_count": 13,
   "metadata": {},
   "outputs": [
    {
     "name": "stdout",
     "output_type": "stream",
     "text": [
      "factor fit metrics::100.0%"
     ]
    }
   ],
   "source": [
    "results = Metrics.general(factors=factors_data0,\n",
    "                              returns=yields_data0,\n",
    "                              dummy=dummy_fst0,\n",
    "                              hold=1,\n",
    "                              is_series=True)"
   ]
  },
  {
   "cell_type": "code",
   "execution_count": 14,
   "metadata": {},
   "outputs": [],
   "source": [
    "f0 = results.long_evaluate"
   ]
  },
  {
   "cell_type": "code",
   "execution_count": 15,
   "metadata": {},
   "outputs": [],
   "source": [
    "state = State.general(factors=factors_data0, dummy=dummy_fst0)"
   ]
  },
  {
   "cell_type": "code",
   "execution_count": 16,
   "metadata": {},
   "outputs": [
    {
     "data": {
      "text/html": [
       "<div>\n",
       "<style scoped>\n",
       "    .dataframe tbody tr th:only-of-type {\n",
       "        vertical-align: middle;\n",
       "    }\n",
       "\n",
       "    .dataframe tbody tr th {\n",
       "        vertical-align: top;\n",
       "    }\n",
       "\n",
       "    .dataframe thead th {\n",
       "        text-align: right;\n",
       "    }\n",
       "</style>\n",
       "<table border=\"1\" class=\"dataframe\">\n",
       "  <thead>\n",
       "    <tr style=\"text-align: right;\">\n",
       "      <th></th>\n",
       "      <th>sharp</th>\n",
       "      <th>returns_mean</th>\n",
       "      <th>returns_std</th>\n",
       "      <th>returns_mdd</th>\n",
       "      <th>fitness</th>\n",
       "      <th>turnover</th>\n",
       "      <th>maxdd</th>\n",
       "    </tr>\n",
       "  </thead>\n",
       "  <tbody>\n",
       "    <tr>\n",
       "      <th>0</th>\n",
       "      <td>2.460396</td>\n",
       "      <td>0.185539</td>\n",
       "      <td>0.07541</td>\n",
       "      <td>3.191234</td>\n",
       "      <td>2.033518</td>\n",
       "      <td>0.064382</td>\n",
       "      <td>0.05814</td>\n",
       "    </tr>\n",
       "  </tbody>\n",
       "</table>\n",
       "</div>"
      ],
      "text/plain": [
       "      sharp  returns_mean  returns_std  returns_mdd   fitness  turnover  \\\n",
       "0  2.460396      0.185539      0.07541     3.191234  2.033518  0.064382   \n",
       "\n",
       "     maxdd  \n",
       "0  0.05814  "
      ]
     },
     "execution_count": 16,
     "metadata": {},
     "output_type": "execute_result"
    }
   ],
   "source": [
    "s1 = {\n",
    "        'sharp':f0.sharp,\n",
    "        'returns_mean':f0.returns_mean,\n",
    "        'returns_std':f0.returns_std,\n",
    "        'returns_mdd':f0.returns_mdd,\n",
    "        'fitness':f0.fitness,\n",
    "        'turnover':f0.turnover,\n",
    "        'maxdd':f0.maxdd\n",
    "    }\n",
    "pd.DataFrame([s1])"
   ]
  },
  {
   "cell_type": "code",
   "execution_count": 17,
   "metadata": {},
   "outputs": [
    {
     "data": {
      "text/plain": [
       "<Axes: xlabel='trade_date'>"
      ]
     },
     "execution_count": 17,
     "metadata": {},
     "output_type": "execute_result"
    },
    {
     "data": {
      "image/png": "[encoded data removed]",
      "text/plain": [
       "<Figure size 640x480 with 1 Axes>"
      ]
     },
     "metadata": {},
     "output_type": "display_data"
    }
   ],
   "source": [
    "results.long_evaluate.returns_series.cumsum().plot()"
   ]
  },
  {
   "cell_type": "code",
   "execution_count": null,
   "metadata": {},
   "outputs": [],
   "source": []
  }
 ],
 "metadata": {
  "kernelspec": {
   "display_name": "lingua",
   "language": "python",
   "name": "python3"
  },
  "language_info": {
   "codemirror_mode": {
    "name": "ipython",
    "version": 3
   },
   "file_extension": ".py",
   "mimetype": "text/x-python",
   "name": "python",
   "nbconvert_exporter": "python",
   "pygments_lexer": "ipython3",
   "version": "3.8.20"
  }
 },
 "nbformat": 4,
 "nbformat_minor": 2
}
