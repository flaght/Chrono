{
 "cells": [
  {
   "cell_type": "code",
   "execution_count": 1,
   "metadata": {},
   "outputs": [
    {
     "name": "stdout",
     "output_type": "stream",
     "text": [
      "TA-Lib is not available: No module named 'talib'\n"
     ]
    }
   ],
   "source": [
    "import sys, os, pdb\n",
    "import pandas as pd\n",
    "import numpy as np\n",
    "from datetime import date, timedelta\n",
    "from dotenv import load_dotenv\n",
    "\n",
    "load_dotenv()\n",
    "\n",
    "from obility.agent import Agent\n",
    "from obility.model import IndicatorList, KLine\n",
    "from dichaos.agents.indexor.porfolio import Portfolio\n",
    "from dichaos.kdutils import kd_logger"
   ]
  },
  {
   "cell_type": "code",
   "execution_count": 2,
   "metadata": {},
   "outputs": [],
   "source": [
    "symbol = 'RB'"
   ]
  },
  {
   "cell_type": "code",
   "execution_count": 3,
   "metadata": {},
   "outputs": [
    {
     "data": {
      "text/html": [
       "<div>\n",
       "<style scoped>\n",
       "    .dataframe tbody tr th:only-of-type {\n",
       "        vertical-align: middle;\n",
       "    }\n",
       "\n",
       "    .dataframe tbody tr th {\n",
       "        vertical-align: top;\n",
       "    }\n",
       "\n",
       "    .dataframe thead th {\n",
       "        text-align: right;\n",
       "    }\n",
       "</style>\n",
       "<table border=\"1\" class=\"dataframe\">\n",
       "  <thead>\n",
       "    <tr style=\"text-align: right;\">\n",
       "      <th></th>\n",
       "      <th></th>\n",
       "      <th>open</th>\n",
       "      <th>high</th>\n",
       "      <th>low</th>\n",
       "      <th>close</th>\n",
       "      <th>volume</th>\n",
       "      <th>amount</th>\n",
       "      <th>return</th>\n",
       "    </tr>\n",
       "    <tr>\n",
       "      <th>trade_time</th>\n",
       "      <th>code</th>\n",
       "      <th></th>\n",
       "      <th></th>\n",
       "      <th></th>\n",
       "      <th></th>\n",
       "      <th></th>\n",
       "      <th></th>\n",
       "      <th></th>\n",
       "    </tr>\n",
       "  </thead>\n",
       "  <tbody>\n",
       "    <tr>\n",
       "      <th>2024-05-01</th>\n",
       "      <th>RB</th>\n",
       "      <td>100.20</td>\n",
       "      <td>101.15</td>\n",
       "      <td>100.14</td>\n",
       "      <td>100.26</td>\n",
       "      <td>3385</td>\n",
       "      <td>339370.38</td>\n",
       "      <td>0.0000</td>\n",
       "    </tr>\n",
       "    <tr>\n",
       "      <th>2024-05-02</th>\n",
       "      <th>RB</th>\n",
       "      <td>101.28</td>\n",
       "      <td>101.82</td>\n",
       "      <td>99.99</td>\n",
       "      <td>100.27</td>\n",
       "      <td>5736</td>\n",
       "      <td>575123.60</td>\n",
       "      <td>0.0001</td>\n",
       "    </tr>\n",
       "    <tr>\n",
       "      <th>2024-05-03</th>\n",
       "      <th>RB</th>\n",
       "      <td>101.00</td>\n",
       "      <td>101.81</td>\n",
       "      <td>99.54</td>\n",
       "      <td>100.45</td>\n",
       "      <td>2802</td>\n",
       "      <td>281469.22</td>\n",
       "      <td>0.0019</td>\n",
       "    </tr>\n",
       "    <tr>\n",
       "      <th>2024-05-06</th>\n",
       "      <th>RB</th>\n",
       "      <td>102.00</td>\n",
       "      <td>102.90</td>\n",
       "      <td>101.69</td>\n",
       "      <td>101.93</td>\n",
       "      <td>9155</td>\n",
       "      <td>933178.90</td>\n",
       "      <td>0.0146</td>\n",
       "    </tr>\n",
       "    <tr>\n",
       "      <th>2024-05-07</th>\n",
       "      <th>RB</th>\n",
       "      <td>102.71</td>\n",
       "      <td>103.02</td>\n",
       "      <td>102.56</td>\n",
       "      <td>102.70</td>\n",
       "      <td>9120</td>\n",
       "      <td>936635.65</td>\n",
       "      <td>0.0075</td>\n",
       "    </tr>\n",
       "  </tbody>\n",
       "</table>\n",
       "</div>"
      ],
      "text/plain": [
       "                   open    high     low   close  volume     amount  return\n",
       "trade_time code                                                           \n",
       "2024-05-01 RB    100.20  101.15  100.14  100.26    3385  339370.38  0.0000\n",
       "2024-05-02 RB    101.28  101.82   99.99  100.27    5736  575123.60  0.0001\n",
       "2024-05-03 RB    101.00  101.81   99.54  100.45    2802  281469.22  0.0019\n",
       "2024-05-06 RB    102.00  102.90  101.69  101.93    9155  933178.90  0.0146\n",
       "2024-05-07 RB    102.71  103.02  102.56  102.70    9120  936635.65  0.0075"
      ]
     },
     "execution_count": 3,
     "metadata": {},
     "output_type": "execute_result"
    }
   ],
   "source": [
    "### 构建模拟数据\n",
    "n = 30\n",
    "start_date = \"2024-05-01\"\n",
    "trade_time = pd.date_range(start=start_date, periods=n, freq='B')\n",
    "# 模拟价格数据\n",
    "np.random.seed(42)\n",
    "price = np.cumsum(np.random.randn(n)) + 100  # 模拟价格走势\n",
    "\n",
    "open_price = price + np.random.randn(n) * 0.5\n",
    "close_price = price + np.random.randn(n) * 0.5\n",
    "high_price = np.maximum(open_price, close_price) + np.random.rand(n)\n",
    "low_price = np.minimum(open_price, close_price) - np.random.rand(n)\n",
    "\n",
    "# 模拟成交量和成交额\n",
    "volume = np.random.randint(1000, 10000, size=n)\n",
    "amount = volume * close_price\n",
    "\n",
    "# 计算收益率（对数收益率）\n",
    "returns = np.log(close_price / np.roll(close_price, 1))\n",
    "returns[0] = 0  # 第一行无法计算对数收益率\n",
    "\n",
    "# 构建 DataFrame\n",
    "total_data = pd.DataFrame({\n",
    "    'trade_time': trade_time,\n",
    "    'open': open_price.round(2),\n",
    "    'high': high_price.round(2),\n",
    "    'low': low_price.round(2),\n",
    "    'close': close_price.round(2),\n",
    "    'volume': volume,\n",
    "    'amount': amount.round(2),\n",
    "    'return': returns.round(4)\n",
    "})\n",
    "total_data['code'] = symbol\n",
    "total_data = total_data.set_index(['trade_time', 'code'])\n",
    "total_data.head()"
   ]
  },
  {
   "cell_type": "code",
   "execution_count": 4,
   "metadata": {},
   "outputs": [
    {
     "name": "stdout",
     "output_type": "stream",
     "text": [
      "06-11 06:58 - Creating LLM service: openai model: deepseek-chat\n",
      "06-11 06:58 - Creating vector service: fassis\n",
      "06-11 06:58 - Creating embedding service: openai model: bge-m3\n",
      "06-11 06:58 - Creating vector service: fassis\n",
      "06-11 06:58 - Creating embedding service: openai model: bge-m3\n",
      "06-11 06:58 - Creating vector service: fassis\n",
      "06-11 06:58 - Creating embedding service: openai model: bge-m3\n",
      "06-11 06:58 - Creating vector service: fassis\n",
      "06-11 06:58 - Creating embedding service: openai model: bge-m3\n"
     ]
    }
   ],
   "source": [
    "### 创建 Agent\n",
    "agent = Agent.from_config(path=os.path.join(Agent.name))"
   ]
  },
  {
   "cell_type": "code",
   "execution_count": 5,
   "metadata": {},
   "outputs": [
    {
     "data": {
      "text/html": [
       "<div>\n",
       "<style scoped>\n",
       "    .dataframe tbody tr th:only-of-type {\n",
       "        vertical-align: middle;\n",
       "    }\n",
       "\n",
       "    .dataframe tbody tr th {\n",
       "        vertical-align: top;\n",
       "    }\n",
       "\n",
       "    .dataframe thead th {\n",
       "        text-align: right;\n",
       "    }\n",
       "</style>\n",
       "<table border=\"1\" class=\"dataframe\">\n",
       "  <thead>\n",
       "    <tr style=\"text-align: right;\">\n",
       "      <th></th>\n",
       "      <th></th>\n",
       "      <th>macd</th>\n",
       "      <th>signal</th>\n",
       "      <th>hist</th>\n",
       "    </tr>\n",
       "    <tr>\n",
       "      <th>trade_time</th>\n",
       "      <th>code</th>\n",
       "      <th></th>\n",
       "      <th></th>\n",
       "      <th></th>\n",
       "    </tr>\n",
       "  </thead>\n",
       "  <tbody>\n",
       "    <tr>\n",
       "      <th>2024-06-05</th>\n",
       "      <th>RB</th>\n",
       "      <td>-1.4107</td>\n",
       "      <td>-0.8750</td>\n",
       "      <td>-0.5357</td>\n",
       "    </tr>\n",
       "    <tr>\n",
       "      <th>2024-06-06</th>\n",
       "      <th>RB</th>\n",
       "      <td>-1.5090</td>\n",
       "      <td>-1.0018</td>\n",
       "      <td>-0.5072</td>\n",
       "    </tr>\n",
       "    <tr>\n",
       "      <th>2024-06-07</th>\n",
       "      <th>RB</th>\n",
       "      <td>-1.5624</td>\n",
       "      <td>-1.1139</td>\n",
       "      <td>-0.4485</td>\n",
       "    </tr>\n",
       "    <tr>\n",
       "      <th>2024-06-10</th>\n",
       "      <th>RB</th>\n",
       "      <td>-1.6686</td>\n",
       "      <td>-1.2249</td>\n",
       "      <td>-0.4438</td>\n",
       "    </tr>\n",
       "    <tr>\n",
       "      <th>2024-06-11</th>\n",
       "      <th>RB</th>\n",
       "      <td>-1.7145</td>\n",
       "      <td>-1.3228</td>\n",
       "      <td>-0.3917</td>\n",
       "    </tr>\n",
       "  </tbody>\n",
       "</table>\n",
       "</div>"
      ],
      "text/plain": [
       "                   macd  signal    hist\n",
       "trade_time code                        \n",
       "2024-06-05 RB   -1.4107 -0.8750 -0.5357\n",
       "2024-06-06 RB   -1.5090 -1.0018 -0.5072\n",
       "2024-06-07 RB   -1.5624 -1.1139 -0.4485\n",
       "2024-06-10 RB   -1.6686 -1.2249 -0.4438\n",
       "2024-06-11 RB   -1.7145 -1.3228 -0.3917"
      ]
     },
     "execution_count": 5,
     "metadata": {},
     "output_type": "execute_result"
    }
   ],
   "source": [
    "### 计算策略依赖的技术指标\n",
    "rsi_df = agent.calculate_rsi(total_data)\n",
    "\n",
    "macd_df = agent.calculate_macd(total_data)\n",
    "\n",
    "\n",
    "macd_df.tail()\n"
   ]
  },
  {
   "cell_type": "code",
   "execution_count": 6,
   "metadata": {},
   "outputs": [],
   "source": [
    "## 用于训练奖励机制\n",
    "portfolio = Portfolio(symbol=symbol, lookback_window_size=0)"
   ]
  },
  {
   "cell_type": "code",
   "execution_count": 7,
   "metadata": {},
   "outputs": [],
   "source": [
    "#### 首次训练\n",
    "trade_time = '2024-06-07'"
   ]
  },
  {
   "cell_type": "code",
   "execution_count": 8,
   "metadata": {},
   "outputs": [
    {
     "name": "stdout",
     "output_type": "stream",
     "text": [
      "2024-06-07 K线数据:\n",
      "开盘价: 95.09\n",
      "收盘价: 95.41\n",
      "最高价: 95.45\n",
      "最低价: 94.92\n",
      "成交量: 3557.0\n",
      "\n"
     ]
    }
   ],
   "source": [
    "### K线数据\n",
    "kline = KLine(date=trade_time,\n",
    "                      symbol=symbol,\n",
    "                      open=total_data.loc[(trade_time, symbol), 'open'],\n",
    "                      close=total_data.loc[(trade_time, symbol), 'close'],\n",
    "                      high=total_data.loc[(trade_time, symbol), 'high'],\n",
    "                      low=total_data.loc[(trade_time, symbol), 'low'],\n",
    "                      volume=total_data.loc[(trade_time, symbol), 'volume'])\n",
    "\n",
    "print(kline.format())"
   ]
  },
  {
   "cell_type": "code",
   "execution_count": 9,
   "metadata": {},
   "outputs": [
    {
     "name": "stdout",
     "output_type": "stream",
     "text": [
      "2024-06-07 技术指标:\n",
      "RSI14: 28.0967 \n",
      "MACD: -1.5624 \n",
      "\n"
     ]
    }
   ],
   "source": [
    "### 技术指标管理类\n",
    "indicator_list = IndicatorList(date=trade_time)\n",
    "indicator_list.set_indicator(rsi=rsi_df.loc[trade_time],\n",
    "                             macd=macd_df.loc[trade_time])\n",
    "\n",
    "print(indicator_list.format())"
   ]
  },
  {
   "cell_type": "code",
   "execution_count": 10,
   "metadata": {},
   "outputs": [
    {
     "name": "stdout",
     "output_type": "stream",
     "text": [
      "06-11 06:58 - {'text': '{\"date\":\"2024-06-07\",\"symbol\":\"RB\",\"index\":\"-1\",\"indicator\":{\"rsi\":{\"name\":\"RSI14\",\"id\":\"rsi\",\"values\":28.0967},\"macd\":{\"name\":\"MACD\",\"id\":\"macd\",\"values\":-1.5624},\"date\":\"2024-06-07\"},\"kline\":{\"date\":\"2024-06-07\",\"symbol\":\"RB\",\"open\":95.09,\"close\":95.41,\"high\":95.45,\"low\":94.92,\"volume\":3557.0}}', 'id': 0, 'important_score': 90.0, 'recency_score': 1.0, 'delta': 0, 'important_score_recency_compound_score': 1.9, 'access_counter': 0, 'date': '2024-06-07'}\n"
     ]
    }
   ],
   "source": [
    "### 存入记忆池\n",
    "agent.handing_data(trade_time, symbol, indicator_list, kline)"
   ]
  },
  {
   "cell_type": "code",
   "execution_count": 11,
   "metadata": {},
   "outputs": [
    {
     "name": "stdout",
     "output_type": "stream",
     "text": [
      "06-11 06:58 - reflection RB not in universe\n"
     ]
    }
   ],
   "source": [
    "### 获取记忆池中的数据\n",
    "short_prompt, reflection_prompt = agent.query_records(trade_time, symbol)"
   ]
  },
  {
   "cell_type": "code",
   "execution_count": 12,
   "metadata": {},
   "outputs": [
    {
     "name": "stdout",
     "output_type": "stream",
     "text": [
      "短期记忆索引ID: S0\n",
      "2024-06-07 技术指标:\n",
      "RSI14: 28.0967 \n",
      "MACD: -1.5624 \n",
      "2024-06-07 K线数据:\n",
      "开盘价: 95.09\n",
      "收盘价: 95.41\n",
      "最高价: 95.45\n",
      "最低价: 94.92\n",
      "成交量: 3557.0\n",
      "\n"
     ]
    }
   ],
   "source": [
    "print(short_prompt)"
   ]
  },
  {
   "cell_type": "code",
   "execution_count": 13,
   "metadata": {},
   "outputs": [],
   "source": [
    "### 获取收益率转化为动作\n",
    "future_data = total_data.loc[trade_time]\n",
    "future_data = future_data.to_dict(orient='records')[0]\n",
    "actions = 1 if future_data['return'] > 0 else -1"
   ]
  },
  {
   "cell_type": "code",
   "execution_count": 14,
   "metadata": {},
   "outputs": [
    {
     "name": "stdout",
     "output_type": "stream",
     "text": [
      "06-11 06:58 - \n",
      "【核心决策要素】(请综合评估，寻找强共振信号)\n",
      "    1. 评估MACD状态： 检查金叉/死叉情况、柱状图能量、与零轴的相对位置以及是否存在背离。\n",
      "    2. 检查RSI水平： 判断是否处于超买/超卖区、是否接近50中轴、以及是否存在背离。\n",
      "    3. 寻找信号共振点： 当MACD发出买入（卖出）信号，同时RSI也处于有利位置（如从超卖区向上，或突破50）时，买入（卖出）的确定性更高。\n",
      "    4. 警惕背离信号： 出现顶背离时，即使价格仍在上涨，也应警惕回调风险，考虑减仓或设置止损；出现底背离时，即使价格仍在下跌，也可开始关注潜在的反弹机会。\n",
      "    5. 结合周期分析： 短期信号需服从长期趋势。可参考不同时间周期的MACD和RSI表现，以提高决策准确性。\n",
      "\n",
      "以下是短期记忆:\n",
      "短期记忆索引ID: S0\n",
      "2024-06-07 技术指标:\n",
      "RSI14: 28.0967 \n",
      "MACD: -1.5624 \n",
      "2024-06-07 K线数据:\n",
      "开盘价: 95.09\n",
      "收盘价: 95.41\n",
      "最高价: 95.45\n",
      "最低价: 94.92\n",
      "成交量: 3557.0\n",
      "\n",
      "\n",
      "以下是过去反思记忆:\n",
      "\n",
      "\n",
      "\n",
      "观察到的金融市场事实：对于 $RB， 下一个交易日与当前交易日之间出现了上涨信号，涨跌幅为：0.0009\n",
      "\n",
      "根据短期记忆总结解释为什么 $RB  出现了 上涨 0.0009 的原因？\n",
      "你需要提供一个总结决策信息和引用了短期记忆,过去反思记忆 信息ID来支持你的总结。注意只需要根据信息如实总结，不需要任何建议信息.\n",
      "\n",
      "1. 必须严格按照以下JSON格式返回,分析内容必须中文描述.\n",
      "2. 分析内容中不要出现索引ID编号 如S70,M70,L70这样的编号\n",
      "3. 过去反思记忆用于验证当前短期记忆的有效性和准确性\n",
      "\n",
      "{\n",
      "\"short_memory_index\": \"S1,S2,S3\",\n",
      "\"reflection_memory_index\":\"R1,R2,R3\",\n",
      "\"summary_reason\": \"string\"\n",
      "}\n",
      "\n",
      "\n"
     ]
    },
    {
     "name": "stdout",
     "output_type": "stream",
     "text": [
      "06-11 06:58 - error:'dict' object has no attribute '__dict__'\n",
      "06-11 06:58 - \n",
      "【核心决策要素】(请综合评估，寻找强共振信号)\n",
      "    1. 评估MACD状态： 检查金叉/死叉情况、柱状图能量、与零轴的相对位置以及是否存在背离。\n",
      "    2. 检查RSI水平： 判断是否处于超买/超卖区、是否接近50中轴、以及是否存在背离。\n",
      "    3. 寻找信号共振点： 当MACD发出买入（卖出）信号，同时RSI也处于有利位置（如从超卖区向上，或突破50）时，买入（卖出）的确定性更高。\n",
      "    4. 警惕背离信号： 出现顶背离时，即使价格仍在上涨，也应警惕回调风险，考虑减仓或设置止损；出现底背离时，即使价格仍在下跌，也可开始关注潜在的反弹机会。\n",
      "    5. 结合周期分析： 短期信号需服从长期趋势。可参考不同时间周期的MACD和RSI表现，以提高决策准确性。\n",
      "\n",
      "以下是短期记忆:\n",
      "短期记忆索引ID: S0\n",
      "2024-06-07 技术指标:\n",
      "RSI14: 28.0967 \n",
      "MACD: -1.5624 \n",
      "2024-06-07 K线数据:\n",
      "开盘价: 95.09\n",
      "收盘价: 95.41\n",
      "最高价: 95.45\n",
      "最低价: 94.92\n",
      "成交量: 3557.0\n",
      "\n",
      "\n",
      "以下是过去反思记忆:\n",
      "\n",
      "\n",
      "\n",
      "观察到的金融市场事实：对于 $RB， 下一个交易日与当前交易日之间出现了上涨信号，涨跌幅为：0.0009\n",
      "\n",
      "根据短期记忆总结解释为什么 $RB  出现了 上涨 0.0009 的原因？\n",
      "你需要提供一个总结决策信息和引用了短期记忆,过去反思记忆 信息ID来支持你的总结。注意只需要根据信息如实总结，不需要任何建议信息.\n",
      "\n",
      "1. 必须严格按照以下JSON格式返回,分析内容必须中文描述.\n",
      "2. 分析内容中不要出现索引ID编号 如S70,M70,L70这样的编号\n",
      "3. 过去反思记忆用于验证当前短期记忆的有效性和准确性\n",
      "\n",
      "{\n",
      "\"short_memory_index\": \"S1,S2,S3\",\n",
      "\"reflection_memory_index\":\"R1,R2,R3\",\n",
      "\"summary_reason\": \"string\"\n",
      "}\n",
      "\n",
      "\n",
      "06-11 06:59 - error:'dict' object has no attribute '__dict__'\n",
      "06-11 06:59 - \n",
      "【核心决策要素】(请综合评估，寻找强共振信号)\n",
      "    1. 评估MACD状态： 检查金叉/死叉情况、柱状图能量、与零轴的相对位置以及是否存在背离。\n",
      "    2. 检查RSI水平： 判断是否处于超买/超卖区、是否接近50中轴、以及是否存在背离。\n",
      "    3. 寻找信号共振点： 当MACD发出买入（卖出）信号，同时RSI也处于有利位置（如从超卖区向上，或突破50）时，买入（卖出）的确定性更高。\n",
      "    4. 警惕背离信号： 出现顶背离时，即使价格仍在上涨，也应警惕回调风险，考虑减仓或设置止损；出现底背离时，即使价格仍在下跌，也可开始关注潜在的反弹机会。\n",
      "    5. 结合周期分析： 短期信号需服从长期趋势。可参考不同时间周期的MACD和RSI表现，以提高决策准确性。\n",
      "\n",
      "以下是短期记忆:\n",
      "短期记忆索引ID: S0\n",
      "2024-06-07 技术指标:\n",
      "RSI14: 28.0967 \n",
      "MACD: -1.5624 \n",
      "2024-06-07 K线数据:\n",
      "开盘价: 95.09\n",
      "收盘价: 95.41\n",
      "最高价: 95.45\n",
      "最低价: 94.92\n",
      "成交量: 3557.0\n",
      "\n",
      "\n",
      "以下是过去反思记忆:\n",
      "\n",
      "\n",
      "\n",
      "观察到的金融市场事实：对于 $RB， 下一个交易日与当前交易日之间出现了上涨信号，涨跌幅为：0.0009\n",
      "\n",
      "根据短期记忆总结解释为什么 $RB  出现了 上涨 0.0009 的原因？\n",
      "你需要提供一个总结决策信息和引用了短期记忆,过去反思记忆 信息ID来支持你的总结。注意只需要根据信息如实总结，不需要任何建议信息.\n",
      "\n",
      "1. 必须严格按照以下JSON格式返回,分析内容必须中文描述.\n",
      "2. 分析内容中不要出现索引ID编号 如S70,M70,L70这样的编号\n",
      "3. 过去反思记忆用于验证当前短期记忆的有效性和准确性\n",
      "\n",
      "{\n",
      "\"short_memory_index\": \"S1,S2,S3\",\n",
      "\"reflection_memory_index\":\"R1,R2,R3\",\n",
      "\"summary_reason\": \"string\"\n",
      "}\n",
      "\n",
      "\n",
      "06-11 06:59 - error:'dict' object has no attribute '__dict__'\n",
      "06-11 06:59 - \n",
      "【核心决策要素】(请综合评估，寻找强共振信号)\n",
      "    1. 评估MACD状态： 检查金叉/死叉情况、柱状图能量、与零轴的相对位置以及是否存在背离。\n",
      "    2. 检查RSI水平： 判断是否处于超买/超卖区、是否接近50中轴、以及是否存在背离。\n",
      "    3. 寻找信号共振点： 当MACD发出买入（卖出）信号，同时RSI也处于有利位置（如从超卖区向上，或突破50）时，买入（卖出）的确定性更高。\n",
      "    4. 警惕背离信号： 出现顶背离时，即使价格仍在上涨，也应警惕回调风险，考虑减仓或设置止损；出现底背离时，即使价格仍在下跌，也可开始关注潜在的反弹机会。\n",
      "    5. 结合周期分析： 短期信号需服从长期趋势。可参考不同时间周期的MACD和RSI表现，以提高决策准确性。\n",
      "\n",
      "以下是短期记忆:\n",
      "短期记忆索引ID: S0\n",
      "2024-06-07 技术指标:\n",
      "RSI14: 28.0967 \n",
      "MACD: -1.5624 \n",
      "2024-06-07 K线数据:\n",
      "开盘价: 95.09\n",
      "收盘价: 95.41\n",
      "最高价: 95.45\n",
      "最低价: 94.92\n",
      "成交量: 3557.0\n",
      "\n",
      "\n",
      "以下是过去反思记忆:\n",
      "\n",
      "\n",
      "\n",
      "观察到的金融市场事实：对于 $RB， 下一个交易日与当前交易日之间出现了上涨信号，涨跌幅为：0.0009\n",
      "\n",
      "根据短期记忆总结解释为什么 $RB  出现了 上涨 0.0009 的原因？\n",
      "你需要提供一个总结决策信息和引用了短期记忆,过去反思记忆 信息ID来支持你的总结。注意只需要根据信息如实总结，不需要任何建议信息.\n",
      "\n",
      "1. 必须严格按照以下JSON格式返回,分析内容必须中文描述.\n",
      "2. 分析内容中不要出现索引ID编号 如S70,M70,L70这样的编号\n",
      "3. 过去反思记忆用于验证当前短期记忆的有效性和准确性\n",
      "\n",
      "{\n",
      "\"short_memory_index\": \"S1,S2,S3\",\n",
      "\"reflection_memory_index\":\"R1,R2,R3\",\n",
      "\"summary_reason\": \"string\"\n",
      "}\n",
      "\n",
      "\n",
      "06-11 06:59 - error:'dict' object has no attribute '__dict__'\n",
      "06-11 07:00 - \n",
      "【核心决策要素】(请综合评估，寻找强共振信号)\n",
      "    1. 评估MACD状态： 检查金叉/死叉情况、柱状图能量、与零轴的相对位置以及是否存在背离。\n",
      "    2. 检查RSI水平： 判断是否处于超买/超卖区、是否接近50中轴、以及是否存在背离。\n",
      "    3. 寻找信号共振点： 当MACD发出买入（卖出）信号，同时RSI也处于有利位置（如从超卖区向上，或突破50）时，买入（卖出）的确定性更高。\n",
      "    4. 警惕背离信号： 出现顶背离时，即使价格仍在上涨，也应警惕回调风险，考虑减仓或设置止损；出现底背离时，即使价格仍在下跌，也可开始关注潜在的反弹机会。\n",
      "    5. 结合周期分析： 短期信号需服从长期趋势。可参考不同时间周期的MACD和RSI表现，以提高决策准确性。\n",
      "\n",
      "以下是短期记忆:\n",
      "短期记忆索引ID: S0\n",
      "2024-06-07 技术指标:\n",
      "RSI14: 28.0967 \n",
      "MACD: -1.5624 \n",
      "2024-06-07 K线数据:\n",
      "开盘价: 95.09\n",
      "收盘价: 95.41\n",
      "最高价: 95.45\n",
      "最低价: 94.92\n",
      "成交量: 3557.0\n",
      "\n",
      "\n",
      "以下是过去反思记忆:\n",
      "\n",
      "\n",
      "\n",
      "观察到的金融市场事实：对于 $RB， 下一个交易日与当前交易日之间出现了上涨信号，涨跌幅为：0.0009\n",
      "\n",
      "根据短期记忆总结解释为什么 $RB  出现了 上涨 0.0009 的原因？\n",
      "你需要提供一个总结决策信息和引用了短期记忆,过去反思记忆 信息ID来支持你的总结。注意只需要根据信息如实总结，不需要任何建议信息.\n",
      "\n",
      "1. 必须严格按照以下JSON格式返回,分析内容必须中文描述.\n",
      "2. 分析内容中不要出现索引ID编号 如S70,M70,L70这样的编号\n",
      "3. 过去反思记忆用于验证当前短期记忆的有效性和准确性\n",
      "\n",
      "{\n",
      "\"short_memory_index\": \"S1,S2,S3\",\n",
      "\"reflection_memory_index\":\"R1,R2,R3\",\n",
      "\"summary_reason\": \"string\"\n",
      "}\n",
      "\n",
      "\n",
      "06-11 07:00 - error:'dict' object has no attribute '__dict__'\n"
     ]
    }
   ],
   "source": [
    "### 自我总结\n",
    "response = agent.generate_suggestion(\n",
    "            date=date,\n",
    "            symbol=symbol,\n",
    "            short_prompt=short_prompt,\n",
    "            reflection_prompt=reflection_prompt,\n",
    "            future_data=future_data)"
   ]
  },
  {
   "cell_type": "code",
   "execution_count": 15,
   "metadata": {},
   "outputs": [
    {
     "ename": "AttributeError",
     "evalue": "'dict' object has no attribute '__dict__'",
     "output_type": "error",
     "traceback": [
      "\u001b[0;31m---------------------------------------------------------------------------\u001b[0m",
      "\u001b[0;31mAttributeError\u001b[0m                            Traceback (most recent call last)",
      "Cell \u001b[0;32mIn[15], line 1\u001b[0m\n\u001b[0;32m----> 1\u001b[0m \u001b[43mresponse\u001b[49m\u001b[38;5;241;43m.\u001b[39;49m\u001b[38;5;18;43m__dict__\u001b[39;49m\n",
      "\u001b[0;31mAttributeError\u001b[0m: 'dict' object has no attribute '__dict__'"
     ]
    }
   ],
   "source": [
    "response.__dict__"
   ]
  },
  {
   "cell_type": "code",
   "execution_count": 17,
   "metadata": {},
   "outputs": [],
   "source": [
    "### 更新市场信息\n",
    "portfolio.update_market_info(\n",
    "            cur_date=trade_time,\n",
    "            market_price=total_data.loc[trade_time, symbol]['close'],\n",
    "            rets=total_data.loc[trade_time, symbol]['return'])"
   ]
  },
  {
   "cell_type": "code",
   "execution_count": 20,
   "metadata": {},
   "outputs": [
    {
     "name": "stdout",
     "output_type": "stream",
     "text": [
      "06-03 07:47 - {'text': '根据短期记忆中的技术指标分析，RSI14值为28.0967，处于超卖区域，表明市场可能过度卖出，存在反弹的可能性。MACD值为-1.5624，虽然为负值，但结合RSI的超卖状态，市场可能开始出现买入信号。此外，收盘价从95.09上涨至95.41，显示出一定的上涨动能。因此，$RB出现了0.0009的上涨。', 'id': 1, 'important_score': 80.0, 'recency_score': 1.0, 'delta': 0, 'important_score_recency_compound_score': 1.8, 'access_counter': 0, 'date': '2024-06-07'}\n",
      "06-03 07:47 - Memory jump starts...\n",
      "06-03 07:47 - Memory jump ends...\n"
     ]
    }
   ],
   "source": [
    "portfolio.record_action(action={'direction': actions})\n",
    "feedback = portfolio.feedback()\n",
    "### 更新记忆\n",
    "agent.update_memory(trade_date=trade_time,\n",
    "                    symbol=symbol,\n",
    "                    response=response,\n",
    "                    feedback=feedback)"
   ]
  },
  {
   "cell_type": "code",
   "execution_count": 21,
   "metadata": {},
   "outputs": [
    {
     "ename": "FileExistsError",
     "evalue": "Path records/memory/obility/2024-06-07/indexor/obility already exists",
     "output_type": "error",
     "traceback": [
      "\u001b[0;31m---------------------------------------------------------------------------\u001b[0m",
      "\u001b[0;31mFileExistsError\u001b[0m                           Traceback (most recent call last)",
      "Cell \u001b[0;32mIn[21], line 3\u001b[0m\n\u001b[1;32m      1\u001b[0m \u001b[38;5;66;03m### 保存记忆点\u001b[39;00m\n\u001b[1;32m      2\u001b[0m \u001b[38;5;66;03m###  记忆点保存路径\u001b[39;00m\n\u001b[0;32m----> 3\u001b[0m \u001b[43magent\u001b[49m\u001b[38;5;241;43m.\u001b[39;49m\u001b[43msave_checkpoint\u001b[49m\u001b[43m(\u001b[49m\u001b[43mpath\u001b[49m\u001b[38;5;241;43m=\u001b[39;49m\u001b[43mos\u001b[49m\u001b[38;5;241;43m.\u001b[39;49m\u001b[43mpath\u001b[49m\u001b[38;5;241;43m.\u001b[39;49m\u001b[43mjoin\u001b[49m\u001b[43m(\u001b[49m\u001b[43mos\u001b[49m\u001b[38;5;241;43m.\u001b[39;49m\u001b[43menviron\u001b[49m\u001b[43m[\u001b[49m\u001b[38;5;124;43m'\u001b[39;49m\u001b[38;5;124;43mBASE_PATH\u001b[39;49m\u001b[38;5;124;43m'\u001b[39;49m\u001b[43m]\u001b[49m\u001b[43m,\u001b[49m\u001b[43m \u001b[49m\u001b[38;5;124;43m'\u001b[39;49m\u001b[38;5;124;43mmemory\u001b[39;49m\u001b[38;5;124;43m'\u001b[39;49m\u001b[43m,\u001b[49m\u001b[43m \u001b[49m\u001b[43magent\u001b[49m\u001b[38;5;241;43m.\u001b[39;49m\u001b[43mname\u001b[49m\u001b[43m,\u001b[49m\u001b[43m \u001b[49m\u001b[43mtrade_time\u001b[49m\u001b[43m)\u001b[49m\u001b[43m)\u001b[49m\n",
      "File \u001b[0;32m/workspace/worker/env/llms/lib/python3.10/site-packages/dichaos/agents/agents.py:40\u001b[0m, in \u001b[0;36mAgents.save_checkpoint\u001b[0;34m(self, path, force)\u001b[0m\n\u001b[1;32m     38\u001b[0m         shutil\u001b[38;5;241m.\u001b[39mrmtree(path)\n\u001b[1;32m     39\u001b[0m     \u001b[38;5;28;01melse\u001b[39;00m:\n\u001b[0;32m---> 40\u001b[0m         \u001b[38;5;28;01mraise\u001b[39;00m \u001b[38;5;167;01mFileExistsError\u001b[39;00m(\u001b[38;5;124mf\u001b[39m\u001b[38;5;124m\"\u001b[39m\u001b[38;5;124mPath \u001b[39m\u001b[38;5;132;01m{\u001b[39;00mpath\u001b[38;5;132;01m}\u001b[39;00m\u001b[38;5;124m already exists\u001b[39m\u001b[38;5;124m\"\u001b[39m)\n\u001b[1;32m     42\u001b[0m os\u001b[38;5;241m.\u001b[39mmakedirs(path)\n\u001b[1;32m     43\u001b[0m os\u001b[38;5;241m.\u001b[39mmakedirs(os\u001b[38;5;241m.\u001b[39mpath\u001b[38;5;241m.\u001b[39mjoin(path, \u001b[38;5;124m'\u001b[39m\u001b[38;5;124mbrain\u001b[39m\u001b[38;5;124m'\u001b[39m))\n",
      "\u001b[0;31mFileExistsError\u001b[0m: Path records/memory/obility/2024-06-07/indexor/obility already exists"
     ]
    }
   ],
   "source": [
    "### 保存记忆点\n",
    "###  记忆点保存路径\n",
    "agent.save_checkpoint(path=os.path.join(os.environ['BASE_PATH'], 'memory', agent.name, trade_time))"
   ]
  },
  {
   "cell_type": "code",
   "execution_count": 29,
   "metadata": {},
   "outputs": [],
   "source": [
    "## 再次训练\n",
    "trade_time = '2024-06-10'"
   ]
  },
  {
   "cell_type": "code",
   "execution_count": 30,
   "metadata": {},
   "outputs": [
    {
     "name": "stdout",
     "output_type": "stream",
     "text": [
      "2024-06-10 K线数据:\n",
      "开盘价: 94.81\n",
      "收盘价: 94.38\n",
      "最高价: 95.42\n",
      "最低价: 93.69\n",
      "成交量: 6592.0\n",
      "\n"
     ]
    }
   ],
   "source": [
    "### K线数据\n",
    "kline = KLine(date=trade_time,\n",
    "                      symbol=symbol,\n",
    "                      open=total_data.loc[(trade_time, symbol), 'open'],\n",
    "                      close=total_data.loc[(trade_time, symbol), 'close'],\n",
    "                      high=total_data.loc[(trade_time, symbol), 'high'],\n",
    "                      low=total_data.loc[(trade_time, symbol), 'low'],\n",
    "                      volume=total_data.loc[(trade_time, symbol), 'volume'])\n",
    "\n",
    "print(kline.format())"
   ]
  },
  {
   "cell_type": "code",
   "execution_count": 31,
   "metadata": {},
   "outputs": [
    {
     "name": "stdout",
     "output_type": "stream",
     "text": [
      "2024-06-10 技术指标:\n",
      "RSI14: 33.7691 \n",
      "MACD: -1.6686 \n",
      "\n"
     ]
    }
   ],
   "source": [
    "### 技术指标管理类\n",
    "indicator_list = IndicatorList(date=trade_time)\n",
    "indicator_list.set_indicator(rsi=rsi_df.loc[trade_time],\n",
    "                             macd=macd_df.loc[trade_time])\n",
    "\n",
    "print(indicator_list.format())"
   ]
  },
  {
   "cell_type": "code",
   "execution_count": 32,
   "metadata": {},
   "outputs": [
    {
     "name": "stdout",
     "output_type": "stream",
     "text": [
      "06-03 07:52 - {'text': '{\"date\":\"2024-06-10\",\"symbol\":\"RB\",\"index\":\"-1\",\"indicator\":{\"rsi\":{\"name\":\"RSI14\",\"id\":\"rsi\",\"values\":33.7691},\"macd\":{\"name\":\"MACD\",\"id\":\"macd\",\"values\":-1.6686},\"date\":\"2024-06-10\"},\"kline\":{\"date\":\"2024-06-10\",\"symbol\":\"RB\",\"open\":94.81,\"close\":94.38,\"high\":95.42,\"low\":93.69,\"volume\":6592.0}}', 'id': 2, 'important_score': 50.0, 'recency_score': 1.0, 'delta': 0, 'important_score_recency_compound_score': 1.5, 'access_counter': 0, 'date': '2024-06-10'}\n"
     ]
    }
   ],
   "source": [
    "### 存入记忆池\n",
    "agent.handing_data(trade_time, symbol, indicator_list, kline)"
   ]
  },
  {
   "cell_type": "code",
   "execution_count": 33,
   "metadata": {},
   "outputs": [],
   "source": [
    "### 获取记忆池中的数据\n",
    "short_prompt, reflection_prompt = agent.query_records(trade_time, symbol)"
   ]
  },
  {
   "cell_type": "code",
   "execution_count": 34,
   "metadata": {},
   "outputs": [
    {
     "name": "stdout",
     "output_type": "stream",
     "text": [
      "短期记忆索引ID: S2\n",
      "2024-06-10 技术指标:\n",
      "RSI14: 33.7691 \n",
      "MACD: -1.6686 \n",
      "2024-06-10 K线数据:\n",
      "开盘价: 94.81\n",
      "收盘价: 94.38\n",
      "最高价: 95.42\n",
      "最低价: 93.69\n",
      "成交量: 6592.0\n",
      "短期记忆索引ID: S1\n",
      "2024-06-10 技术指标:\n",
      "RSI14: 33.7691 \n",
      "MACD: -1.6686 \n",
      "2024-06-10 K线数据:\n",
      "开盘价: 94.81\n",
      "收盘价: 94.38\n",
      "最高价: 95.42\n",
      "最低价: 93.69\n",
      "成交量: 6592.0\n",
      "\n"
     ]
    }
   ],
   "source": [
    "print(short_prompt)"
   ]
  },
  {
   "cell_type": "code",
   "execution_count": 35,
   "metadata": {},
   "outputs": [
    {
     "name": "stdout",
     "output_type": "stream",
     "text": [
      "过去反思记忆索引ID:R1  内容:根据短期记忆中的技术指标分析，RSI14值为28.0967，处于超卖区域，表明市场可能过度卖出，存在反弹的可能性。MACD值为-1.5624，虽然为负值，但结合RSI的超卖状态，市场可能开始出现买入信号。此外，收盘价从95.09上涨至95.41，显示出一定的上涨动能。因此，$RB出现了0.0009的上涨。\n",
      "过去反思记忆索引ID:R0  内容:根据短期记忆中的技术指标分析，RSI14值为28.0967，处于超卖区域，表明市场可能过度卖出，存在反弹的可能性。MACD值为-1.5624，虽然为负值，但结合RSI的超卖状态，市场可能开始出现买入信号。此外，收盘价从95.09上涨至95.41，显示出一定的上涨动能。因此，$RB出现了0.0009的上涨。\n",
      "\n"
     ]
    }
   ],
   "source": [
    "print(reflection_prompt)"
   ]
  },
  {
   "cell_type": "code",
   "execution_count": 36,
   "metadata": {},
   "outputs": [],
   "source": [
    "### 获取收益率转化为动作\n",
    "future_data = total_data.loc[trade_time]\n",
    "future_data = future_data.to_dict(orient='records')[0]\n",
    "actions = 1 if future_data['return'] > 0 else -1"
   ]
  },
  {
   "cell_type": "code",
   "execution_count": 37,
   "metadata": {},
   "outputs": [
    {
     "name": "stdout",
     "output_type": "stream",
     "text": [
      "06-03 07:52 - \n",
      "【核心决策要素】(请综合评估，寻找强共振信号)\n",
      "    1. 评估MACD状态： 检查金叉/死叉情况、柱状图能量、与零轴的相对位置以及是否存在背离。\n",
      "    2. 检查RSI水平： 判断是否处于超买/超卖区、是否接近50中轴、以及是否存在背离。\n",
      "    3. 寻找信号共振点： 当MACD发出买入（卖出）信号，同时RSI也处于有利位置（如从超卖区向上，或突破50）时，买入（卖出）的确定性更高。\n",
      "    4. 警惕背离信号： 出现顶背离时，即使价格仍在上涨，也应警惕回调风险，考虑减仓或设置止损；出现底背离时，即使价格仍在下跌，也可开始关注潜在的反弹机会。\n",
      "    5. 结合周期分析： 短期信号需服从长期趋势。可参考不同时间周期的MACD和RSI表现，以提高决策准确性。\n",
      "\n",
      "以下是短期记忆:\n",
      "短期记忆索引ID: S2\n",
      "2024-06-10 技术指标:\n",
      "RSI14: 33.7691 \n",
      "MACD: -1.6686 \n",
      "2024-06-10 K线数据:\n",
      "开盘价: 94.81\n",
      "收盘价: 94.38\n",
      "最高价: 95.42\n",
      "最低价: 93.69\n",
      "成交量: 6592.0\n",
      "短期记忆索引ID: S1\n",
      "2024-06-10 技术指标:\n",
      "RSI14: 33.7691 \n",
      "MACD: -1.6686 \n",
      "2024-06-10 K线数据:\n",
      "开盘价: 94.81\n",
      "收盘价: 94.38\n",
      "最高价: 95.42\n",
      "最低价: 93.69\n",
      "成交量: 6592.0\n",
      "\n",
      "\n",
      "以下是过去反思记忆:\n",
      "过去反思记忆索引ID:R1  内容:根据短期记忆中的技术指标分析，RSI14值为28.0967，处于超卖区域，表明市场可能过度卖出，存在反弹的可能性。MACD值为-1.5624，虽然为负值，但结合RSI的超卖状态，市场可能开始出现买入信号。此外，收盘价从95.09上涨至95.41，显示出一定的上涨动能。因此，$RB出现了0.0009的上涨。\n",
      "过去反思记忆索引ID:R0  内容:根据短期记忆中的技术指标分析，RSI14值为28.0967，处于超卖区域，表明市场可能过度卖出，存在反弹的可能性。MACD值为-1.5624，虽然为负值，但结合RSI的超卖状态，市场可能开始出现买入信号。此外，收盘价从95.09上涨至95.41，显示出一定的上涨动能。因此，$RB出现了0.0009的上涨。\n",
      "\n",
      "\n",
      "\n",
      "观察到的金融市场事实：对于 $RB， 下一个交易日与当前交易日之间出现了下跌信号，涨跌幅为：-0.0109\n",
      "\n",
      "根据短期记忆总结解释为什么 $RB  出现了 下跌 -0.0109 的原因？\n",
      "你需要提供一个总结决策信息和引用了短期记忆,过去反思记忆 信息ID来支持你的总结。注意只需要根据信息如实总结，不需要任何建议信息.\n",
      "\n",
      "1. 必须严格按照以下JSON格式返回,分析内容必须中文描述.\n",
      "2. 分析内容中不要出现索引ID编号 如S70,M70,L70这样的编号\n",
      "3. 过去反思记忆用于验证当前短期记忆的有效性和准确性\n",
      "\n",
      "{\n",
      "\"short_memory_index\": \"S1,S2,S3\",\n",
      "\"reflection_memory_index\":\"R1,R2,R3\",\n",
      "\"summary_reason\": \"string\"\n",
      "}\n",
      "\n",
      "\n"
     ]
    }
   ],
   "source": [
    "### 自我总结\n",
    "response = agent.generate_suggestion(\n",
    "            date=date,\n",
    "            symbol=symbol,\n",
    "            short_prompt=short_prompt,\n",
    "            reflection_prompt=reflection_prompt,\n",
    "            future_data=future_data)"
   ]
  },
  {
   "cell_type": "code",
   "execution_count": 38,
   "metadata": {},
   "outputs": [
    {
     "data": {
      "text/plain": [
       "{'short_memory_index': 'S1,S2',\n",
       " 'reflection_memory_index': 'R1,R0',\n",
       " 'summary_reason': '根据短期记忆中的技术指标分析，RSI14值为33.7691，虽然未达到超卖区域，但接近较低水平，表明市场可能开始出现卖出压力。MACD值为-1.6686，显示市场动能向下。结合K线数据，收盘价从94.81下跌至94.38，且最高价和最低价均显示下跌趋势，成交量6592.0表明市场参与度一般。过去反思记忆中提到RSI14值处于超卖区域时市场可能出现反弹，但当前RSI14值未达超卖区域，且MACD显示负值，市场动能向下，因此$RB出现了下跌-0.0109。'}"
      ]
     },
     "execution_count": 38,
     "metadata": {},
     "output_type": "execute_result"
    }
   ],
   "source": [
    "response.__dict__"
   ]
  },
  {
   "cell_type": "code",
   "execution_count": 39,
   "metadata": {},
   "outputs": [],
   "source": [
    "### 更新市场信息\n",
    "portfolio.update_market_info(\n",
    "            cur_date=trade_time,\n",
    "            market_price=total_data.loc[trade_time, symbol]['close'],\n",
    "            rets=total_data.loc[trade_time, symbol]['return'])"
   ]
  },
  {
   "cell_type": "code",
   "execution_count": 40,
   "metadata": {},
   "outputs": [
    {
     "name": "stdout",
     "output_type": "stream",
     "text": [
      "06-03 07:53 - {'text': '根据短期记忆中的技术指标分析，RSI14值为33.7691，虽然未达到超卖区域，但接近较低水平，表明市场可能开始出现卖出压力。MACD值为-1.6686，显示市场动能向下。结合K线数据，收盘价从94.81下跌至94.38，且最高价和最低价均显示下跌趋势，成交量6592.0表明市场参与度一般。过去反思记忆中提到RSI14值处于超卖区域时市场可能出现反弹，但当前RSI14值未达超卖区域，且MACD显示负值，市场动能向下，因此$RB出现了下跌-0.0109。', 'id': 2, 'important_score': 80.0, 'recency_score': 1.0, 'delta': 0, 'important_score_recency_compound_score': 1.8, 'access_counter': 0, 'date': '2024-06-10'}\n",
      "06-03 07:53 - Memory jump starts...\n",
      "06-03 07:53 - Memory jump ends...\n"
     ]
    }
   ],
   "source": [
    "portfolio.record_action(action={'direction': actions})\n",
    "feedback = portfolio.feedback()\n",
    "### 更新记忆\n",
    "agent.update_memory(trade_date=trade_time,\n",
    "                    symbol=symbol,\n",
    "                    response=response,\n",
    "                    feedback=feedback)"
   ]
  },
  {
   "cell_type": "code",
   "execution_count": 41,
   "metadata": {},
   "outputs": [
    {
     "ename": "FileExistsError",
     "evalue": "Path records/memory/obility/2024-06-10/indexor/obility already exists",
     "output_type": "error",
     "traceback": [
      "\u001b[0;31m---------------------------------------------------------------------------\u001b[0m",
      "\u001b[0;31mFileExistsError\u001b[0m                           Traceback (most recent call last)",
      "Cell \u001b[0;32mIn[41], line 2\u001b[0m\n\u001b[1;32m      1\u001b[0m \u001b[38;5;66;03m### 保存记忆点\u001b[39;00m\n\u001b[0;32m----> 2\u001b[0m \u001b[43magent\u001b[49m\u001b[38;5;241;43m.\u001b[39;49m\u001b[43msave_checkpoint\u001b[49m\u001b[43m(\u001b[49m\u001b[43mpath\u001b[49m\u001b[38;5;241;43m=\u001b[39;49m\u001b[43mos\u001b[49m\u001b[38;5;241;43m.\u001b[39;49m\u001b[43mpath\u001b[49m\u001b[38;5;241;43m.\u001b[39;49m\u001b[43mjoin\u001b[49m\u001b[43m(\u001b[49m\u001b[43mos\u001b[49m\u001b[38;5;241;43m.\u001b[39;49m\u001b[43menviron\u001b[49m\u001b[43m[\u001b[49m\u001b[38;5;124;43m'\u001b[39;49m\u001b[38;5;124;43mBASE_PATH\u001b[39;49m\u001b[38;5;124;43m'\u001b[39;49m\u001b[43m]\u001b[49m\u001b[43m,\u001b[49m\u001b[43m \u001b[49m\u001b[38;5;124;43m'\u001b[39;49m\u001b[38;5;124;43mmemory\u001b[39;49m\u001b[38;5;124;43m'\u001b[39;49m\u001b[43m,\u001b[49m\u001b[43m \u001b[49m\u001b[43magent\u001b[49m\u001b[38;5;241;43m.\u001b[39;49m\u001b[43mname\u001b[49m\u001b[43m,\u001b[49m\u001b[43m \u001b[49m\u001b[43mtrade_time\u001b[49m\u001b[43m)\u001b[49m\u001b[43m)\u001b[49m\n",
      "File \u001b[0;32m/workspace/worker/env/llms/lib/python3.10/site-packages/dichaos/agents/agents.py:40\u001b[0m, in \u001b[0;36mAgents.save_checkpoint\u001b[0;34m(self, path, force)\u001b[0m\n\u001b[1;32m     38\u001b[0m         shutil\u001b[38;5;241m.\u001b[39mrmtree(path)\n\u001b[1;32m     39\u001b[0m     \u001b[38;5;28;01melse\u001b[39;00m:\n\u001b[0;32m---> 40\u001b[0m         \u001b[38;5;28;01mraise\u001b[39;00m \u001b[38;5;167;01mFileExistsError\u001b[39;00m(\u001b[38;5;124mf\u001b[39m\u001b[38;5;124m\"\u001b[39m\u001b[38;5;124mPath \u001b[39m\u001b[38;5;132;01m{\u001b[39;00mpath\u001b[38;5;132;01m}\u001b[39;00m\u001b[38;5;124m already exists\u001b[39m\u001b[38;5;124m\"\u001b[39m)\n\u001b[1;32m     42\u001b[0m os\u001b[38;5;241m.\u001b[39mmakedirs(path)\n\u001b[1;32m     43\u001b[0m os\u001b[38;5;241m.\u001b[39mmakedirs(os\u001b[38;5;241m.\u001b[39mpath\u001b[38;5;241m.\u001b[39mjoin(path, \u001b[38;5;124m'\u001b[39m\u001b[38;5;124mbrain\u001b[39m\u001b[38;5;124m'\u001b[39m))\n",
      "\u001b[0;31mFileExistsError\u001b[0m: Path records/memory/obility/2024-06-10/indexor/obility already exists"
     ]
    }
   ],
   "source": [
    "### 保存记忆点\n",
    "agent.save_checkpoint(path=os.path.join(os.environ['BASE_PATH'], 'memory', agent.name, trade_time))"
   ]
  },
  {
   "cell_type": "code",
   "execution_count": null,
   "metadata": {},
   "outputs": [],
   "source": []
  },
  {
   "cell_type": "code",
   "execution_count": null,
   "metadata": {},
   "outputs": [],
   "source": []
  },
  {
   "cell_type": "code",
   "execution_count": null,
   "metadata": {},
   "outputs": [],
   "source": []
  }
 ],
 "metadata": {
  "kernelspec": {
   "display_name": "Python 3",
   "language": "python",
   "name": "python3"
  },
  "language_info": {
   "codemirror_mode": {
    "name": "ipython",
    "version": 3
   },
   "file_extension": ".py",
   "mimetype": "text/x-python",
   "name": "python",
   "nbconvert_exporter": "python",
   "pygments_lexer": "ipython3",
   "version": "3.10.17"
  }
 },
 "nbformat": 4,
 "nbformat_minor": 2
}
