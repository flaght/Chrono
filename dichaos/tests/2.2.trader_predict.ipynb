{
 "cells": [
  {
   "cell_type": "code",
   "execution_count": 1,
   "metadata": {},
   "outputs": [
    {
     "name": "stdout",
     "output_type": "stream",
     "text": [
      "TA-Lib is not available: No module named 'talib'\n"
     ]
    }
   ],
   "source": [
    "import sys, os, pdb\n",
    "import pandas as pd\n",
    "import numpy as np\n",
    "from datetime import date, timedelta\n",
    "from dotenv import load_dotenv\n",
    "\n",
    "load_dotenv()\n",
    "\n",
    "from obility.agent import Agent\n",
    "from obility.model import IndicatorList, KLine\n",
    "from dichaos.agents.indexor.porfolio import Portfolio\n",
    "from dichaos.kdutils import kd_logger"
   ]
  },
  {
   "cell_type": "code",
   "execution_count": 2,
   "metadata": {},
   "outputs": [],
   "source": [
    "symbol = 'RB'"
   ]
  },
  {
   "cell_type": "code",
   "execution_count": 3,
   "metadata": {},
   "outputs": [
    {
     "data": {
      "text/html": [
       "<div>\n",
       "<style scoped>\n",
       "    .dataframe tbody tr th:only-of-type {\n",
       "        vertical-align: middle;\n",
       "    }\n",
       "\n",
       "    .dataframe tbody tr th {\n",
       "        vertical-align: top;\n",
       "    }\n",
       "\n",
       "    .dataframe thead th {\n",
       "        text-align: right;\n",
       "    }\n",
       "</style>\n",
       "<table border=\"1\" class=\"dataframe\">\n",
       "  <thead>\n",
       "    <tr style=\"text-align: right;\">\n",
       "      <th></th>\n",
       "      <th></th>\n",
       "      <th>open</th>\n",
       "      <th>high</th>\n",
       "      <th>low</th>\n",
       "      <th>close</th>\n",
       "      <th>volume</th>\n",
       "      <th>amount</th>\n",
       "      <th>return</th>\n",
       "    </tr>\n",
       "    <tr>\n",
       "      <th>trade_time</th>\n",
       "      <th>code</th>\n",
       "      <th></th>\n",
       "      <th></th>\n",
       "      <th></th>\n",
       "      <th></th>\n",
       "      <th></th>\n",
       "      <th></th>\n",
       "      <th></th>\n",
       "    </tr>\n",
       "  </thead>\n",
       "  <tbody>\n",
       "    <tr>\n",
       "      <th>2024-07-08</th>\n",
       "      <th>RB</th>\n",
       "      <td>96.49</td>\n",
       "      <td>96.79</td>\n",
       "      <td>95.55</td>\n",
       "      <td>95.77</td>\n",
       "      <td>5199</td>\n",
       "      <td>497920.41</td>\n",
       "      <td>0.0028</td>\n",
       "    </tr>\n",
       "    <tr>\n",
       "      <th>2024-07-09</th>\n",
       "      <th>RB</th>\n",
       "      <td>94.45</td>\n",
       "      <td>95.61</td>\n",
       "      <td>93.81</td>\n",
       "      <td>95.33</td>\n",
       "      <td>9445</td>\n",
       "      <td>900391.18</td>\n",
       "      <td>-0.0046</td>\n",
       "    </tr>\n",
       "    <tr>\n",
       "      <th>2024-07-10</th>\n",
       "      <th>RB</th>\n",
       "      <td>95.09</td>\n",
       "      <td>95.45</td>\n",
       "      <td>94.92</td>\n",
       "      <td>95.41</td>\n",
       "      <td>3557</td>\n",
       "      <td>339381.56</td>\n",
       "      <td>0.0009</td>\n",
       "    </tr>\n",
       "    <tr>\n",
       "      <th>2024-07-11</th>\n",
       "      <th>RB</th>\n",
       "      <td>94.81</td>\n",
       "      <td>95.42</td>\n",
       "      <td>93.69</td>\n",
       "      <td>94.38</td>\n",
       "      <td>6592</td>\n",
       "      <td>622168.83</td>\n",
       "      <td>-0.0109</td>\n",
       "    </tr>\n",
       "    <tr>\n",
       "      <th>2024-07-12</th>\n",
       "      <th>RB</th>\n",
       "      <td>94.84</td>\n",
       "      <td>95.35</td>\n",
       "      <td>94.23</td>\n",
       "      <td>94.61</td>\n",
       "      <td>1098</td>\n",
       "      <td>103884.23</td>\n",
       "      <td>0.0024</td>\n",
       "    </tr>\n",
       "  </tbody>\n",
       "</table>\n",
       "</div>"
      ],
      "text/plain": [
       "                  open   high    low  close  volume     amount  return\n",
       "trade_time code                                                       \n",
       "2024-07-08 RB    96.49  96.79  95.55  95.77    5199  497920.41  0.0028\n",
       "2024-07-09 RB    94.45  95.61  93.81  95.33    9445  900391.18 -0.0046\n",
       "2024-07-10 RB    95.09  95.45  94.92  95.41    3557  339381.56  0.0009\n",
       "2024-07-11 RB    94.81  95.42  93.69  94.38    6592  622168.83 -0.0109\n",
       "2024-07-12 RB    94.84  95.35  94.23  94.61    1098  103884.23  0.0024"
      ]
     },
     "execution_count": 3,
     "metadata": {},
     "output_type": "execute_result"
    }
   ],
   "source": [
    "### 构建模拟数据\n",
    "n = 30\n",
    "start_date = \"2024-06-01\"\n",
    "trade_time = pd.date_range(start=start_date, periods=n, freq='B')\n",
    "# 模拟价格数据\n",
    "np.random.seed(42)\n",
    "price = np.cumsum(np.random.randn(n)) + 100  # 模拟价格走势\n",
    "\n",
    "open_price = price + np.random.randn(n) * 0.5\n",
    "close_price = price + np.random.randn(n) * 0.5\n",
    "high_price = np.maximum(open_price, close_price) + np.random.rand(n)\n",
    "low_price = np.minimum(open_price, close_price) - np.random.rand(n)\n",
    "\n",
    "# 模拟成交量和成交额\n",
    "volume = np.random.randint(1000, 10000, size=n)\n",
    "amount = volume * close_price\n",
    "\n",
    "# 计算收益率（对数收益率）\n",
    "returns = np.log(close_price / np.roll(close_price, 1))\n",
    "returns[0] = 0  # 第一行无法计算对数收益率\n",
    "\n",
    "# 构建 DataFrame\n",
    "total_data = pd.DataFrame({\n",
    "    'trade_time': trade_time,\n",
    "    'open': open_price.round(2),\n",
    "    'high': high_price.round(2),\n",
    "    'low': low_price.round(2),\n",
    "    'close': close_price.round(2),\n",
    "    'volume': volume,\n",
    "    'amount': amount.round(2),\n",
    "    'return': returns.round(4)\n",
    "})\n",
    "total_data['code'] = symbol\n",
    "total_data = total_data.set_index(['trade_time', 'code'])\n",
    "total_data.tail()"
   ]
  },
  {
   "cell_type": "code",
   "execution_count": 4,
   "metadata": {},
   "outputs": [
    {
     "name": "stdout",
     "output_type": "stream",
     "text": [
      "06-03 07:14 - Creating vector service: fassis\n",
      "06-03 07:14 - Loading state_dict from records/memory/obility/2024-06-10/indexor/obility/brain/short_term_memory/state_dict.pkl\n",
      "06-03 07:14 - Loading content_metadata from records/memory/obility/2024-06-10/indexor/obility/brain/short_term_memory/content_metadata.pkl\n",
      "06-03 07:14 - Loading FAISS index for symbol 'RB' from records/memory/obility/2024-06-10/indexor/obility/brain/short_term_memory/RB.index\n",
      "06-03 07:14 - Successfully reconstructed universe for 1 symbols.\n",
      "06-03 07:14 - Creating embedding service: openai model: bge-m3\n",
      "06-03 07:14 - Restored id_generator. Next ID will be: 2\n",
      "06-03 07:14 - Creating vector service: fassis\n",
      "06-03 07:14 - Loading state_dict from records/memory/obility/2024-06-10/indexor/obility/brain/mid_term_memory/state_dict.pkl\n",
      "06-03 07:14 - Loading content_metadata from records/memory/obility/2024-06-10/indexor/obility/brain/mid_term_memory/content_metadata.pkl\n",
      "06-03 07:14 - Successfully reconstructed universe for 0 symbols.\n",
      "06-03 07:14 - Creating embedding service: openai model: bge-m3\n",
      "06-03 07:14 - Restored id_generator. Next ID will be: 0\n",
      "06-03 07:14 - Creating vector service: fassis\n",
      "06-03 07:14 - Loading state_dict from records/memory/obility/2024-06-10/indexor/obility/brain/long_term_memory/state_dict.pkl\n",
      "06-03 07:14 - Loading content_metadata from records/memory/obility/2024-06-10/indexor/obility/brain/long_term_memory/content_metadata.pkl\n",
      "06-03 07:14 - Successfully reconstructed universe for 0 symbols.\n",
      "06-03 07:14 - Creating embedding service: openai model: bge-m3\n",
      "06-03 07:14 - Restored id_generator. Next ID will be: 0\n",
      "06-03 07:14 - Creating vector service: fassis\n",
      "06-03 07:14 - Loading state_dict from records/memory/obility/2024-06-10/indexor/obility/brain/reflection_memory/state_dict.pkl\n",
      "06-03 07:14 - Loading content_metadata from records/memory/obility/2024-06-10/indexor/obility/brain/reflection_memory/content_metadata.pkl\n",
      "06-03 07:14 - Loading FAISS index for symbol 'RB' from records/memory/obility/2024-06-10/indexor/obility/brain/reflection_memory/RB.index\n",
      "06-03 07:14 - Successfully reconstructed universe for 1 symbols.\n",
      "06-03 07:14 - Creating embedding service: openai model: bge-m3\n",
      "06-03 07:14 - Restored id_generator. Next ID will be: 2\n",
      "06-03 07:14 - Creating LLM service: openai model: deepseek-chat\n",
      "06-03 07:14 - Creating vector service: fassis\n",
      "06-03 07:14 - Creating embedding service: openai model: bge-m3\n",
      "06-03 07:14 - Creating vector service: fassis\n",
      "06-03 07:14 - Creating embedding service: openai model: bge-m3\n",
      "06-03 07:14 - Creating vector service: fassis\n",
      "06-03 07:14 - Creating embedding service: openai model: bge-m3\n",
      "06-03 07:14 - Creating vector service: fassis\n",
      "06-03 07:14 - Creating embedding service: openai model: bge-m3\n"
     ]
    }
   ],
   "source": [
    "### 加载已经训练的agent\n",
    "agent = Agent.load_checkpoint(path=os.path.join(os.environ['BASE_PATH'], 'memory', Agent.name, '2024-06-10'))"
   ]
  },
  {
   "cell_type": "code",
   "execution_count": 5,
   "metadata": {},
   "outputs": [
    {
     "data": {
      "text/html": [
       "<div>\n",
       "<style scoped>\n",
       "    .dataframe tbody tr th:only-of-type {\n",
       "        vertical-align: middle;\n",
       "    }\n",
       "\n",
       "    .dataframe tbody tr th {\n",
       "        vertical-align: top;\n",
       "    }\n",
       "\n",
       "    .dataframe thead th {\n",
       "        text-align: right;\n",
       "    }\n",
       "</style>\n",
       "<table border=\"1\" class=\"dataframe\">\n",
       "  <thead>\n",
       "    <tr style=\"text-align: right;\">\n",
       "      <th></th>\n",
       "      <th></th>\n",
       "      <th>macd</th>\n",
       "      <th>signal</th>\n",
       "      <th>hist</th>\n",
       "    </tr>\n",
       "    <tr>\n",
       "      <th>trade_time</th>\n",
       "      <th>code</th>\n",
       "      <th></th>\n",
       "      <th></th>\n",
       "      <th></th>\n",
       "    </tr>\n",
       "  </thead>\n",
       "  <tbody>\n",
       "    <tr>\n",
       "      <th>2024-07-08</th>\n",
       "      <th>RB</th>\n",
       "      <td>-1.4107</td>\n",
       "      <td>-0.8750</td>\n",
       "      <td>-0.5357</td>\n",
       "    </tr>\n",
       "    <tr>\n",
       "      <th>2024-07-09</th>\n",
       "      <th>RB</th>\n",
       "      <td>-1.5090</td>\n",
       "      <td>-1.0018</td>\n",
       "      <td>-0.5072</td>\n",
       "    </tr>\n",
       "    <tr>\n",
       "      <th>2024-07-10</th>\n",
       "      <th>RB</th>\n",
       "      <td>-1.5624</td>\n",
       "      <td>-1.1139</td>\n",
       "      <td>-0.4485</td>\n",
       "    </tr>\n",
       "    <tr>\n",
       "      <th>2024-07-11</th>\n",
       "      <th>RB</th>\n",
       "      <td>-1.6686</td>\n",
       "      <td>-1.2249</td>\n",
       "      <td>-0.4438</td>\n",
       "    </tr>\n",
       "    <tr>\n",
       "      <th>2024-07-12</th>\n",
       "      <th>RB</th>\n",
       "      <td>-1.7145</td>\n",
       "      <td>-1.3228</td>\n",
       "      <td>-0.3917</td>\n",
       "    </tr>\n",
       "  </tbody>\n",
       "</table>\n",
       "</div>"
      ],
      "text/plain": [
       "                   macd  signal    hist\n",
       "trade_time code                        \n",
       "2024-07-08 RB   -1.4107 -0.8750 -0.5357\n",
       "2024-07-09 RB   -1.5090 -1.0018 -0.5072\n",
       "2024-07-10 RB   -1.5624 -1.1139 -0.4485\n",
       "2024-07-11 RB   -1.6686 -1.2249 -0.4438\n",
       "2024-07-12 RB   -1.7145 -1.3228 -0.3917"
      ]
     },
     "execution_count": 5,
     "metadata": {},
     "output_type": "execute_result"
    }
   ],
   "source": [
    "### 计算策略依赖的技术指标\n",
    "rsi_df = agent.calculate_rsi(total_data)\n",
    "\n",
    "macd_df = agent.calculate_macd(total_data)\n",
    "\n",
    "\n",
    "macd_df.tail()"
   ]
  },
  {
   "cell_type": "code",
   "execution_count": 6,
   "metadata": {},
   "outputs": [],
   "source": [
    "## 用于回测\n",
    "portfolio = Portfolio(symbol=symbol, lookback_window_size=0)"
   ]
  },
  {
   "cell_type": "code",
   "execution_count": 7,
   "metadata": {},
   "outputs": [],
   "source": [
    "\n",
    "trade_time = '2024-06-14'"
   ]
  },
  {
   "cell_type": "code",
   "execution_count": 9,
   "metadata": {},
   "outputs": [
    {
     "name": "stdout",
     "output_type": "stream",
     "text": [
      "2024-06-14 K线数据:\n",
      "开盘价: 104.58\n",
      "收盘价: 104.16\n",
      "最高价: 105.44\n",
      "最低价: 103.4\n",
      "成交量: 7287.0\n",
      "\n"
     ]
    }
   ],
   "source": [
    "### K线数据\n",
    "kline = KLine(date=trade_time,\n",
    "                      symbol=symbol,\n",
    "                      open=total_data.loc[(trade_time, symbol), 'open'],\n",
    "                      close=total_data.loc[(trade_time, symbol), 'close'],\n",
    "                      high=total_data.loc[(trade_time, symbol), 'high'],\n",
    "                      low=total_data.loc[(trade_time, symbol), 'low'],\n",
    "                      volume=total_data.loc[(trade_time, symbol), 'volume'])\n",
    "\n",
    "print(kline.format())"
   ]
  },
  {
   "cell_type": "code",
   "execution_count": 12,
   "metadata": {},
   "outputs": [
    {
     "name": "stdout",
     "output_type": "stream",
     "text": [
      "2024-06-14 技术指标:\n",
      "RSI14: 85.5839 \n",
      "MACD: 0.9982 \n",
      "\n"
     ]
    }
   ],
   "source": [
    "### 技术指标管理类\n",
    "indicator_list = IndicatorList(date=trade_time)\n",
    "indicator_list.set_indicator(rsi=rsi_df.loc[trade_time],\n",
    "                             macd=macd_df.loc[trade_time])\n",
    "\n",
    "print(indicator_list.format())"
   ]
  },
  {
   "cell_type": "code",
   "execution_count": 13,
   "metadata": {},
   "outputs": [
    {
     "name": "stdout",
     "output_type": "stream",
     "text": [
      "06-03 07:16 - {'text': '{\"date\":\"2024-06-14\",\"symbol\":\"RB\",\"index\":\"-1\",\"indicator\":{\"rsi\":{\"name\":\"RSI14\",\"id\":\"rsi\",\"values\":85.5839},\"macd\":{\"name\":\"MACD\",\"id\":\"macd\",\"values\":0.9982},\"date\":\"2024-06-14\"},\"kline\":{\"date\":\"2024-06-14\",\"symbol\":\"RB\",\"open\":104.58,\"close\":104.16,\"high\":105.44,\"low\":103.4,\"volume\":7287.0}}', 'id': 2, 'important_score': 90.0, 'recency_score': 1.0, 'delta': 0, 'important_score_recency_compound_score': 1.9, 'access_counter': 0, 'date': '2024-06-14'}\n"
     ]
    }
   ],
   "source": [
    "### 存入记忆池\n",
    "agent.handing_data(trade_time, symbol, indicator_list, kline)"
   ]
  },
  {
   "cell_type": "code",
   "execution_count": 14,
   "metadata": {},
   "outputs": [],
   "source": [
    "### 获取记忆池中的数据\n",
    "short_prompt, reflection_prompt = agent.query_records(trade_time, symbol)"
   ]
  },
  {
   "cell_type": "code",
   "execution_count": 16,
   "metadata": {},
   "outputs": [
    {
     "name": "stdout",
     "output_type": "stream",
     "text": [
      "过去反思记忆索引ID:R1  内容:根据短期记忆中的技术指标分析，$RB出现下跌-0.0109的原因可能是由于RSI14值为33.7691，虽然未进入超卖区域，但接近中轴下方，显示出市场买方力量不足。同时，MACD值为-1.6686，为负值且未出现金叉，表明下跌动能仍然存在。此外，收盘价从94.81下跌至94.38，且最低价达到93.69，显示出卖方力量在增强。这些因素共同作用，可能导致了下个交易日的下跌。\n",
      "过去反思记忆索引ID:R0  内容:根据短期记忆中的技术指标分析，$RB出现上涨0.0009的原因可能是由于RSI14值为28.0967，处于超卖区域，表明市场可能已经过度卖出，存在反弹的需求。同时，MACD值为-1.5624，虽然为负值，但如果出现金叉或柱状图能量减弱，可能预示着下跌动能减弱，上涨动能开始积累。此外，收盘价从95.09上涨至95.41，且最高价达到95.45，显示出买方力量在增强。这些因素共同作用，可能导致了下个交易日的上涨。\n",
      "\n"
     ]
    }
   ],
   "source": [
    "print(reflection_prompt)"
   ]
  },
  {
   "cell_type": "code",
   "execution_count": 15,
   "metadata": {},
   "outputs": [
    {
     "name": "stdout",
     "output_type": "stream",
     "text": [
      "短期记忆索引ID: S2\n",
      "2024-06-14 技术指标:\n",
      "RSI14: 85.5839 \n",
      "MACD: 0.9982 \n",
      "2024-06-14 K线数据:\n",
      "开盘价: 104.58\n",
      "收盘价: 104.16\n",
      "最高价: 105.44\n",
      "最低价: 103.4\n",
      "成交量: 7287.0\n",
      "\n"
     ]
    }
   ],
   "source": [
    "print(short_prompt)"
   ]
  },
  {
   "cell_type": "code",
   "execution_count": 17,
   "metadata": {},
   "outputs": [
    {
     "name": "stdout",
     "output_type": "stream",
     "text": [
      "06-03 07:19 - \n",
      "\n",
      "【核心决策要素】(请综合评估，寻找强共振信号)\n",
      "    1. 评估MACD状态： 检查金叉/死叉情况、柱状图能量、与零轴的相对位置以及是否存在背离。\n",
      "    2. 检查RSI水平： 判断是否处于超买/超卖区、是否接近50中轴、以及是否存在背离。\n",
      "    3. 寻找信号共振点： 当MACD发出买入（卖出）信号，同时RSI也处于有利位置（如从超卖区向上，或突破50）时，买入（卖出）的确定性更高。\n",
      "    4. 警惕背离信号： 出现顶背离时，即使价格仍在上涨，也应警惕回调风险，考虑减仓或设置止损；出现底背离时，即使价格仍在下跌，也可开始关注潜在的反弹机会。\n",
      "    5. 结合周期分析： 短期信号需服从长期趋势。可参考不同时间周期的MACD和RSI表现，以提高决策准确性。\n",
      "\n",
      "\n",
      "以下是短期记忆:\n",
      "短期记忆索引ID: S2\n",
      "2024-06-14 技术指标:\n",
      "RSI14: 85.5839 \n",
      "MACD: 0.9982 \n",
      "2024-06-14 K线数据:\n",
      "开盘价: 104.58\n",
      "收盘价: 104.16\n",
      "最高价: 105.44\n",
      "最低价: 103.4\n",
      "成交量: 7287.0\n",
      "\n",
      "\n",
      "以下是过去反思记忆:\n",
      "过去反思记忆索引ID:R1  内容:根据短期记忆中的技术指标分析，$RB出现下跌-0.0109的原因可能是由于RSI14值为33.7691，虽然未进入超卖区域，但接近中轴下方，显示出市场买方力量不足。同时，MACD值为-1.6686，为负值且未出现金叉，表明下跌动能仍然存在。此外，收盘价从94.81下跌至94.38，且最低价达到93.69，显示出卖方力量在增强。这些因素共同作用，可能导致了下个交易日的下跌。\n",
      "过去反思记忆索引ID:R0  内容:根据短期记忆中的技术指标分析，$RB出现上涨0.0009的原因可能是由于RSI14值为28.0967，处于超卖区域，表明市场可能已经过度卖出，存在反弹的需求。同时，MACD值为-1.5624，虽然为负值，但如果出现金叉或柱状图能量减弱，可能预示着下跌动能减弱，上涨动能开始积累。此外，收盘价从95.09上涨至95.41，且最高价达到95.45，显示出买方力量在增强。这些因素共同作用，可能导致了下个交易日的上涨。\n",
      "\n",
      "\n",
      "你不是要预测未来，而是要根据当前信息和既定规则，做出当下最优的概率决策。\n",
      "\n",
      "必须严格按照以下JSON格式返回,reasoning内容必须中文描述:\n",
      "confidence:在0~100之间，数值越大，置信度越高\n",
      "{\n",
      "\"short_memory_index\": \"S1,S2,S3\",\n",
      "\"reflection_memory_index\":\"R1,R2,R3\",\n",
      "\"reasoning\": \"string\",\n",
      "\"confidence\": \"int\",\n",
      "\"signal\": \"bullish/bearish/neutral\",\n",
      "\"analysis_details\": \"string (trend indicators, etc.)\",\n",
      "}\n",
      "\n"
     ]
    }
   ],
   "source": [
    "response = agent.generate_prediction(\n",
    "            date='trade_time',\n",
    "            symbol=symbol,\n",
    "            short_prompt=short_prompt,\n",
    "            reflection_prompt=reflection_prompt)"
   ]
  },
  {
   "cell_type": "code",
   "execution_count": 18,
   "metadata": {},
   "outputs": [
    {
     "data": {
      "text/plain": [
       "{'short_memory_index': 'S2',\n",
       " 'reflection_memory_index': 'R1,R0',\n",
       " 'reasoning': '当前RSI14值为85.5839，处于超买区域，表明市场可能已经过度买入，存在回调的需求。MACD值为0.9982，虽然为正值，但考虑到RSI的超买状态，上涨动能可能开始减弱。此外，收盘价从104.58下跌至104.16，且最低价达到103.4，显示出卖方力量在增强。这些因素共同作用，可能导致下个交易日的回调。',\n",
       " 'confidence': 75.0,\n",
       " 'signal': 'bearish',\n",
       " 'analysis_details': 'RSI14: 85.5839 (超买区域), MACD: 0.9982 (正值但上涨动能可能减弱), 收盘价从104.58下跌至104.16, 最低价103.4。'}"
      ]
     },
     "execution_count": 18,
     "metadata": {},
     "output_type": "execute_result"
    }
   ],
   "source": [
    "response.__dict__"
   ]
  },
  {
   "cell_type": "code",
   "execution_count": 21,
   "metadata": {},
   "outputs": [],
   "source": [
    "future_data = total_data.loc[trade_time]\n",
    "future_data = future_data.to_dict(orient='records')[0]"
   ]
  },
  {
   "cell_type": "code",
   "execution_count": 22,
   "metadata": {},
   "outputs": [],
   "source": [
    "### 更新市场信息\n",
    "portfolio.update_market_info(\n",
    "            cur_date=trade_time,\n",
    "            market_price=total_data.loc[trade_time, symbol]['close'],\n",
    "            rets=total_data.loc[trade_time, symbol]['return'])"
   ]
  },
  {
   "cell_type": "code",
   "execution_count": 27,
   "metadata": {},
   "outputs": [
    {
     "data": {
      "text/plain": [
       "0"
      ]
     },
     "execution_count": 27,
     "metadata": {},
     "output_type": "execute_result"
    }
   ],
   "source": [
    "actions = agent.actions(response=response, threshold=80)\n",
    "portfolio.record_action(action={'direction': actions})\n",
    "actions"
   ]
  },
  {
   "cell_type": "code",
   "execution_count": 28,
   "metadata": {},
   "outputs": [
    {
     "data": {
      "text/plain": [
       "{'feedback': 0, 'date': '2024-06-14'}"
      ]
     },
     "execution_count": 28,
     "metadata": {},
     "output_type": "execute_result"
    }
   ],
   "source": [
    "feedback = portfolio.feedback()\n",
    "feedback"
   ]
  },
  {
   "cell_type": "code",
   "execution_count": null,
   "metadata": {},
   "outputs": [],
   "source": []
  }
 ],
 "metadata": {
  "kernelspec": {
   "display_name": "Python 3",
   "language": "python",
   "name": "python3"
  },
  "language_info": {
   "codemirror_mode": {
    "name": "ipython",
    "version": 3
   },
   "file_extension": ".py",
   "mimetype": "text/x-python",
   "name": "python",
   "nbconvert_exporter": "python",
   "pygments_lexer": "ipython3",
   "version": "3.10.17"
  }
 },
 "nbformat": 4,
 "nbformat_minor": 2
}
