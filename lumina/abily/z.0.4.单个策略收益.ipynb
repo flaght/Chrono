{
 "cells": [
  {
   "cell_type": "code",
   "execution_count": 1,
   "metadata": {},
   "outputs": [],
   "source": [
    "import os, pdb, sys, json, math\n",
    "from lumina.genetic.metrics.ts_pnl import calculate_ful_ts_ret\n",
    "from lumina.genetic.signal.method import *\n",
    "from lumina.genetic.strategy.method import *\n",
    "from lumina.genetic.process import *\n",
    "from ultron.factor.genetic.geneticist.operators import *\n",
    "import ultron.factor.empyrical as empyrical\n",
    "\n",
    "from dotenv import load_dotenv\n",
    "load_dotenv()\n",
    "\n",
    "from kdutils.common import *\n",
    "from kdutils.macro2 import *"
   ]
  },
  {
   "cell_type": "code",
   "execution_count": 2,
   "metadata": {},
   "outputs": [],
   "source": [
<<<<<<< HEAD
=======
    "from ultron.factor.genetic.geneticist.operators import *"
   ]
  },
  {
   "cell_type": "code",
   "execution_count": 3,
   "metadata": {},
   "outputs": [
    {
     "data": {
      "text/plain": [
       "<ultron.sentry.Analysis.TechnicalAnalysis.StatelessTechnicalAnalysers.SecurityReluValueHolder at 0x7f88f545a340>"
      ]
     },
     "execution_count": 3,
     "metadata": {},
     "output_type": "execute_result"
    }
   ],
   "source": [
    "eval(\"RELU(SIGLOG10ABS(WMA(10, 'close') - MMinDiff(5, 'volume')) + WMA(20, 'ixy013_5_10_1'))\")"
   ]
  },
  {
   "cell_type": "code",
   "execution_count": 2,
   "metadata": {},
   "outputs": [],
   "source": [
>>>>>>> fb930b12034fba07d986a68140f84790f51f7654
    "name = 'train'\n",
    "method = 'aicso0'\n",
    "task_id = '113001'\n",
    "instruments = \"rbb\""
   ]
  },
  {
   "cell_type": "code",
   "execution_count": 3,
   "metadata": {},
   "outputs": [
    {
     "name": "stdout",
     "output_type": "stream",
     "text": [
<<<<<<< HEAD
      "/workspace/data/dev/kd/evolution/ga/records/aicso0/rbb/basic/train_data.feather\n"
=======
      "./records/aicso0/rbb/basic/train_data.feather\n"
>>>>>>> fb930b12034fba07d986a68140f84790f51f7654
     ]
    },
    {
     "data": {
      "text/html": [
       "<div>\n",
       "<style scoped>\n",
       "    .dataframe tbody tr th:only-of-type {\n",
       "        vertical-align: middle;\n",
       "    }\n",
       "\n",
       "    .dataframe tbody tr th {\n",
       "        vertical-align: top;\n",
       "    }\n",
       "\n",
       "    .dataframe thead th {\n",
       "        text-align: right;\n",
       "    }\n",
       "</style>\n",
       "<table border=\"1\" class=\"dataframe\">\n",
       "  <thead>\n",
       "    <tr style=\"text-align: right;\">\n",
       "      <th></th>\n",
       "      <th>trade_time</th>\n",
       "      <th>code</th>\n",
<<<<<<< HEAD
       "      <th>tn001_5_10_1</th>\n",
       "      <th>tn001_10_15_1</th>\n",
       "      <th>tn001_5_10_0</th>\n",
       "      <th>tn001_10_15_0</th>\n",
       "      <th>tn002_5_1</th>\n",
       "      <th>tn002_10_1</th>\n",
       "      <th>tn002_5_0</th>\n",
       "      <th>tn002_10_0</th>\n",
       "      <th>...</th>\n",
       "      <th>rv014_25_5_10_0</th>\n",
       "      <th>rv014_25_10_15_0</th>\n",
=======
       "      <th>fz002_10_15_0</th>\n",
       "      <th>fz002_10_15_1</th>\n",
       "      <th>fz002_5_10_0</th>\n",
       "      <th>fz002_5_10_1</th>\n",
       "      <th>gd002_10_15_0</th>\n",
       "      <th>gd002_10_15_1</th>\n",
       "      <th>gd002_5_10_0</th>\n",
       "      <th>gd002_5_10_1</th>\n",
       "      <th>...</th>\n",
       "      <th>tf022_5_10_0</th>\n",
       "      <th>tf022_5_10_1</th>\n",
>>>>>>> fb930b12034fba07d986a68140f84790f51f7654
       "      <th>close</th>\n",
       "      <th>high</th>\n",
       "      <th>low</th>\n",
       "      <th>open</th>\n",
       "      <th>value</th>\n",
       "      <th>volume</th>\n",
       "      <th>openint</th>\n",
       "      <th>vwap</th>\n",
       "    </tr>\n",
       "  </thead>\n",
       "  <tbody>\n",
       "    <tr>\n",
       "      <th>0</th>\n",
       "      <td>2020-01-02 09:24:00</td>\n",
       "      <td>RB</td>\n",
<<<<<<< HEAD
       "      <td>0.680072</td>\n",
       "      <td>0.658371</td>\n",
       "      <td>0.671177</td>\n",
       "      <td>0.587748</td>\n",
       "      <td>369.140607</td>\n",
       "      <td>368.849146</td>\n",
       "      <td>368.961314</td>\n",
       "      <td>368.626188</td>\n",
       "      <td>...</td>\n",
       "      <td>-544.162</td>\n",
       "      <td>-410.478667</td>\n",
=======
       "      <td>0.000017</td>\n",
       "      <td>0.000046</td>\n",
       "      <td>0.000016</td>\n",
       "      <td>0.000033</td>\n",
       "      <td>0.523321</td>\n",
       "      <td>0.491670</td>\n",
       "      <td>0.490432</td>\n",
       "      <td>0.493088</td>\n",
       "      <td>...</td>\n",
       "      <td>3863.813874</td>\n",
       "      <td>3864.368054</td>\n",
>>>>>>> fb930b12034fba07d986a68140f84790f51f7654
       "      <td>3867.117696</td>\n",
       "      <td>3867.117696</td>\n",
       "      <td>3864.962112</td>\n",
       "      <td>3866.039904</td>\n",
       "      <td>101900660.0</td>\n",
       "      <td>2841.0</td>\n",
       "      <td>1477768.0</td>\n",
       "      <td>3586.788455</td>\n",
       "    </tr>\n",
       "    <tr>\n",
       "      <th>1</th>\n",
       "      <td>2020-01-02 09:25:00</td>\n",
       "      <td>RB</td>\n",
<<<<<<< HEAD
       "      <td>0.719572</td>\n",
       "      <td>0.644226</td>\n",
       "      <td>0.690715</td>\n",
       "      <td>0.528891</td>\n",
       "      <td>368.614451</td>\n",
       "      <td>368.615144</td>\n",
       "      <td>369.016174</td>\n",
       "      <td>368.661034</td>\n",
       "      <td>...</td>\n",
       "      <td>-975.400</td>\n",
       "      <td>-1346.748889</td>\n",
=======
       "      <td>0.000008</td>\n",
       "      <td>0.000042</td>\n",
       "      <td>0.000014</td>\n",
       "      <td>0.000028</td>\n",
       "      <td>0.529929</td>\n",
       "      <td>0.498302</td>\n",
       "      <td>0.513677</td>\n",
       "      <td>0.514292</td>\n",
       "      <td>...</td>\n",
       "      <td>3864.102655</td>\n",
       "      <td>3864.852516</td>\n",
>>>>>>> fb930b12034fba07d986a68140f84790f51f7654
       "      <td>3866.039904</td>\n",
       "      <td>3868.195488</td>\n",
       "      <td>3864.962112</td>\n",
       "      <td>3867.117696</td>\n",
       "      <td>148793300.0</td>\n",
       "      <td>4147.0</td>\n",
       "      <td>1478987.0</td>\n",
       "      <td>3587.974439</td>\n",
       "    </tr>\n",
       "    <tr>\n",
       "      <th>2</th>\n",
       "      <td>2020-01-02 09:26:00</td>\n",
       "      <td>RB</td>\n",
<<<<<<< HEAD
       "      <td>0.753295</td>\n",
       "      <td>0.625526</td>\n",
       "      <td>0.710055</td>\n",
       "      <td>0.496928</td>\n",
       "      <td>367.817092</td>\n",
       "      <td>368.180095</td>\n",
       "      <td>368.412462</td>\n",
       "      <td>368.157625</td>\n",
       "      <td>...</td>\n",
       "      <td>-1116.288</td>\n",
       "      <td>-1297.771556</td>\n",
=======
       "      <td>0.000007</td>\n",
       "      <td>0.000037</td>\n",
       "      <td>0.000010</td>\n",
       "      <td>0.000020</td>\n",
       "      <td>0.533049</td>\n",
       "      <td>0.508534</td>\n",
       "      <td>0.558912</td>\n",
       "      <td>0.543030</td>\n",
       "      <td>...</td>\n",
       "      <td>3864.316665</td>\n",
       "      <td>3864.794220</td>\n",
>>>>>>> fb930b12034fba07d986a68140f84790f51f7654
       "      <td>3863.884320</td>\n",
       "      <td>3866.039904</td>\n",
       "      <td>3863.884320</td>\n",
       "      <td>3866.039904</td>\n",
       "      <td>70353230.0</td>\n",
       "      <td>1962.0</td>\n",
       "      <td>1479086.0</td>\n",
       "      <td>3585.791539</td>\n",
       "    </tr>\n",
       "    <tr>\n",
       "      <th>3</th>\n",
       "      <td>2020-01-02 09:27:00</td>\n",
       "      <td>RB</td>\n",
<<<<<<< HEAD
       "      <td>0.781090</td>\n",
       "      <td>0.615597</td>\n",
       "      <td>0.723153</td>\n",
       "      <td>0.476254</td>\n",
       "      <td>367.620848</td>\n",
       "      <td>368.007052</td>\n",
       "      <td>367.761947</td>\n",
       "      <td>368.026100</td>\n",
       "      <td>...</td>\n",
       "      <td>-1097.012</td>\n",
       "      <td>-1647.728889</td>\n",
=======
       "      <td>0.000007</td>\n",
       "      <td>0.000032</td>\n",
       "      <td>0.000005</td>\n",
       "      <td>0.000011</td>\n",
       "      <td>0.536877</td>\n",
       "      <td>0.526550</td>\n",
       "      <td>0.599309</td>\n",
       "      <td>0.589248</td>\n",
       "      <td>...</td>\n",
       "      <td>3863.817898</td>\n",
       "      <td>3863.609003</td>\n",
>>>>>>> fb930b12034fba07d986a68140f84790f51f7654
       "      <td>3862.806528</td>\n",
       "      <td>3863.884320</td>\n",
       "      <td>3860.650944</td>\n",
       "      <td>3863.884320</td>\n",
       "      <td>148451470.0</td>\n",
       "      <td>4143.0</td>\n",
       "      <td>1479142.0</td>\n",
       "      <td>3583.187787</td>\n",
       "    </tr>\n",
       "    <tr>\n",
       "      <th>4</th>\n",
       "      <td>2020-01-02 09:28:00</td>\n",
       "      <td>RB</td>\n",
<<<<<<< HEAD
       "      <td>0.778675</td>\n",
       "      <td>0.603740</td>\n",
       "      <td>0.715299</td>\n",
       "      <td>0.467250</td>\n",
       "      <td>368.191998</td>\n",
       "      <td>368.248370</td>\n",
       "      <td>368.155597</td>\n",
       "      <td>368.341321</td>\n",
       "      <td>...</td>\n",
       "      <td>-883.476</td>\n",
       "      <td>-1579.259111</td>\n",
=======
       "      <td>0.000007</td>\n",
       "      <td>0.000028</td>\n",
       "      <td>0.000002</td>\n",
       "      <td>0.000007</td>\n",
       "      <td>0.529006</td>\n",
       "      <td>0.543816</td>\n",
       "      <td>0.634817</td>\n",
       "      <td>0.626719</td>\n",
       "      <td>...</td>\n",
       "      <td>3863.318107</td>\n",
       "      <td>3863.518597</td>\n",
>>>>>>> fb930b12034fba07d986a68140f84790f51f7654
       "      <td>3863.884320</td>\n",
       "      <td>3863.884320</td>\n",
       "      <td>3862.806528</td>\n",
       "      <td>3863.884320</td>\n",
       "      <td>40038130.0</td>\n",
       "      <td>1117.0</td>\n",
       "      <td>1479121.0</td>\n",
       "      <td>3584.434199</td>\n",
       "    </tr>\n",
       "  </tbody>\n",
       "</table>\n",
<<<<<<< HEAD
       "<p>5 rows × 856 columns</p>\n",
       "</div>"
      ],
      "text/plain": [
       "           trade_time code  tn001_5_10_1  tn001_10_15_1  tn001_5_10_0  \\\n",
       "0 2020-01-02 09:24:00   RB      0.680072       0.658371      0.671177   \n",
       "1 2020-01-02 09:25:00   RB      0.719572       0.644226      0.690715   \n",
       "2 2020-01-02 09:26:00   RB      0.753295       0.625526      0.710055   \n",
       "3 2020-01-02 09:27:00   RB      0.781090       0.615597      0.723153   \n",
       "4 2020-01-02 09:28:00   RB      0.778675       0.603740      0.715299   \n",
       "\n",
       "   tn001_10_15_0   tn002_5_1  tn002_10_1   tn002_5_0  tn002_10_0  ...  \\\n",
       "0       0.587748  369.140607  368.849146  368.961314  368.626188  ...   \n",
       "1       0.528891  368.614451  368.615144  369.016174  368.661034  ...   \n",
       "2       0.496928  367.817092  368.180095  368.412462  368.157625  ...   \n",
       "3       0.476254  367.620848  368.007052  367.761947  368.026100  ...   \n",
       "4       0.467250  368.191998  368.248370  368.155597  368.341321  ...   \n",
       "\n",
       "   rv014_25_5_10_0  rv014_25_10_15_0        close         high          low  \\\n",
       "0         -544.162       -410.478667  3867.117696  3867.117696  3864.962112   \n",
       "1         -975.400      -1346.748889  3866.039904  3868.195488  3864.962112   \n",
       "2        -1116.288      -1297.771556  3863.884320  3866.039904  3863.884320   \n",
       "3        -1097.012      -1647.728889  3862.806528  3863.884320  3860.650944   \n",
       "4         -883.476      -1579.259111  3863.884320  3863.884320  3862.806528   \n",
=======
       "<p>5 rows × 1064 columns</p>\n",
       "</div>"
      ],
      "text/plain": [
       "           trade_time code  fz002_10_15_0  fz002_10_15_1  fz002_5_10_0  \\\n",
       "0 2020-01-02 09:24:00   RB       0.000017       0.000046      0.000016   \n",
       "1 2020-01-02 09:25:00   RB       0.000008       0.000042      0.000014   \n",
       "2 2020-01-02 09:26:00   RB       0.000007       0.000037      0.000010   \n",
       "3 2020-01-02 09:27:00   RB       0.000007       0.000032      0.000005   \n",
       "4 2020-01-02 09:28:00   RB       0.000007       0.000028      0.000002   \n",
       "\n",
       "   fz002_5_10_1  gd002_10_15_0  gd002_10_15_1  gd002_5_10_0  gd002_5_10_1  \\\n",
       "0      0.000033       0.523321       0.491670      0.490432      0.493088   \n",
       "1      0.000028       0.529929       0.498302      0.513677      0.514292   \n",
       "2      0.000020       0.533049       0.508534      0.558912      0.543030   \n",
       "3      0.000011       0.536877       0.526550      0.599309      0.589248   \n",
       "4      0.000007       0.529006       0.543816      0.634817      0.626719   \n",
       "\n",
       "   ...  tf022_5_10_0  tf022_5_10_1        close         high          low  \\\n",
       "0  ...   3863.813874   3864.368054  3867.117696  3867.117696  3864.962112   \n",
       "1  ...   3864.102655   3864.852516  3866.039904  3868.195488  3864.962112   \n",
       "2  ...   3864.316665   3864.794220  3863.884320  3866.039904  3863.884320   \n",
       "3  ...   3863.817898   3863.609003  3862.806528  3863.884320  3860.650944   \n",
       "4  ...   3863.318107   3863.518597  3863.884320  3863.884320  3862.806528   \n",
>>>>>>> fb930b12034fba07d986a68140f84790f51f7654
       "\n",
       "          open        value  volume    openint         vwap  \n",
       "0  3866.039904  101900660.0  2841.0  1477768.0  3586.788455  \n",
       "1  3867.117696  148793300.0  4147.0  1478987.0  3587.974439  \n",
       "2  3866.039904   70353230.0  1962.0  1479086.0  3585.791539  \n",
       "3  3863.884320  148451470.0  4143.0  1479142.0  3583.187787  \n",
       "4  3863.884320   40038130.0  1117.0  1479121.0  3584.434199  \n",
       "\n",
<<<<<<< HEAD
       "[5 rows x 856 columns]"
=======
       "[5 rows x 1064 columns]"
>>>>>>> fb930b12034fba07d986a68140f84790f51f7654
      ]
     },
     "execution_count": 3,
     "metadata": {},
     "output_type": "execute_result"
    }
   ],
   "source": [
    "total_data = fetch_temp_data(\n",
    "            method=method,\n",
    "            task_id=task_id,\n",
    "            instruments=instruments,\n",
    "            datasets=name if isinstance(name, list) else [name])\n",
    "\n",
    "total_data = total_data.drop_duplicates(\n",
    "    subset=['trade_time', 'code']).reset_index(drop=True)\n",
    "total_data.head()"
   ]
  },
  {
   "cell_type": "code",
<<<<<<< HEAD
   "execution_count": 9,
=======
   "execution_count": 4,
>>>>>>> fb930b12034fba07d986a68140f84790f51f7654
   "metadata": {},
   "outputs": [],
   "source": [
    "def calcute_strategy(total_data, column, name, method, instruments, task_id):\n",
<<<<<<< HEAD
    "    backup_cycle = 1\n",
    "    ## 计算\n",
    "    total_data1 = total_data.set_index(['trade_time'])\n",
    "    #total_data2 = total_data.set_index(['trade_time', 'code']).unstack()\n",
    "\n",
    "    expression = column['formual']\n",
    "    signal_method = column['signal_method']\n",
    "    strategy_method = column['strategy_method']\n",
    "    signal_params = column['signal_params']\n",
    "    signal_params = {\n",
    "        key: value\n",
    "        for key, value in signal_params.items() if value is not None\n",
    "    }\n",
    "    strategy_params = column['strategy_params']\n",
    "    strategy_params = {\n",
    "        key: value\n",
    "        for key, value in strategy_params.items() if value is not None\n",
    "    }\n",
    "\n",
    "    ### 保持和挖掘一致， 要做inf值处理，要做极小值处理\n",
    "    factor_data = calc_factor(expression=expression,\n",
    "                              total_data=total_data1,\n",
    "                              indexs=[],\n",
    "                              key='code')\n",
    "    factor_data = factor_data.replace([np.inf, -np.inf], np.nan)\n",
    "    factor_data['transformed'] = np.where(\n",
    "        np.abs(factor_data.transformed.values) > 0.000001,\n",
    "        factor_data.transformed.values, np.nan)\n",
    "    factor_data = factor_data.loc[factor_data.index.unique()[backup_cycle:]]\n",
    "\n",
    "    factors_data1 = factor_data.reset_index().set_index(['trade_time', 'code'])\n",
    "\n",
    "    cycle_total_data = total_data.copy()\n",
    "    cycle_total_data = cycle_total_data.loc[cycle_total_data.index.unique()\n",
    "                                            [backup_cycle:]]\n",
    "\n",
    "    total_data1 = cycle_total_data.reset_index().set_index(\n",
    "        ['trade_time', 'code']).unstack()\n",
    "\n",
    "    pos_data = eval(signal_method)(factor_data=factors_data1, **signal_params)\n",
    "    pos_data1 = eval(strategy_method)(signal=pos_data,\n",
    "                                      total_data=total_data1,\n",
    "                                      **strategy_params)\n",
    "    return pos_data1"
=======
    "        backup_cycle = 1\n",
    "        ## 计算\n",
    "        total_data1 = total_data.set_index(['trade_time'])\n",
    "        #total_data2 = total_data.set_index(['trade_time', 'code']).unstack()\n",
    "\n",
    "        expression = column['formual']\n",
    "        signal_method = column['signal_method']\n",
    "        strategy_method = column['strategy_method']\n",
    "        signal_params = column['signal_params']\n",
    "        signal_params = {\n",
    "            key: value\n",
    "            for key, value in signal_params.items() if value is not None\n",
    "        }\n",
    "        strategy_params = column['strategy_params']\n",
    "        strategy_params = {\n",
    "            key: value\n",
    "            for key, value in strategy_params.items() if value is not None\n",
    "        }\n",
    "\n",
    "        ### 保持和挖掘一致， 要做inf值处理，要做极小值处理\n",
    "        factor_data = calc_factor(expression=expression,\n",
    "                                  total_data=total_data1,\n",
    "                                  indexs=[],\n",
    "                                  key='code')\n",
    "        factor_data = factor_data.replace([np.inf, -np.inf], np.nan)\n",
    "        factor_data['transformed'] = np.where(\n",
    "            np.abs(factor_data.transformed.values) > 0.000001,\n",
    "            factor_data.transformed.values, np.nan)\n",
    "        factor_data = factor_data.loc[factor_data.index.unique()\n",
    "                                      [backup_cycle:]]\n",
    "\n",
    "        factors_data1 = factor_data.reset_index().set_index(\n",
    "            ['trade_time', 'code'])\n",
    "\n",
    "        cycle_total_data = total_data.copy()\n",
    "        cycle_total_data = cycle_total_data.loc[\n",
    "            cycle_total_data.index.unique()[backup_cycle:]]\n",
    "\n",
    "        total_data1 = cycle_total_data.reset_index().set_index(\n",
    "            ['trade_time', 'code']).unstack()\n",
    "\n",
    "        pos_data = eval(signal_method)(factor_data=factors_data1,\n",
    "                                       **signal_params)\n",
    "        pos_data1 = eval(strategy_method)(signal=pos_data,\n",
    "                                          total_data=total_data1,\n",
    "                                          **strategy_params)"
>>>>>>> fb930b12034fba07d986a68140f84790f51f7654
   ]
  },
  {
   "cell_type": "code",
<<<<<<< HEAD
   "execution_count": 21,
   "metadata": {},
   "outputs": [],
   "source": [
    "columns = {\n",
    "    'formual': \"MKURT(16,LOG(MKURT(6,'tv022_10_10_15_0')))\",\n",
    "    \"signal_method\": \"simple_signal\",\n",
    "    \"signal_params\": {\n",
    "        'roll_num': 3,\n",
    "        'threshold': 0.01\n",
    "    },\n",
    "    \"strategy_method\": \"trailing_strategy\",\n",
    "    \"strategy_params\": {\n",
    "        \"trailing_percent\": 0.035,\n",
    "        \"max_volume\": 1\n",
    "    }\n",
    "}\n",
    "pos_data1 = calcute_strategy(total_data=total_data,\n",
    "                column=columns,\n",
=======
   "execution_count": 7,
   "metadata": {},
   "outputs": [
    {
     "ename": "TypeError",
     "evalue": "trailing_atr_strategy() missing 1 required positional argument: 'atr_period'",
     "output_type": "error",
     "traceback": [
      "\u001b[0;31m---------------------------------------------------------------------------\u001b[0m",
      "\u001b[0;31mTypeError\u001b[0m                                 Traceback (most recent call last)",
      "Cell \u001b[0;32mIn[7], line 13\u001b[0m\n\u001b[1;32m      1\u001b[0m columns \u001b[38;5;241m=\u001b[39m {\n\u001b[1;32m      2\u001b[0m     \u001b[38;5;124m'\u001b[39m\u001b[38;5;124mformual\u001b[39m\u001b[38;5;124m'\u001b[39m: \u001b[38;5;124m\"\u001b[39m\u001b[38;5;124mMDIFF(16,\u001b[39m\u001b[38;5;124m'\u001b[39m\u001b[38;5;124moi032_5_5_10_0\u001b[39m\u001b[38;5;124m'\u001b[39m\u001b[38;5;124m)\u001b[39m\u001b[38;5;124m\"\u001b[39m,\n\u001b[1;32m      3\u001b[0m     \u001b[38;5;124m\"\u001b[39m\u001b[38;5;124msignal_method\u001b[39m\u001b[38;5;124m\"\u001b[39m: \u001b[38;5;124m\"\u001b[39m\u001b[38;5;124mmean_signal\u001b[39m\u001b[38;5;124m\"\u001b[39m,\n\u001b[0;32m   (...)\u001b[0m\n\u001b[1;32m     11\u001b[0m \n\u001b[1;32m     12\u001b[0m }\n\u001b[0;32m---> 13\u001b[0m \u001b[43mcalcute_strategy\u001b[49m\u001b[43m(\u001b[49m\n\u001b[1;32m     14\u001b[0m \u001b[43m    \u001b[49m\u001b[43mtotal_data\u001b[49m\u001b[38;5;241;43m=\u001b[39;49m\u001b[43mtotal_data\u001b[49m\u001b[43m,\u001b[49m\n\u001b[1;32m     15\u001b[0m \u001b[43m    \u001b[49m\u001b[43mcolumn\u001b[49m\u001b[38;5;241;43m=\u001b[39;49m\u001b[43mcolumns\u001b[49m\u001b[43m,\u001b[49m\n\u001b[1;32m     16\u001b[0m \u001b[43m                 \u001b[49m\u001b[43mname\u001b[49m\u001b[38;5;241;43m=\u001b[39;49m\u001b[43mname\u001b[49m\u001b[43m,\u001b[49m\n\u001b[1;32m     17\u001b[0m \u001b[43m                 \u001b[49m\u001b[43mmethod\u001b[49m\u001b[38;5;241;43m=\u001b[39;49m\u001b[43mmethod\u001b[49m\u001b[43m,\u001b[49m\n\u001b[1;32m     18\u001b[0m \u001b[43m                 \u001b[49m\u001b[43minstruments\u001b[49m\u001b[38;5;241;43m=\u001b[39;49m\u001b[43minstruments\u001b[49m\u001b[43m,\u001b[49m\n\u001b[1;32m     19\u001b[0m \u001b[43m                 \u001b[49m\u001b[43mtask_id\u001b[49m\u001b[38;5;241;43m=\u001b[39;49m\u001b[43mtask_id\u001b[49m\u001b[43m)\u001b[49m\n",
      "Cell \u001b[0;32mIn[4], line 45\u001b[0m, in \u001b[0;36mcalcute_strategy\u001b[0;34m(total_data, column, name, method, instruments, task_id)\u001b[0m\n\u001b[1;32m     40\u001b[0m total_data1 \u001b[38;5;241m=\u001b[39m cycle_total_data\u001b[38;5;241m.\u001b[39mreset_index()\u001b[38;5;241m.\u001b[39mset_index(\n\u001b[1;32m     41\u001b[0m     [\u001b[38;5;124m'\u001b[39m\u001b[38;5;124mtrade_time\u001b[39m\u001b[38;5;124m'\u001b[39m, \u001b[38;5;124m'\u001b[39m\u001b[38;5;124mcode\u001b[39m\u001b[38;5;124m'\u001b[39m])\u001b[38;5;241m.\u001b[39munstack()\n\u001b[1;32m     43\u001b[0m pos_data \u001b[38;5;241m=\u001b[39m \u001b[38;5;28meval\u001b[39m(signal_method)(factor_data\u001b[38;5;241m=\u001b[39mfactors_data1,\n\u001b[1;32m     44\u001b[0m                                \u001b[38;5;241m*\u001b[39m\u001b[38;5;241m*\u001b[39msignal_params)\n\u001b[0;32m---> 45\u001b[0m pos_data1 \u001b[38;5;241m=\u001b[39m \u001b[38;5;28;43meval\u001b[39;49m\u001b[43m(\u001b[49m\u001b[43mstrategy_method\u001b[49m\u001b[43m)\u001b[49m\u001b[43m(\u001b[49m\u001b[43msignal\u001b[49m\u001b[38;5;241;43m=\u001b[39;49m\u001b[43mpos_data\u001b[49m\u001b[43m,\u001b[49m\n\u001b[1;32m     46\u001b[0m \u001b[43m                                  \u001b[49m\u001b[43mtotal_data\u001b[49m\u001b[38;5;241;43m=\u001b[39;49m\u001b[43mtotal_data1\u001b[49m\u001b[43m,\u001b[49m\n\u001b[1;32m     47\u001b[0m \u001b[43m                                  \u001b[49m\u001b[38;5;241;43m*\u001b[39;49m\u001b[38;5;241;43m*\u001b[39;49m\u001b[43mstrategy_params\u001b[49m\u001b[43m)\u001b[49m\n",
      "\u001b[0;31mTypeError\u001b[0m: trailing_atr_strategy() missing 1 required positional argument: 'atr_period'"
     ]
    }
   ],
   "source": [
    "columns = {\n",
    "    'formual': \"MDIFF(16,'oi032_5_5_10_0')\",\n",
    "    \"signal_method\": \"mean_signal\",\n",
    "    \"signal_params\": {\n",
    "        'roll_num': 50,\n",
    "        'threshold': 0.2\n",
    "    },\n",
    "    \"strategy_method\":\"trailing_atr_strategy\",\n",
    "    \"strategy_params\":{\"atr_multiplier\":9.0,\n",
    "    \"atr_multiplier\":30,\"max_volume\":1}\n",
    "\n",
    "}\n",
    "calcute_strategy(\n",
    "    total_data=total_data,\n",
    "    column=columns,\n",
>>>>>>> fb930b12034fba07d986a68140f84790f51f7654
    "                 name=name,\n",
    "                 method=method,\n",
    "                 instruments=instruments,\n",
    "                 task_id=task_id)"
   ]
  },
  {
   "cell_type": "code",
<<<<<<< HEAD
   "execution_count": 11,
   "metadata": {},
   "outputs": [],
   "source": [
    "from lumina.genetic.metrics.ts_pnl import calculate_ful_ts_ret"
   ]
  },
  {
   "cell_type": "code",
   "execution_count": 25,
   "metadata": {},
   "outputs": [],
   "source": [
    "strategy_settings = {\n",
    "        'commission': COST_MAPPING[INSTRUMENTS_CODES[instruments]] * 0.05,\n",
    "        'slippage': 0,\n",
    "        'size': CONT_MULTNUM_MAPPING[INSTRUMENTS_CODES[instruments]]\n",
    "    }"
   ]
  },
  {
   "cell_type": "code",
   "execution_count": 26,
   "metadata": {},
   "outputs": [],
   "source": [
    "total_data2 = total_data.set_index(['trade_time', 'code']).unstack()\n",
    "df = calculate_ful_ts_ret(pos_data=pos_data1,\n",
    "                                  total_data=total_data2,\n",
    "                                  strategy_settings=strategy_settings)"
   ]
  },
  {
   "cell_type": "code",
   "execution_count": 27,
   "metadata": {},
   "outputs": [
    {
     "data": {
      "text/plain": [
       "-0.5077735255112794"
      ]
     },
     "execution_count": 27,
     "metadata": {},
     "output_type": "execute_result"
    },
    {
     "data": {
      "image/png": "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",
      "text/plain": [
       "<Figure size 1400x700 with 1 Axes>"
      ]
     },
     "metadata": {},
     "output_type": "display_data"
    }
   ],
   "source": [
    "df['a_ret'].cumsum().plot(figsize=(14, 7))\n",
    "empyrical.sharpe_ratio(returns=df['a_ret'],period=empyrical.DAILY)"
   ]
  },
  {
   "cell_type": "code",
=======
>>>>>>> fb930b12034fba07d986a68140f84790f51f7654
   "execution_count": null,
   "metadata": {},
   "outputs": [],
   "source": []
  }
 ],
 "metadata": {
  "kernelspec": {
<<<<<<< HEAD
   "display_name": "Python 3",
=======
   "display_name": "lingua",
>>>>>>> fb930b12034fba07d986a68140f84790f51f7654
   "language": "python",
   "name": "python3"
  },
  "language_info": {
   "codemirror_mode": {
    "name": "ipython",
    "version": 3
   },
   "file_extension": ".py",
   "mimetype": "text/x-python",
   "name": "python",
   "nbconvert_exporter": "python",
   "pygments_lexer": "ipython3",
<<<<<<< HEAD
   "version": "3.8.20"
=======
   "version": "3.8.3"
>>>>>>> fb930b12034fba07d986a68140f84790f51f7654
  }
 },
 "nbformat": 4,
 "nbformat_minor": 2
}
