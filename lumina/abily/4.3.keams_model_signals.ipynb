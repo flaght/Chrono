{
 "cells": [
  {
   "cell_type": "markdown",
   "metadata": {},
   "source": [
    "校验kmeans的结果，合成信号值， 多头信号1 数据应该集中数据头部，  空头信号-1 数据应该集中在数据尾部  中间处于不动即0.相对于4.2 不需要重头计算数据"
   ]
  },
  {
   "cell_type": "code",
   "execution_count": 1,
   "metadata": {},
   "outputs": [],
   "source": [
    "import os\n",
    "import pandas as pd\n",
    "from lumina.genetic.fusion import Rotor\n",
    "from lumina.genetic import Actuator\n",
    "from kdutils.cache import exist_cache, load_cache "
   ]
  },
  {
   "cell_type": "code",
   "execution_count": 2,
   "metadata": {},
   "outputs": [
    {
     "name": "stdout",
     "output_type": "stream",
     "text": [
      "please wait! load_pickle....: cache/abily/positions_data.pkl\n"
     ]
    },
    {
     "data": {
      "text/html": [
       "<div>\n",
       "<style scoped>\n",
       "    .dataframe tbody tr th:only-of-type {\n",
       "        vertical-align: middle;\n",
       "    }\n",
       "\n",
       "    .dataframe tbody tr th {\n",
       "        vertical-align: top;\n",
       "    }\n",
       "\n",
       "    .dataframe thead th {\n",
       "        text-align: right;\n",
       "    }\n",
       "</style>\n",
       "<table border=\"1\" class=\"dataframe\">\n",
       "  <thead>\n",
       "    <tr style=\"text-align: right;\">\n",
       "      <th></th>\n",
       "      <th>code</th>\n",
       "      <th>value</th>\n",
       "    </tr>\n",
       "    <tr>\n",
       "      <th>trade_time</th>\n",
       "      <th></th>\n",
       "      <th></th>\n",
       "    </tr>\n",
       "  </thead>\n",
       "  <tbody>\n",
       "    <tr>\n",
       "      <th>2022-07-25 09:30:00</th>\n",
       "      <td>IM</td>\n",
       "      <td>0.000000</td>\n",
       "    </tr>\n",
       "    <tr>\n",
       "      <th>2022-07-25 09:31:00</th>\n",
       "      <td>IM</td>\n",
       "      <td>0.000000</td>\n",
       "    </tr>\n",
       "    <tr>\n",
       "      <th>2022-07-25 09:32:00</th>\n",
       "      <td>IM</td>\n",
       "      <td>0.000000</td>\n",
       "    </tr>\n",
       "    <tr>\n",
       "      <th>2022-07-25 09:33:00</th>\n",
       "      <td>IM</td>\n",
       "      <td>0.000000</td>\n",
       "    </tr>\n",
       "    <tr>\n",
       "      <th>2022-07-25 09:34:00</th>\n",
       "      <td>IM</td>\n",
       "      <td>-0.004423</td>\n",
       "    </tr>\n",
       "  </tbody>\n",
       "</table>\n",
       "</div>"
      ],
      "text/plain": [
       "                    code     value\n",
       "trade_time                        \n",
       "2022-07-25 09:30:00   IM  0.000000\n",
       "2022-07-25 09:31:00   IM  0.000000\n",
       "2022-07-25 09:32:00   IM  0.000000\n",
       "2022-07-25 09:33:00   IM  0.000000\n",
       "2022-07-25 09:34:00   IM -0.004423"
      ]
     },
     "execution_count": 2,
     "metadata": {},
     "output_type": "execute_result"
    }
   ],
   "source": [
    "positions_data = load_cache(cache_file='positions_data.pkl')\n",
    "positions_data.name = 'value'\n",
    "positions_data = positions_data.reset_index().set_index('trade_time')\n",
    "positions_data.head()"
   ]
  },
  {
   "cell_type": "code",
   "execution_count": 3,
   "metadata": {},
   "outputs": [],
   "source": [
    "code = 'im'\n",
    "def fetch_rotor(name):\n",
    "    base_path = '/workspace/worker/pj/Chrono/lumina/abily/records/aicso2/ims/kmeans'\n",
    "    rotor = Rotor.from_pickle(\n",
    "            path=os.path.join(base_path, code.lower()), name=name)\n",
    "    return rotor\n"
   ]
  },
  {
   "cell_type": "code",
   "execution_count": 4,
   "metadata": {},
   "outputs": [
    {
     "name": "stdout",
     "output_type": "stream",
     "text": [
      "short:-0.0711151886768506, long:0.05296482180223248, zero:0.38579610671153336, mapping:{0: -1, 1: 0, 2: 1}\n"
     ]
    }
   ],
   "source": [
    "rotor1 = fetch_rotor('1004645202')\n",
    "signal_data = rotor1.predict(positions_data)\n",
    "signal_data.name = 'signal'\n",
    "t1_dt = pd.concat([positions_data, signal_data], axis=1)\n",
    "short = t1_dt[t1_dt['signal']==-1].value.max()\n",
    "long = t1_dt[t1_dt['signal']==1].value.max()\n",
    "zero = t1_dt[t1_dt['signal']==0].value.max()\n",
    "print(\"short:{0}, long:{1}, zero:{2}, mapping:{3}\".format(short, long, zero, rotor1._best_mapping))"
   ]
  },
  {
   "cell_type": "code",
   "execution_count": 5,
   "metadata": {},
   "outputs": [
    {
     "name": "stdout",
     "output_type": "stream",
     "text": [
      "short:0.05296482180223248, long:-0.0711151886768506, zero:0.38579610671153336, mapping:{0: 1, 1: 0, 2: -1}\n"
     ]
    }
   ],
   "source": [
    "rotor1 = fetch_rotor('1047686396')\n",
    "signal_data = rotor1.predict(positions_data)\n",
    "signal_data.name = 'signal'\n",
    "t1_dt = pd.concat([positions_data, signal_data], axis=1)\n",
    "short = t1_dt[t1_dt['signal']==-1].value.max()\n",
    "long = t1_dt[t1_dt['signal']==1].value.max()\n",
    "zero = t1_dt[t1_dt['signal']==0].value.max()\n",
    "print(\"short:{0}, long:{1}, zero:{2}, mapping:{3}\".format(short, long, zero, rotor1._best_mapping))"
   ]
  },
  {
   "cell_type": "code",
   "execution_count": 6,
   "metadata": {},
   "outputs": [
    {
     "name": "stdout",
     "output_type": "stream",
     "text": [
      "short:0.38579610671153336, long:0.05296482180223248, zero:-0.0711151886768506, mapping:{0: 0, 1: -1, 2: 1}\n"
     ]
    }
   ],
   "source": [
    "rotor1 = fetch_rotor('1053201158')\n",
    "signal_data = rotor1.predict(positions_data)\n",
    "signal_data.name = 'signal'\n",
    "t1_dt = pd.concat([positions_data, signal_data], axis=1)\n",
    "short = t1_dt[t1_dt['signal']==-1].value.max()\n",
    "long = t1_dt[t1_dt['signal']==1].value.max()\n",
    "zero = t1_dt[t1_dt['signal']==0].value.max()\n",
    "print(\"short:{0}, long:{1}, zero:{2}, mapping:{3}\".format(short, long, zero, rotor1._best_mapping))"
   ]
  },
  {
   "cell_type": "code",
   "execution_count": 7,
   "metadata": {},
   "outputs": [
    {
     "name": "stdout",
     "output_type": "stream",
     "text": [
      "short:-0.0711151886768506, long:0.38579610671153336, zero:0.05296482180223248, mapping:{0: -1, 1: 1, 2: 0}\n"
     ]
    }
   ],
   "source": [
    "rotor1 = fetch_rotor('1067015693')\n",
    "signal_data = rotor1.predict(positions_data)\n",
    "signal_data.name = 'signal'\n",
    "t1_dt = pd.concat([positions_data, signal_data], axis=1)\n",
    "short = t1_dt[t1_dt['signal']==-1].value.max()\n",
    "long = t1_dt[t1_dt['signal']==1].value.max()\n",
    "zero = t1_dt[t1_dt['signal']==0].value.max()\n",
    "print(\"short:{0}, long:{1}, zero:{2}, mapping:{3}\".format(short, long, zero, rotor1._best_mapping))"
   ]
  },
  {
   "cell_type": "code",
   "execution_count": 8,
   "metadata": {},
   "outputs": [
    {
     "name": "stdout",
     "output_type": "stream",
     "text": [
      "short:0.38579610671153336, long:-0.0711151886768506, zero:0.05296482180223248, mapping:{0: 1, 1: -1, 2: 0}\n"
     ]
    }
   ],
   "source": [
    "rotor1 = fetch_rotor('1072543691')\n",
    "signal_data = rotor1.predict(positions_data)\n",
    "signal_data.name = 'signal'\n",
    "t1_dt = pd.concat([positions_data, signal_data], axis=1)\n",
    "short = t1_dt[t1_dt['signal']==-1].value.max()\n",
    "long = t1_dt[t1_dt['signal']==1].value.max()\n",
    "zero = t1_dt[t1_dt['signal']==0].value.max()\n",
    "print(\"short:{0}, long:{1}, zero:{2}, mapping:{3}\".format(short, long, zero, rotor1._best_mapping))"
   ]
  },
  {
   "cell_type": "code",
   "execution_count": 9,
   "metadata": {},
   "outputs": [
    {
     "name": "stdout",
     "output_type": "stream",
     "text": [
      "short:0.05296482180223248, long:0.38579610671153336, zero:-0.0711151886768506, mapping:{0: 0, 1: 1, 2: -1}\n"
     ]
    }
   ],
   "source": [
    "rotor1 = fetch_rotor('1091392418')\n",
    "signal_data = rotor1.predict(positions_data)\n",
    "signal_data.name = 'signal'\n",
    "t1_dt = pd.concat([positions_data, signal_data], axis=1)\n",
    "short = t1_dt[t1_dt['signal']==-1].value.max()\n",
    "long = t1_dt[t1_dt['signal']==1].value.max()\n",
    "zero = t1_dt[t1_dt['signal']==0].value.max()\n",
    "print(\"short:{0}, long:{1}, zero:{2}, mapping:{3}\".format(short, long, zero, rotor1._best_mapping))"
   ]
  },
  {
   "cell_type": "code",
   "execution_count": 22,
   "metadata": {},
   "outputs": [],
   "source": [
    "import joblib\n",
    "def load_metrics(name):\n",
    "    rotor1 = fetch_rotor(name)\n",
    "    mapping_name = \"3_{0}_{1}_{2}\".format(rotor1._best_mapping[0], rotor1._best_mapping[1], rotor1._best_mapping[2])\n",
    "    base_path = '/workspace/worker/pj/Chrono/lumina/abily/records/aicso2/ims/metrics'\n",
    "    filename = os.path.join(base_path, '{0}.pkl'.format(mapping_name))\n",
    "    metrics = joblib.load(filename)\n",
    "    return metrics"
   ]
  },
  {
   "cell_type": "code",
   "execution_count": 23,
   "metadata": {},
   "outputs": [
    {
     "data": {
      "text/plain": [
       "KMeansResultTuple(name='3_-1_1_0', params=(-1, 1, 0), cluster=3, mapping={0: -1, 1: 1, 2: 0}, empyrical=EmpyricalTuple(name='3_-1_1_0', annual_return=4.397993744634903, annual_volatility=0.2852233393924709, calmar=44.22504609559505, sharpe=6.067418241615493, max_drawdown=-0.09944576960142404, sortino=20.08518786555272, returns_series=trade_time\n",
       "2022-07-25    0.013194\n",
       "2022-07-26    0.012955\n",
       "2022-07-27    0.009653\n",
       "2022-07-28   -0.000058\n",
       "2022-07-29   -0.003177\n",
       "                ...   \n",
       "2024-11-29    0.032073\n",
       "2024-12-02    0.006328\n",
       "2024-12-03   -0.017021\n",
       "2024-12-04   -0.000646\n",
       "2024-12-05   -0.008913\n",
       "Name: ret, Length: 575, dtype: float64))"
      ]
     },
     "execution_count": 23,
     "metadata": {},
     "output_type": "execute_result"
    }
   ],
   "source": [
    "load_metrics('1067015693')"
   ]
  },
  {
   "cell_type": "code",
   "execution_count": null,
   "metadata": {},
   "outputs": [],
   "source": []
  }
 ],
 "metadata": {
  "kernelspec": {
   "display_name": "lingua",
   "language": "python",
   "name": "python3"
  },
  "language_info": {
   "codemirror_mode": {
    "name": "ipython",
    "version": 3
   },
   "file_extension": ".py",
   "mimetype": "text/x-python",
   "name": "python",
   "nbconvert_exporter": "python",
   "pygments_lexer": "ipython3",
   "version": "3.8.3"
  }
 },
 "nbformat": 4,
 "nbformat_minor": 2
}
