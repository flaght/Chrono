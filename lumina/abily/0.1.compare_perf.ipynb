{
 "cells": [
  {
   "cell_type": "code",
   "execution_count": 1,
   "metadata": {},
   "outputs": [
    {
     "data": {
      "text/plain": [
       "True"
      ]
     },
     "execution_count": 1,
     "metadata": {},
     "output_type": "execute_result"
    }
   ],
   "source": [
    "import pandas as pd\n",
    "import pdb\n",
    "from lumina.genetic.metrics.ts_pnl import calculate_ful_ts_ret\n",
    "import ultron.factor.empyrical as empyrical\n",
    "from dotenv import load_dotenv\n",
    "load_dotenv()"
   ]
  },
  {
   "cell_type": "code",
   "execution_count": 2,
   "metadata": {},
   "outputs": [],
   "source": [
    "from kdutils.common import *\n",
    "from kdutils.macro2 import *\n",
    "from kdutils.data import fetch_main_market"
   ]
  },
  {
   "cell_type": "code",
   "execution_count": 3,
   "metadata": {},
   "outputs": [],
   "source": [
    "instruments = 'ims'\n",
    "strategy_settings = {\n",
    "        'commission': COST_MAPPING[INSTRUMENTS_CODES[instruments]],\n",
    "        'slippage': 0,\n",
    "        'size': CONT_MULTNUM_MAPPING[INSTRUMENTS_CODES[instruments]]\n",
    "    }"
   ]
  },
  {
   "cell_type": "code",
   "execution_count": 22,
   "metadata": {},
   "outputs": [
    {
     "data": {
      "text/plain": [
       "0.00012"
      ]
     },
     "execution_count": 22,
     "metadata": {},
     "output_type": "execute_result"
    }
   ],
   "source": [
    "COST_MAPPING[INSTRUMENTS_CODES[instruments]]"
   ]
  },
  {
   "cell_type": "code",
   "execution_count": 4,
   "metadata": {},
   "outputs": [],
   "source": [
    "returns = pd.read_parquet('records/pred_alpha_cta.parquet')\n",
    "returns['trade_time'] = pd.to_datetime(\n",
    "            returns['date'].astype(str) + ' ' + returns['minTime'].astype(str)\n",
    "        )\n",
    "returns['trade_time'] = pd.to_datetime(returns['trade_time'])\n",
    "returns['code']='IM'\n",
    "returns = returns[['trade_time','ret_15']].rename(columns={'ret_15':'IM'}).set_index('trade_time')"
   ]
  },
  {
   "cell_type": "code",
   "execution_count": 5,
   "metadata": {},
   "outputs": [
    {
     "name": "stdout",
     "output_type": "stream",
     "text": [
      "2023-12-10 2024-04-10\n"
     ]
    }
   ],
   "source": [
    "data = pd.read_feather('_bak/20250905/test.feat')\n",
    "begin_date ='2023-12-10' #data['trade_time'].min().strftime('%Y-%m-%d %H:%M:%S')\n",
    "end_date = '2024-04-10'#data['trade_time'].max().strftime('%Y-%m-%d %H:%M:%S')\n",
    "print(begin_date,end_date)"
   ]
  },
  {
   "cell_type": "code",
   "execution_count": 6,
   "metadata": {},
   "outputs": [],
   "source": [
    "market_data = fetch_main_market(begin_date=begin_date,\n",
    "                             end_date=end_date,\n",
    "                             codes=['IM'])"
   ]
  },
  {
   "cell_type": "code",
   "execution_count": 7,
   "metadata": {},
   "outputs": [
    {
     "data": {
      "text/html": [
       "<div>\n",
       "<style scoped>\n",
       "    .dataframe tbody tr th:only-of-type {\n",
       "        vertical-align: middle;\n",
       "    }\n",
       "\n",
       "    .dataframe tbody tr th {\n",
       "        vertical-align: top;\n",
       "    }\n",
       "\n",
       "    .dataframe thead th {\n",
       "        text-align: right;\n",
       "    }\n",
       "</style>\n",
       "<table border=\"1\" class=\"dataframe\">\n",
       "  <thead>\n",
       "    <tr style=\"text-align: right;\">\n",
       "      <th></th>\n",
       "      <th>trade_time</th>\n",
       "      <th>open</th>\n",
       "      <th>high</th>\n",
       "      <th>low</th>\n",
       "      <th>close</th>\n",
       "      <th>volume</th>\n",
       "      <th>value</th>\n",
       "      <th>code</th>\n",
       "    </tr>\n",
       "  </thead>\n",
       "  <tbody>\n",
       "    <tr>\n",
       "      <th>0</th>\n",
       "      <td>2023-12-11 09:30:00</td>\n",
       "      <td>6326.207382</td>\n",
       "      <td>6326.207382</td>\n",
       "      <td>6326.207382</td>\n",
       "      <td>6326.207382</td>\n",
       "      <td>90.0</td>\n",
       "      <td>1.075140e+08</td>\n",
       "      <td>IM</td>\n",
       "    </tr>\n",
       "    <tr>\n",
       "      <th>1</th>\n",
       "      <td>2023-12-11 09:45:00</td>\n",
       "      <td>6328.325650</td>\n",
       "      <td>6333.621320</td>\n",
       "      <td>6286.383944</td>\n",
       "      <td>6313.921428</td>\n",
       "      <td>10447.0</td>\n",
       "      <td>1.245244e+10</td>\n",
       "      <td>IM</td>\n",
       "    </tr>\n",
       "    <tr>\n",
       "      <th>2</th>\n",
       "      <td>2023-12-11 10:00:00</td>\n",
       "      <td>6314.980562</td>\n",
       "      <td>6329.384784</td>\n",
       "      <td>6311.591333</td>\n",
       "      <td>6320.911712</td>\n",
       "      <td>3435.0</td>\n",
       "      <td>4.099452e+09</td>\n",
       "      <td>IM</td>\n",
       "    </tr>\n",
       "    <tr>\n",
       "      <th>3</th>\n",
       "      <td>2023-12-11 10:15:00</td>\n",
       "      <td>6321.970846</td>\n",
       "      <td>6329.172957</td>\n",
       "      <td>6312.862294</td>\n",
       "      <td>6322.182673</td>\n",
       "      <td>3268.0</td>\n",
       "      <td>3.901289e+09</td>\n",
       "      <td>IM</td>\n",
       "    </tr>\n",
       "    <tr>\n",
       "      <th>4</th>\n",
       "      <td>2023-12-11 10:30:00</td>\n",
       "      <td>6322.182673</td>\n",
       "      <td>6332.562186</td>\n",
       "      <td>6316.675176</td>\n",
       "      <td>6324.300941</td>\n",
       "      <td>2618.0</td>\n",
       "      <td>3.126706e+09</td>\n",
       "      <td>IM</td>\n",
       "    </tr>\n",
       "    <tr>\n",
       "      <th>...</th>\n",
       "      <td>...</td>\n",
       "      <td>...</td>\n",
       "      <td>...</td>\n",
       "      <td>...</td>\n",
       "      <td>...</td>\n",
       "      <td>...</td>\n",
       "      <td>...</td>\n",
       "      <td>...</td>\n",
       "    </tr>\n",
       "    <tr>\n",
       "      <th>1338</th>\n",
       "      <td>2024-04-10 14:00:00</td>\n",
       "      <td>5864.240307</td>\n",
       "      <td>5864.682307</td>\n",
       "      <td>5840.593286</td>\n",
       "      <td>5855.179299</td>\n",
       "      <td>6400.0</td>\n",
       "      <td>6.781818e+09</td>\n",
       "      <td>IM</td>\n",
       "    </tr>\n",
       "    <tr>\n",
       "      <th>1339</th>\n",
       "      <td>2024-04-10 14:15:00</td>\n",
       "      <td>5855.179299</td>\n",
       "      <td>5874.848317</td>\n",
       "      <td>5850.096294</td>\n",
       "      <td>5856.505300</td>\n",
       "      <td>5144.0</td>\n",
       "      <td>5.458858e+09</td>\n",
       "      <td>IM</td>\n",
       "    </tr>\n",
       "    <tr>\n",
       "      <th>1340</th>\n",
       "      <td>2024-04-10 14:30:00</td>\n",
       "      <td>5856.505300</td>\n",
       "      <td>5894.296334</td>\n",
       "      <td>5845.676290</td>\n",
       "      <td>5892.970333</td>\n",
       "      <td>5544.0</td>\n",
       "      <td>5.895913e+09</td>\n",
       "      <td>IM</td>\n",
       "    </tr>\n",
       "    <tr>\n",
       "      <th>1341</th>\n",
       "      <td>2024-04-10 14:45:00</td>\n",
       "      <td>5892.970333</td>\n",
       "      <td>5915.291353</td>\n",
       "      <td>5888.329329</td>\n",
       "      <td>5897.169337</td>\n",
       "      <td>5987.0</td>\n",
       "      <td>6.395983e+09</td>\n",
       "      <td>IM</td>\n",
       "    </tr>\n",
       "    <tr>\n",
       "      <th>1342</th>\n",
       "      <td>2024-04-10 15:00:00</td>\n",
       "      <td>5897.611337</td>\n",
       "      <td>5904.683344</td>\n",
       "      <td>5875.511317</td>\n",
       "      <td>5889.655330</td>\n",
       "      <td>6246.0</td>\n",
       "      <td>6.656485e+09</td>\n",
       "      <td>IM</td>\n",
       "    </tr>\n",
       "  </tbody>\n",
       "</table>\n",
       "<p>1343 rows × 8 columns</p>\n",
       "</div>"
      ],
      "text/plain": [
       "              trade_time         open         high          low        close  \\\n",
       "0    2023-12-11 09:30:00  6326.207382  6326.207382  6326.207382  6326.207382   \n",
       "1    2023-12-11 09:45:00  6328.325650  6333.621320  6286.383944  6313.921428   \n",
       "2    2023-12-11 10:00:00  6314.980562  6329.384784  6311.591333  6320.911712   \n",
       "3    2023-12-11 10:15:00  6321.970846  6329.172957  6312.862294  6322.182673   \n",
       "4    2023-12-11 10:30:00  6322.182673  6332.562186  6316.675176  6324.300941   \n",
       "...                  ...          ...          ...          ...          ...   \n",
       "1338 2024-04-10 14:00:00  5864.240307  5864.682307  5840.593286  5855.179299   \n",
       "1339 2024-04-10 14:15:00  5855.179299  5874.848317  5850.096294  5856.505300   \n",
       "1340 2024-04-10 14:30:00  5856.505300  5894.296334  5845.676290  5892.970333   \n",
       "1341 2024-04-10 14:45:00  5892.970333  5915.291353  5888.329329  5897.169337   \n",
       "1342 2024-04-10 15:00:00  5897.611337  5904.683344  5875.511317  5889.655330   \n",
       "\n",
       "       volume         value code  \n",
       "0        90.0  1.075140e+08   IM  \n",
       "1     10447.0  1.245244e+10   IM  \n",
       "2      3435.0  4.099452e+09   IM  \n",
       "3      3268.0  3.901289e+09   IM  \n",
       "4      2618.0  3.126706e+09   IM  \n",
       "...       ...           ...  ...  \n",
       "1338   6400.0  6.781818e+09   IM  \n",
       "1339   5144.0  5.458858e+09   IM  \n",
       "1340   5544.0  5.895913e+09   IM  \n",
       "1341   5987.0  6.395983e+09   IM  \n",
       "1342   6246.0  6.656485e+09   IM  \n",
       "\n",
       "[1343 rows x 8 columns]"
      ]
     },
     "execution_count": 7,
     "metadata": {},
     "output_type": "execute_result"
    }
   ],
   "source": [
    "market_data_indexed = market_data.set_index('trade_time')\n",
    "aggregation_rules = {\n",
    "        'open': 'first',\n",
    "        'high': 'max',\n",
    "        'low': 'min',\n",
    "        'close': 'last',\n",
    "        'volume': 'sum',\n",
    "        'value': 'sum'\n",
    "    }\n",
    "market_data_15min = market_data_indexed.resample('15T', label='right', closed='right').agg(aggregation_rules)\n",
    "market_data_15min.dropna(inplace=True)\n",
    "market_data_15min.reset_index(inplace=True)\n",
    "market_data_15min['code']='IM'\n",
    "market_data_15min"
   ]
  },
  {
   "cell_type": "code",
   "execution_count": 8,
   "metadata": {},
   "outputs": [
    {
     "data": {
      "text/html": [
       "<div>\n",
       "<style scoped>\n",
       "    .dataframe tbody tr th:only-of-type {\n",
       "        vertical-align: middle;\n",
       "    }\n",
       "\n",
       "    .dataframe tbody tr th {\n",
       "        vertical-align: top;\n",
       "    }\n",
       "\n",
       "    .dataframe thead th {\n",
       "        text-align: right;\n",
       "    }\n",
       "</style>\n",
       "<table border=\"1\" class=\"dataframe\">\n",
       "  <thead>\n",
       "    <tr style=\"text-align: right;\">\n",
       "      <th></th>\n",
       "      <th>close</th>\n",
       "      <th>high</th>\n",
       "      <th>low</th>\n",
       "      <th>open</th>\n",
       "      <th>value</th>\n",
       "      <th>volume</th>\n",
       "      <th>openint</th>\n",
       "      <th>chg</th>\n",
       "      <th>code</th>\n",
       "      <th>pcr_cumfactor</th>\n",
       "      <th>trade_time</th>\n",
       "      <th>price</th>\n",
       "      <th>contMultNum</th>\n",
       "      <th>listDate</th>\n",
       "      <th>vwap</th>\n",
       "    </tr>\n",
       "  </thead>\n",
       "  <tbody>\n",
       "    <tr>\n",
       "      <th>0</th>\n",
       "      <td>6326.207382</td>\n",
       "      <td>6326.207382</td>\n",
       "      <td>6326.207382</td>\n",
       "      <td>6326.207382</td>\n",
       "      <td>1.075140e+08</td>\n",
       "      <td>90.0</td>\n",
       "      <td>84112.0</td>\n",
       "      <td>NaN</td>\n",
       "      <td>IM</td>\n",
       "      <td>1.059134</td>\n",
       "      <td>2023-12-11 09:30:00</td>\n",
       "      <td>6326.207382</td>\n",
       "      <td>200.0</td>\n",
       "      <td>2025-08-18</td>\n",
       "      <td>5973.000000</td>\n",
       "    </tr>\n",
       "    <tr>\n",
       "      <th>1</th>\n",
       "      <td>6314.980562</td>\n",
       "      <td>6333.621320</td>\n",
       "      <td>6307.566624</td>\n",
       "      <td>6328.325650</td>\n",
       "      <td>1.728675e+09</td>\n",
       "      <td>1448.0</td>\n",
       "      <td>83280.0</td>\n",
       "      <td>-0.001776</td>\n",
       "      <td>IM</td>\n",
       "      <td>1.059134</td>\n",
       "      <td>2023-12-11 09:31:00</td>\n",
       "      <td>6321.123539</td>\n",
       "      <td>200.0</td>\n",
       "      <td>2025-08-18</td>\n",
       "      <td>5969.180249</td>\n",
       "    </tr>\n",
       "    <tr>\n",
       "      <th>2</th>\n",
       "      <td>6297.610764</td>\n",
       "      <td>6313.497774</td>\n",
       "      <td>6292.950574</td>\n",
       "      <td>6313.497774</td>\n",
       "      <td>1.475880e+09</td>\n",
       "      <td>1240.0</td>\n",
       "      <td>82676.0</td>\n",
       "      <td>-0.002754</td>\n",
       "      <td>IM</td>\n",
       "      <td>1.059134</td>\n",
       "      <td>2023-12-11 09:32:00</td>\n",
       "      <td>6304.389222</td>\n",
       "      <td>200.0</td>\n",
       "      <td>2025-08-18</td>\n",
       "      <td>5951.127581</td>\n",
       "    </tr>\n",
       "    <tr>\n",
       "      <th>3</th>\n",
       "      <td>6291.255960</td>\n",
       "      <td>6300.364512</td>\n",
       "      <td>6287.866731</td>\n",
       "      <td>6298.881725</td>\n",
       "      <td>1.371512e+09</td>\n",
       "      <td>1154.0</td>\n",
       "      <td>82190.0</td>\n",
       "      <td>-0.001010</td>\n",
       "      <td>IM</td>\n",
       "      <td>1.059134</td>\n",
       "      <td>2023-12-11 09:33:00</td>\n",
       "      <td>6294.592232</td>\n",
       "      <td>200.0</td>\n",
       "      <td>2025-08-18</td>\n",
       "      <td>5942.427903</td>\n",
       "    </tr>\n",
       "    <tr>\n",
       "      <th>4</th>\n",
       "      <td>6298.881725</td>\n",
       "      <td>6301.423646</td>\n",
       "      <td>6286.383944</td>\n",
       "      <td>6289.137692</td>\n",
       "      <td>9.043965e+08</td>\n",
       "      <td>761.0</td>\n",
       "      <td>81815.0</td>\n",
       "      <td>0.001211</td>\n",
       "      <td>IM</td>\n",
       "      <td>1.059134</td>\n",
       "      <td>2023-12-11 09:34:00</td>\n",
       "      <td>6293.956752</td>\n",
       "      <td>200.0</td>\n",
       "      <td>2025-08-18</td>\n",
       "      <td>5942.158213</td>\n",
       "    </tr>\n",
       "  </tbody>\n",
       "</table>\n",
       "</div>"
      ],
      "text/plain": [
       "         close         high          low         open         value  volume  \\\n",
       "0  6326.207382  6326.207382  6326.207382  6326.207382  1.075140e+08    90.0   \n",
       "1  6314.980562  6333.621320  6307.566624  6328.325650  1.728675e+09  1448.0   \n",
       "2  6297.610764  6313.497774  6292.950574  6313.497774  1.475880e+09  1240.0   \n",
       "3  6291.255960  6300.364512  6287.866731  6298.881725  1.371512e+09  1154.0   \n",
       "4  6298.881725  6301.423646  6286.383944  6289.137692  9.043965e+08   761.0   \n",
       "\n",
       "   openint       chg code  pcr_cumfactor          trade_time        price  \\\n",
       "0  84112.0       NaN   IM       1.059134 2023-12-11 09:30:00  6326.207382   \n",
       "1  83280.0 -0.001776   IM       1.059134 2023-12-11 09:31:00  6321.123539   \n",
       "2  82676.0 -0.002754   IM       1.059134 2023-12-11 09:32:00  6304.389222   \n",
       "3  82190.0 -0.001010   IM       1.059134 2023-12-11 09:33:00  6294.592232   \n",
       "4  81815.0  0.001211   IM       1.059134 2023-12-11 09:34:00  6293.956752   \n",
       "\n",
       "   contMultNum    listDate         vwap  \n",
       "0        200.0  2025-08-18  5973.000000  \n",
       "1        200.0  2025-08-18  5969.180249  \n",
       "2        200.0  2025-08-18  5951.127581  \n",
       "3        200.0  2025-08-18  5942.427903  \n",
       "4        200.0  2025-08-18  5942.158213  "
      ]
     },
     "execution_count": 8,
     "metadata": {},
     "output_type": "execute_result"
    }
   ],
   "source": [
    "market_data['vwap'] = market_data['value'] / market_data['volume'] / 200\n",
    "market_data.head()"
   ]
  },
  {
   "cell_type": "code",
   "execution_count": 9,
   "metadata": {},
   "outputs": [
    {
     "data": {
      "text/html": [
       "<div>\n",
       "<style scoped>\n",
       "    .dataframe tbody tr th:only-of-type {\n",
       "        vertical-align: middle;\n",
       "    }\n",
       "\n",
       "    .dataframe tbody tr th {\n",
       "        vertical-align: top;\n",
       "    }\n",
       "\n",
       "    .dataframe thead th {\n",
       "        text-align: right;\n",
       "    }\n",
       "</style>\n",
       "<table border=\"1\" class=\"dataframe\">\n",
       "  <thead>\n",
       "    <tr style=\"text-align: right;\">\n",
       "      <th></th>\n",
       "      <th>close</th>\n",
       "      <th>high</th>\n",
       "      <th>low</th>\n",
       "      <th>open</th>\n",
       "      <th>value</th>\n",
       "      <th>volume</th>\n",
       "      <th>openint</th>\n",
       "      <th>chg</th>\n",
       "      <th>code</th>\n",
       "      <th>pcr_cumfactor</th>\n",
       "      <th>trade_time</th>\n",
       "      <th>price</th>\n",
       "      <th>contMultNum</th>\n",
       "      <th>listDate</th>\n",
       "      <th>vwap</th>\n",
       "    </tr>\n",
       "  </thead>\n",
       "  <tbody>\n",
       "    <tr>\n",
       "      <th>0</th>\n",
       "      <td>6326.207382</td>\n",
       "      <td>6326.207382</td>\n",
       "      <td>6326.207382</td>\n",
       "      <td>6326.207382</td>\n",
       "      <td>1.075140e+08</td>\n",
       "      <td>90.0</td>\n",
       "      <td>84112.0</td>\n",
       "      <td>NaN</td>\n",
       "      <td>IM</td>\n",
       "      <td>1.059134</td>\n",
       "      <td>2023-12-11 09:30:00</td>\n",
       "      <td>6326.207382</td>\n",
       "      <td>200.0</td>\n",
       "      <td>2025-08-18</td>\n",
       "      <td>5973.000000</td>\n",
       "    </tr>\n",
       "    <tr>\n",
       "      <th>1</th>\n",
       "      <td>6314.980562</td>\n",
       "      <td>6333.621320</td>\n",
       "      <td>6307.566624</td>\n",
       "      <td>6328.325650</td>\n",
       "      <td>1.728675e+09</td>\n",
       "      <td>1448.0</td>\n",
       "      <td>83280.0</td>\n",
       "      <td>-0.001776</td>\n",
       "      <td>IM</td>\n",
       "      <td>1.059134</td>\n",
       "      <td>2023-12-11 09:31:00</td>\n",
       "      <td>6321.123539</td>\n",
       "      <td>200.0</td>\n",
       "      <td>2025-08-18</td>\n",
       "      <td>5969.180249</td>\n",
       "    </tr>\n",
       "    <tr>\n",
       "      <th>2</th>\n",
       "      <td>6297.610764</td>\n",
       "      <td>6313.497774</td>\n",
       "      <td>6292.950574</td>\n",
       "      <td>6313.497774</td>\n",
       "      <td>1.475880e+09</td>\n",
       "      <td>1240.0</td>\n",
       "      <td>82676.0</td>\n",
       "      <td>-0.002754</td>\n",
       "      <td>IM</td>\n",
       "      <td>1.059134</td>\n",
       "      <td>2023-12-11 09:32:00</td>\n",
       "      <td>6304.389222</td>\n",
       "      <td>200.0</td>\n",
       "      <td>2025-08-18</td>\n",
       "      <td>5951.127581</td>\n",
       "    </tr>\n",
       "    <tr>\n",
       "      <th>3</th>\n",
       "      <td>6291.255960</td>\n",
       "      <td>6300.364512</td>\n",
       "      <td>6287.866731</td>\n",
       "      <td>6298.881725</td>\n",
       "      <td>1.371512e+09</td>\n",
       "      <td>1154.0</td>\n",
       "      <td>82190.0</td>\n",
       "      <td>-0.001010</td>\n",
       "      <td>IM</td>\n",
       "      <td>1.059134</td>\n",
       "      <td>2023-12-11 09:33:00</td>\n",
       "      <td>6294.592232</td>\n",
       "      <td>200.0</td>\n",
       "      <td>2025-08-18</td>\n",
       "      <td>5942.427903</td>\n",
       "    </tr>\n",
       "    <tr>\n",
       "      <th>4</th>\n",
       "      <td>6298.881725</td>\n",
       "      <td>6301.423646</td>\n",
       "      <td>6286.383944</td>\n",
       "      <td>6289.137692</td>\n",
       "      <td>9.043965e+08</td>\n",
       "      <td>761.0</td>\n",
       "      <td>81815.0</td>\n",
       "      <td>0.001211</td>\n",
       "      <td>IM</td>\n",
       "      <td>1.059134</td>\n",
       "      <td>2023-12-11 09:34:00</td>\n",
       "      <td>6293.956752</td>\n",
       "      <td>200.0</td>\n",
       "      <td>2025-08-18</td>\n",
       "      <td>5942.158213</td>\n",
       "    </tr>\n",
       "  </tbody>\n",
       "</table>\n",
       "</div>"
      ],
      "text/plain": [
       "         close         high          low         open         value  volume  \\\n",
       "0  6326.207382  6326.207382  6326.207382  6326.207382  1.075140e+08    90.0   \n",
       "1  6314.980562  6333.621320  6307.566624  6328.325650  1.728675e+09  1448.0   \n",
       "2  6297.610764  6313.497774  6292.950574  6313.497774  1.475880e+09  1240.0   \n",
       "3  6291.255960  6300.364512  6287.866731  6298.881725  1.371512e+09  1154.0   \n",
       "4  6298.881725  6301.423646  6286.383944  6289.137692  9.043965e+08   761.0   \n",
       "\n",
       "   openint       chg code  pcr_cumfactor          trade_time        price  \\\n",
       "0  84112.0       NaN   IM       1.059134 2023-12-11 09:30:00  6326.207382   \n",
       "1  83280.0 -0.001776   IM       1.059134 2023-12-11 09:31:00  6321.123539   \n",
       "2  82676.0 -0.002754   IM       1.059134 2023-12-11 09:32:00  6304.389222   \n",
       "3  82190.0 -0.001010   IM       1.059134 2023-12-11 09:33:00  6294.592232   \n",
       "4  81815.0  0.001211   IM       1.059134 2023-12-11 09:34:00  6293.956752   \n",
       "\n",
       "   contMultNum    listDate         vwap  \n",
       "0        200.0  2025-08-18  5973.000000  \n",
       "1        200.0  2025-08-18  5969.180249  \n",
       "2        200.0  2025-08-18  5951.127581  \n",
       "3        200.0  2025-08-18  5942.427903  \n",
       "4        200.0  2025-08-18  5942.158213  "
      ]
     },
     "execution_count": 9,
     "metadata": {},
     "output_type": "execute_result"
    }
   ],
   "source": [
    "market_data.head()"
   ]
  },
  {
   "cell_type": "code",
   "execution_count": 10,
   "metadata": {},
   "outputs": [],
   "source": [
    "market_data1 = market_data.set_index('trade_time')\n",
    "temp_return2 = market_data1['vwap'].shift(-15) / market_data1['vwap'].shift(-1)-1\n",
    "#data.reset_index().merge(return2, on=['trade_time'])\n",
    "temp_return2 = temp_return2.reset_index()\n",
    "temp_return2['trade_time'] = pd.to_datetime(temp_return2['trade_time'])\n",
    "temp_return2['code']='IM'\n",
    "temp_return2 = temp_return2[['trade_time','vwap']].rename(columns={'vwap':'IM'}).set_index('trade_time')\n",
    "temp_return2 = temp_return2.reindex(returns.index)"
   ]
  },
  {
   "cell_type": "code",
   "execution_count": 11,
   "metadata": {},
   "outputs": [
    {
     "data": {
      "text/plain": [
       "0.9989769423280686"
      ]
     },
     "execution_count": 11,
     "metadata": {},
     "output_type": "execute_result"
    }
   ],
   "source": [
    "temp_return2['IM'].corr(returns['IM'])"
   ]
  },
  {
   "cell_type": "code",
   "execution_count": 12,
   "metadata": {},
   "outputs": [
    {
     "data": {
      "text/html": [
       "<div>\n",
       "<style scoped>\n",
       "    .dataframe tbody tr th:only-of-type {\n",
       "        vertical-align: middle;\n",
       "    }\n",
       "\n",
       "    .dataframe tbody tr th {\n",
       "        vertical-align: top;\n",
       "    }\n",
       "\n",
       "    .dataframe thead th {\n",
       "        text-align: right;\n",
       "    }\n",
       "</style>\n",
       "<table border=\"1\" class=\"dataframe\">\n",
       "  <thead>\n",
       "    <tr style=\"text-align: right;\">\n",
       "      <th></th>\n",
       "      <th>IM</th>\n",
       "    </tr>\n",
       "    <tr>\n",
       "      <th>trade_time</th>\n",
       "      <th></th>\n",
       "    </tr>\n",
       "  </thead>\n",
       "  <tbody>\n",
       "    <tr>\n",
       "      <th>2024-01-02 10:15:00</th>\n",
       "      <td>-0.000202</td>\n",
       "    </tr>\n",
       "    <tr>\n",
       "      <th>2024-01-02 10:30:00</th>\n",
       "      <td>0.000634</td>\n",
       "    </tr>\n",
       "    <tr>\n",
       "      <th>2024-01-02 10:45:00</th>\n",
       "      <td>-0.001118</td>\n",
       "    </tr>\n",
       "    <tr>\n",
       "      <th>2024-01-02 11:15:00</th>\n",
       "      <td>-0.001019</td>\n",
       "    </tr>\n",
       "    <tr>\n",
       "      <th>2024-01-02 13:30:00</th>\n",
       "      <td>0.000535</td>\n",
       "    </tr>\n",
       "  </tbody>\n",
       "</table>\n",
       "</div>"
      ],
      "text/plain": [
       "                           IM\n",
       "trade_time                   \n",
       "2024-01-02 10:15:00 -0.000202\n",
       "2024-01-02 10:30:00  0.000634\n",
       "2024-01-02 10:45:00 -0.001118\n",
       "2024-01-02 11:15:00 -0.001019\n",
       "2024-01-02 13:30:00  0.000535"
      ]
     },
     "execution_count": 12,
     "metadata": {},
     "output_type": "execute_result"
    }
   ],
   "source": [
    "returns.head()"
   ]
  },
  {
   "cell_type": "code",
   "execution_count": 13,
   "metadata": {},
   "outputs": [
    {
     "data": {
      "text/html": [
       "<div>\n",
       "<style scoped>\n",
       "    .dataframe tbody tr th:only-of-type {\n",
       "        vertical-align: middle;\n",
       "    }\n",
       "\n",
       "    .dataframe tbody tr th {\n",
       "        vertical-align: top;\n",
       "    }\n",
       "\n",
       "    .dataframe thead th {\n",
       "        text-align: right;\n",
       "    }\n",
       "</style>\n",
       "<table border=\"1\" class=\"dataframe\">\n",
       "  <thead>\n",
       "    <tr style=\"text-align: right;\">\n",
       "      <th></th>\n",
       "      <th>IM</th>\n",
       "    </tr>\n",
       "    <tr>\n",
       "      <th>trade_time</th>\n",
       "      <th></th>\n",
       "    </tr>\n",
       "  </thead>\n",
       "  <tbody>\n",
       "    <tr>\n",
       "      <th>2024-01-02 10:15:00</th>\n",
       "      <td>-0.000202</td>\n",
       "    </tr>\n",
       "    <tr>\n",
       "      <th>2024-01-02 10:30:00</th>\n",
       "      <td>0.000634</td>\n",
       "    </tr>\n",
       "    <tr>\n",
       "      <th>2024-01-02 10:45:00</th>\n",
       "      <td>-0.001118</td>\n",
       "    </tr>\n",
       "    <tr>\n",
       "      <th>2024-01-02 11:15:00</th>\n",
       "      <td>-0.001019</td>\n",
       "    </tr>\n",
       "    <tr>\n",
       "      <th>2024-01-02 13:30:00</th>\n",
       "      <td>0.000535</td>\n",
       "    </tr>\n",
       "  </tbody>\n",
       "</table>\n",
       "</div>"
      ],
      "text/plain": [
       "                           IM\n",
       "trade_time                   \n",
       "2024-01-02 10:15:00 -0.000202\n",
       "2024-01-02 10:30:00  0.000634\n",
       "2024-01-02 10:45:00 -0.001118\n",
       "2024-01-02 11:15:00 -0.001019\n",
       "2024-01-02 13:30:00  0.000535"
      ]
     },
     "execution_count": 13,
     "metadata": {},
     "output_type": "execute_result"
    }
   ],
   "source": [
    "temp_return2.head()"
   ]
  },
  {
   "cell_type": "code",
   "execution_count": 14,
   "metadata": {},
   "outputs": [],
   "source": [
    "total_data = data.merge(market_data_15min, on=['trade_time'])\n",
    "data = total_data[['trade_time','f_scaled']]\n",
    "data = data.set_index(['trade_time'])\n",
    "new_columns = pd.MultiIndex.from_tuples([('pos', 'IM')])\n",
    "pos_data1 = data.copy()\n",
    "pos_data1.columns = new_columns\n",
    "market_data = total_data.drop(['f_scaled'],axis=1)\n",
    "total_data2 = market_data_15min.set_index(['trade_time','code']).unstack()"
   ]
  },
  {
   "cell_type": "code",
   "execution_count": 15,
   "metadata": {},
   "outputs": [
    {
     "name": "stdout",
     "output_type": "stream",
     "text": [
      "> \u001b[0;32m/workspace/worker/env/lingua/lib/python3.8/site-packages/Finance_Lumina-0.3.5-py3.8-linux-x86_64.egg/lumina/genetic/metrics/ts_pnl.py\u001b[0m(80)\u001b[0;36mcalculate_ful_ts_ret\u001b[0;34m()\u001b[0m\n",
      "\u001b[0;32m     78 \u001b[0;31m    \u001b[0mpdb\u001b[0m\u001b[0;34m.\u001b[0m\u001b[0mset_trace\u001b[0m\u001b[0;34m(\u001b[0m\u001b[0;34m)\u001b[0m\u001b[0;34m\u001b[0m\u001b[0;34m\u001b[0m\u001b[0m\n",
      "\u001b[0m\u001b[0;32m     79 \u001b[0;31m    change = np.log(openD / openD.shift(1)).shift(-1).fillna(\n",
      "\u001b[0m\u001b[0;32m---> 80 \u001b[0;31m        0)  if temp_returns is None else temp_returns# 当前期 看到 当前期到下一期的收益率 \n",
      "\u001b[0m\u001b[0;32m     81 \u001b[0;31m\u001b[0;34m\u001b[0m\u001b[0m\n",
      "\u001b[0m\u001b[0;32m     82 \u001b[0;31m    \u001b[0mtrade\u001b[0m \u001b[0;34m=\u001b[0m \u001b[0;34m(\u001b[0m\u001b[0mpos\u001b[0m\u001b[0;34m.\u001b[0m\u001b[0mdiff\u001b[0m\u001b[0;34m(\u001b[0m\u001b[0;34m)\u001b[0m\u001b[0;34m)\u001b[0m\u001b[0;34m.\u001b[0m\u001b[0mfillna\u001b[0m\u001b[0;34m(\u001b[0m\u001b[0;36m0\u001b[0m\u001b[0;34m)\u001b[0m\u001b[0;34m\u001b[0m\u001b[0;34m\u001b[0m\u001b[0m\n",
      "\u001b[0m\n"
     ]
    }
   ],
   "source": [
    "df1 = calculate_ful_ts_ret(pos_data=pos_data1,\n",
    "                                  total_data=total_data2,\n",
    "                                  strategy_settings=strategy_settings,\n",
    "                                  temp_returns=returns)\n",
    "returns1 = df1['a_ret']"
   ]
  },
  {
   "cell_type": "code",
   "execution_count": 16,
   "metadata": {},
   "outputs": [
    {
     "name": "stdout",
     "output_type": "stream",
     "text": [
      "> \u001b[0;32m/workspace/worker/env/lingua/lib/python3.8/site-packages/Finance_Lumina-0.3.5-py3.8-linux-x86_64.egg/lumina/genetic/metrics/ts_pnl.py\u001b[0m(80)\u001b[0;36mcalculate_ful_ts_ret\u001b[0;34m()\u001b[0m\n",
      "\u001b[0;32m     78 \u001b[0;31m    \u001b[0mpdb\u001b[0m\u001b[0;34m.\u001b[0m\u001b[0mset_trace\u001b[0m\u001b[0;34m(\u001b[0m\u001b[0;34m)\u001b[0m\u001b[0;34m\u001b[0m\u001b[0;34m\u001b[0m\u001b[0m\n",
      "\u001b[0m\u001b[0;32m     79 \u001b[0;31m    change = np.log(openD / openD.shift(1)).shift(-1).fillna(\n",
      "\u001b[0m\u001b[0;32m---> 80 \u001b[0;31m        0)  if temp_returns is None else temp_returns# 当前期 看到 当前期到下一期的收益率 \n",
      "\u001b[0m\u001b[0;32m     81 \u001b[0;31m\u001b[0;34m\u001b[0m\u001b[0m\n",
      "\u001b[0m\u001b[0;32m     82 \u001b[0;31m    \u001b[0mtrade\u001b[0m \u001b[0;34m=\u001b[0m \u001b[0;34m(\u001b[0m\u001b[0mpos\u001b[0m\u001b[0;34m.\u001b[0m\u001b[0mdiff\u001b[0m\u001b[0;34m(\u001b[0m\u001b[0;34m)\u001b[0m\u001b[0;34m)\u001b[0m\u001b[0;34m.\u001b[0m\u001b[0mfillna\u001b[0m\u001b[0;34m(\u001b[0m\u001b[0;36m0\u001b[0m\u001b[0;34m)\u001b[0m\u001b[0;34m\u001b[0m\u001b[0;34m\u001b[0m\u001b[0m\n",
      "\u001b[0m\n"
     ]
    }
   ],
   "source": [
    "df2 = calculate_ful_ts_ret(pos_data=pos_data1,\n",
    "                                  total_data=total_data2,\n",
    "                                  strategy_settings=strategy_settings)\n",
    "returns2 = df2['a_ret']"
   ]
  },
  {
   "cell_type": "code",
   "execution_count": 17,
   "metadata": {},
   "outputs": [
    {
     "name": "stdout",
     "output_type": "stream",
     "text": [
      "> \u001b[0;32m/workspace/worker/env/lingua/lib/python3.8/site-packages/Finance_Lumina-0.3.5-py3.8-linux-x86_64.egg/lumina/genetic/metrics/ts_pnl.py\u001b[0m(80)\u001b[0;36mcalculate_ful_ts_ret\u001b[0;34m()\u001b[0m\n",
      "\u001b[0;32m     78 \u001b[0;31m    \u001b[0mpdb\u001b[0m\u001b[0;34m.\u001b[0m\u001b[0mset_trace\u001b[0m\u001b[0;34m(\u001b[0m\u001b[0;34m)\u001b[0m\u001b[0;34m\u001b[0m\u001b[0;34m\u001b[0m\u001b[0m\n",
      "\u001b[0m\u001b[0;32m     79 \u001b[0;31m    change = np.log(openD / openD.shift(1)).shift(-1).fillna(\n",
      "\u001b[0m\u001b[0;32m---> 80 \u001b[0;31m        0)  if temp_returns is None else temp_returns# 当前期 看到 当前期到下一期的收益率 \n",
      "\u001b[0m\u001b[0;32m     81 \u001b[0;31m\u001b[0;34m\u001b[0m\u001b[0m\n",
      "\u001b[0m\u001b[0;32m     82 \u001b[0;31m    \u001b[0mtrade\u001b[0m \u001b[0;34m=\u001b[0m \u001b[0;34m(\u001b[0m\u001b[0mpos\u001b[0m\u001b[0;34m.\u001b[0m\u001b[0mdiff\u001b[0m\u001b[0;34m(\u001b[0m\u001b[0;34m)\u001b[0m\u001b[0;34m)\u001b[0m\u001b[0;34m.\u001b[0m\u001b[0mfillna\u001b[0m\u001b[0;34m(\u001b[0m\u001b[0;36m0\u001b[0m\u001b[0;34m)\u001b[0m\u001b[0;34m\u001b[0m\u001b[0;34m\u001b[0m\u001b[0m\n",
      "\u001b[0m\n"
     ]
    }
   ],
   "source": [
    "df3 = calculate_ful_ts_ret(pos_data=pos_data1,\n",
    "                                  total_data=total_data2,\n",
    "                                  strategy_settings=strategy_settings,\n",
    "                                  temp_returns=temp_return2)\n",
    "returns3 = df3['a_ret']"
   ]
  },
  {
   "cell_type": "code",
   "execution_count": 18,
   "metadata": {},
   "outputs": [
    {
     "data": {
      "text/html": [
       "<div>\n",
       "<style scoped>\n",
       "    .dataframe tbody tr th:only-of-type {\n",
       "        vertical-align: middle;\n",
       "    }\n",
       "\n",
       "    .dataframe tbody tr th {\n",
       "        vertical-align: top;\n",
       "    }\n",
       "\n",
       "    .dataframe thead th {\n",
       "        text-align: right;\n",
       "    }\n",
       "</style>\n",
       "<table border=\"1\" class=\"dataframe\">\n",
       "  <thead>\n",
       "    <tr style=\"text-align: right;\">\n",
       "      <th></th>\n",
       "      <th>IM</th>\n",
       "    </tr>\n",
       "    <tr>\n",
       "      <th>trade_time</th>\n",
       "      <th></th>\n",
       "    </tr>\n",
       "  </thead>\n",
       "  <tbody>\n",
       "    <tr>\n",
       "      <th>2024-01-02 10:15:00</th>\n",
       "      <td>-0.000202</td>\n",
       "    </tr>\n",
       "    <tr>\n",
       "      <th>2024-01-02 10:30:00</th>\n",
       "      <td>0.000634</td>\n",
       "    </tr>\n",
       "    <tr>\n",
       "      <th>2024-01-02 10:45:00</th>\n",
       "      <td>-0.001118</td>\n",
       "    </tr>\n",
       "    <tr>\n",
       "      <th>2024-01-02 11:15:00</th>\n",
       "      <td>-0.001019</td>\n",
       "    </tr>\n",
       "    <tr>\n",
       "      <th>2024-01-02 13:30:00</th>\n",
       "      <td>0.000535</td>\n",
       "    </tr>\n",
       "    <tr>\n",
       "      <th>...</th>\n",
       "      <td>...</td>\n",
       "    </tr>\n",
       "    <tr>\n",
       "      <th>2025-03-12 13:30:00</th>\n",
       "      <td>NaN</td>\n",
       "    </tr>\n",
       "    <tr>\n",
       "      <th>2025-03-12 13:45:00</th>\n",
       "      <td>NaN</td>\n",
       "    </tr>\n",
       "    <tr>\n",
       "      <th>2025-03-12 14:00:00</th>\n",
       "      <td>NaN</td>\n",
       "    </tr>\n",
       "    <tr>\n",
       "      <th>2025-03-12 14:15:00</th>\n",
       "      <td>NaN</td>\n",
       "    </tr>\n",
       "    <tr>\n",
       "      <th>2025-03-13 14:45:00</th>\n",
       "      <td>NaN</td>\n",
       "    </tr>\n",
       "  </tbody>\n",
       "</table>\n",
       "<p>1956 rows × 1 columns</p>\n",
       "</div>"
      ],
      "text/plain": [
       "                           IM\n",
       "trade_time                   \n",
       "2024-01-02 10:15:00 -0.000202\n",
       "2024-01-02 10:30:00  0.000634\n",
       "2024-01-02 10:45:00 -0.001118\n",
       "2024-01-02 11:15:00 -0.001019\n",
       "2024-01-02 13:30:00  0.000535\n",
       "...                       ...\n",
       "2025-03-12 13:30:00       NaN\n",
       "2025-03-12 13:45:00       NaN\n",
       "2025-03-12 14:00:00       NaN\n",
       "2025-03-12 14:15:00       NaN\n",
       "2025-03-13 14:45:00       NaN\n",
       "\n",
       "[1956 rows x 1 columns]"
      ]
     },
     "execution_count": 18,
     "metadata": {},
     "output_type": "execute_result"
    }
   ],
   "source": [
    "temp_return2"
   ]
  },
  {
   "cell_type": "code",
   "execution_count": 19,
   "metadata": {},
   "outputs": [],
   "source": [
    "returns1.name = \"cta\"\n",
    "returns2.name = \"ori\"\n",
    "returns3.name = \"return1\""
   ]
  },
  {
   "cell_type": "code",
   "execution_count": 20,
   "metadata": {},
   "outputs": [],
   "source": [
    "returns2 = returns2.reindex(returns1.index)\n",
    "returns3 = returns3.reindex(returns1.index)"
   ]
  },
  {
   "cell_type": "code",
   "execution_count": 21,
   "metadata": {},
   "outputs": [
    {
     "data": {
      "text/plain": [
       "<Axes: xlabel='trade_time'>"
      ]
     },
     "execution_count": 21,
     "metadata": {},
     "output_type": "execute_result"
    },
    {
     "data": {
      "image/png": "[encoded data removed]",
      "text/plain": [
       "<Figure size 1400x700 with 1 Axes>"
      ]
     },
     "metadata": {},
     "output_type": "display_data"
    }
   ],
   "source": [
    "pd.concat([returns1,returns2,returns3],axis=1).dropna().loc[:'2025-03-13'].cumsum().plot(figsize=(14,7))"
   ]
  },
  {
   "cell_type": "code",
   "execution_count": 30,
   "metadata": {},
   "outputs": [
    {
     "data": {
      "text/plain": [
       "DatetimeIndex(['2023-12-11', '2023-12-12', '2023-12-13', '2023-12-14',\n",
       "               '2023-12-15', '2023-12-16', '2023-12-17', '2023-12-18',\n",
       "               '2023-12-19', '2023-12-20',\n",
       "               ...\n",
       "               '2025-03-04', '2025-03-05', '2025-03-06', '2025-03-07',\n",
       "               '2025-03-08', '2025-03-09', '2025-03-10', '2025-03-11',\n",
       "               '2025-03-12', '2025-03-13'],\n",
       "              dtype='datetime64[ns]', name='trade_time', length=459, freq='D')"
      ]
     },
     "execution_count": 30,
     "metadata": {},
     "output_type": "execute_result"
    }
   ],
   "source": [
    "returns1.index"
   ]
  },
  {
   "cell_type": "code",
   "execution_count": 31,
   "metadata": {},
   "outputs": [
    {
     "data": {
      "text/plain": [
       "DatetimeIndex(['2023-12-11', '2023-12-12', '2023-12-13', '2023-12-14',\n",
       "               '2023-12-15', '2023-12-16', '2023-12-17', '2023-12-18',\n",
       "               '2023-12-19', '2023-12-20',\n",
       "               ...\n",
       "               '2024-04-01', '2024-04-02', '2024-04-03', '2024-04-04',\n",
       "               '2024-04-05', '2024-04-06', '2024-04-07', '2024-04-08',\n",
       "               '2024-04-09', '2024-04-10'],\n",
       "              dtype='datetime64[ns]', name='trade_time', length=122, freq='D')"
      ]
     },
     "execution_count": 31,
     "metadata": {},
     "output_type": "execute_result"
    }
   ],
   "source": [
    "returns2.index"
   ]
  },
  {
   "cell_type": "code",
   "execution_count": 32,
   "metadata": {},
   "outputs": [
    {
     "data": {
      "text/plain": [
       "DatetimeIndex(['2023-12-11', '2023-12-12', '2023-12-13', '2023-12-14',\n",
       "               '2023-12-15', '2023-12-16', '2023-12-17', '2023-12-18',\n",
       "               '2023-12-19', '2023-12-20',\n",
       "               ...\n",
       "               '2025-03-04', '2025-03-05', '2025-03-06', '2025-03-07',\n",
       "               '2025-03-08', '2025-03-09', '2025-03-10', '2025-03-11',\n",
       "               '2025-03-12', '2025-03-13'],\n",
       "              dtype='datetime64[ns]', name='trade_time', length=459, freq='D')"
      ]
     },
     "execution_count": 32,
     "metadata": {},
     "output_type": "execute_result"
    }
   ],
   "source": [
    "returns3.index"
   ]
  },
  {
   "cell_type": "code",
   "execution_count": null,
   "metadata": {},
   "outputs": [],
   "source": []
  }
 ],
 "metadata": {
  "kernelspec": {
   "display_name": "lingua",
   "language": "python",
   "name": "python3"
  },
  "language_info": {
   "codemirror_mode": {
    "name": "ipython",
    "version": 3
   },
   "file_extension": ".py",
   "mimetype": "text/x-python",
   "name": "python",
   "nbconvert_exporter": "python",
   "pygments_lexer": "ipython3",
   "version": "3.8.3"
  }
 },
 "nbformat": 4,
 "nbformat_minor": 2
}
