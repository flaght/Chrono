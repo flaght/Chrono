{
 "cells": [
  {
   "cell_type": "code",
   "execution_count": 1,
   "metadata": {},
   "outputs": [],
   "source": [
    "import pandas as pd\n",
    "import os"
   ]
  },
  {
   "cell_type": "code",
   "execution_count": 2,
   "metadata": {},
   "outputs": [
    {
     "data": {
      "text/plain": [
       "'temp/aicso0/113001/evolution/programs_113001.feather'"
      ]
     },
     "execution_count": 2,
     "metadata": {},
     "output_type": "execute_result"
    }
   ],
   "source": [
    "method = 'aicso0'\n",
    "task_id = '113001'\n",
    "temp1 = os.path.join('temp',method,task_id,'evolution','programs_{0}.feather'.format(task_id))\n",
    "temp1"
   ]
  },
  {
   "cell_type": "code",
   "execution_count": 3,
   "metadata": {},
   "outputs": [],
   "source": [
    "#temp1 = \"temp/aicso2/200036/evolution/programs_200036.feather\"\n",
    "#temp1 = \"temp/aicso0/200036/evolution/programs_200036.feather\""
   ]
  },
  {
   "cell_type": "code",
   "execution_count": 5,
   "metadata": {},
   "outputs": [
    {
     "data": {
      "text/html": [
       "<div>\n",
       "<style scoped>\n",
       "    .dataframe tbody tr th:only-of-type {\n",
       "        vertical-align: middle;\n",
       "    }\n",
       "\n",
       "    .dataframe tbody tr th {\n",
       "        vertical-align: top;\n",
       "    }\n",
       "\n",
       "    .dataframe thead th {\n",
       "        text-align: right;\n",
       "    }\n",
       "</style>\n",
       "<table border=\"1\" class=\"dataframe\">\n",
       "  <thead>\n",
       "    <tr style=\"text-align: right;\">\n",
       "      <th></th>\n",
       "      <th>name</th>\n",
       "      <th>formual</th>\n",
       "      <th>final_fitness</th>\n",
       "      <th>raw_fitness</th>\n",
       "      <th>strategy_method</th>\n",
       "      <th>strategy_params</th>\n",
       "      <th>signal_method</th>\n",
       "      <th>signal_params</th>\n",
       "    </tr>\n",
       "  </thead>\n",
       "  <tbody>\n",
       "    <tr>\n",
       "      <th>0</th>\n",
       "      <td>ultron_1752551046483546</td>\n",
       "      <td>MARGMIN(14,MKURT(8,'fz002_5_10_0'))</td>\n",
       "      <td>0.675522</td>\n",
       "      <td>0.675522</td>\n",
       "      <td>trailing_strategy</td>\n",
       "      <td>{'max_volume': 1, 'trailing_percent': 0.024999...</td>\n",
       "      <td>mean_signal</td>\n",
       "      <td>{'roll_num': 30, 'threshold': 0.9}</td>\n",
       "    </tr>\n",
       "  </tbody>\n",
       "</table>\n",
       "</div>"
      ],
      "text/plain": [
       "                      name                              formual  \\\n",
       "0  ultron_1752551046483546  MARGMIN(14,MKURT(8,'fz002_5_10_0'))   \n",
       "\n",
       "   final_fitness  raw_fitness    strategy_method  \\\n",
       "0       0.675522     0.675522  trailing_strategy   \n",
       "\n",
       "                                     strategy_params signal_method  \\\n",
       "0  {'max_volume': 1, 'trailing_percent': 0.024999...   mean_signal   \n",
       "\n",
       "                        signal_params  \n",
       "0  {'roll_num': 30, 'threshold': 0.9}  "
      ]
     },
     "execution_count": 5,
     "metadata": {},
     "output_type": "execute_result"
    }
   ],
   "source": [
    "ms1 = pd.read_feather(temp1).drop(['update_time'], axis=1)[[\n",
    "    'name',\n",
    "    'formual', 'final_fitness', 'raw_fitness', 'strategy_method',\n",
    "    'strategy_params', 'signal_method', 'signal_params'\n",
    "]]\n",
    "ms1[ms1.final_fitness > 0.0].head(10)"
   ]
  },
  {
   "cell_type": "code",
   "execution_count": 11,
   "metadata": {},
   "outputs": [],
   "source": [
    "#ms1[ms1.final_fitness > 1]#.head()"
   ]
  },
  {
   "cell_type": "code",
   "execution_count": null,
   "metadata": {},
   "outputs": [],
   "source": []
  },
  {
   "cell_type": "code",
   "execution_count": null,
   "metadata": {},
   "outputs": [],
   "source": []
  }
 ],
 "metadata": {
  "kernelspec": {
   "display_name": "lingua",
   "language": "python",
   "name": "python3"
  },
  "language_info": {
   "codemirror_mode": {
    "name": "ipython",
    "version": 3
   },
   "file_extension": ".py",
   "mimetype": "text/x-python",
   "name": "python",
   "nbconvert_exporter": "python",
   "pygments_lexer": "ipython3",
   "version": "3.8.3"
  }
 },
 "nbformat": 4,
 "nbformat_minor": 2
}
