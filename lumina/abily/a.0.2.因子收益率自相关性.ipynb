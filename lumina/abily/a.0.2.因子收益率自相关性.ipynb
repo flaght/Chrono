{
 "cells": [
  {
   "cell_type": "code",
   "execution_count": 1,
   "metadata": {},
   "outputs": [
    {
     "data": {
      "text/plain": [
       "True"
      ]
     },
     "execution_count": 1,
     "metadata": {},
     "output_type": "execute_result"
    }
   ],
   "source": [
    "import pdb, os, argparse, itertools\n",
    "import pandas as pd\n",
    "import numpy as np\n",
    "from pymongo import InsertOne, DeleteOne\n",
    "from dotenv import load_dotenv\n",
    "load_dotenv()"
   ]
  },
  {
   "cell_type": "code",
   "execution_count": 2,
   "metadata": {},
   "outputs": [
    {
     "name": "stderr",
     "output_type": "stream",
     "text": [
      "/workspace/worker/env/lingua/lib/python3.8/site-packages/Finance_Jindowin-1.5.4-py3.8.egg/jdw/__init__.py:11: UserWarning: if use distributed calculating, please configure MQ_URL\n",
      "  warnings.warn('if use distributed calculating, please configure MQ_URL')\n",
      "/workspace/worker/env/lingua/lib/python3.8/site-packages/Finance_Jindowin-1.5.4-py3.8.egg/jdw/__init__.py:15: UserWarning: if use distributed calculating, please configure NTN_URL\n",
      "  warnings.warn('if use distributed calculating, please configure NTN_URL')\n",
      "/workspace/worker/env/lingua/lib/python3.8/site-packages/Finance_Jindowin-1.5.4-py3.8.egg/jdw/__init__.py:19: UserWarning: if use memory database, please configure KN_MG\n",
      "  warnings.warn('if use memory database, please configure KN_MG')\n",
      "/workspace/worker/env/lingua/lib/python3.8/site-packages/Finance_Jindowin-1.5.4-py3.8.egg/jdw/__init__.py:27: UserWarning: if use trader, please configure ATL_URL\n",
      "  warnings.warn('if use trader, please configure ATL_URL')\n",
      "/workspace/worker/env/lingua/lib/python3.8/site-packages/Finance_Jindowin-1.5.4-py3.8.egg/jdw/__init__.py:31: UserWarning: if use trader, please configure IREY_URL\n",
      "  warnings.warn('if use trader, please configure IREY_URL')\n"
     ]
    }
   ],
   "source": [
    "from kdutils.mongodb import MongoDBManager\n",
    "from lib.aux002 import *"
   ]
  },
  {
   "cell_type": "code",
   "execution_count": 3,
   "metadata": {},
   "outputs": [],
   "source": [
    "begin_date1 = '2025-01-02'\n",
    "end_date1 = '2025-02-01'"
   ]
  },
  {
   "cell_type": "code",
   "execution_count": 4,
   "metadata": {},
   "outputs": [
    {
     "data": {
      "text/html": [
       "<div>\n",
       "<style scoped>\n",
       "    .dataframe tbody tr th:only-of-type {\n",
       "        vertical-align: middle;\n",
       "    }\n",
       "\n",
       "    .dataframe tbody tr th {\n",
       "        vertical-align: top;\n",
       "    }\n",
       "\n",
       "    .dataframe thead th {\n",
       "        text-align: right;\n",
       "    }\n",
       "</style>\n",
       "<table border=\"1\" class=\"dataframe\">\n",
       "  <thead>\n",
       "    <tr style=\"text-align: right;\">\n",
       "      <th></th>\n",
       "      <th></th>\n",
       "      <th>nxt1_ret_1h</th>\n",
       "      <th>nxt1_ret_2h</th>\n",
       "      <th>nxt1_ret_3h</th>\n",
       "      <th>nxt1_ret_4h</th>\n",
       "      <th>nxt1_ret_5h</th>\n",
       "    </tr>\n",
       "    <tr>\n",
       "      <th>trade_time</th>\n",
       "      <th>code</th>\n",
       "      <th></th>\n",
       "      <th></th>\n",
       "      <th></th>\n",
       "      <th></th>\n",
       "      <th></th>\n",
       "    </tr>\n",
       "  </thead>\n",
       "  <tbody>\n",
       "    <tr>\n",
       "      <th>2025-01-02 09:30:00</th>\n",
       "      <th>IM</th>\n",
       "      <td>-0.002609</td>\n",
       "      <td>-0.003047</td>\n",
       "      <td>-0.004443</td>\n",
       "      <td>-0.003910</td>\n",
       "      <td>-0.003380</td>\n",
       "    </tr>\n",
       "    <tr>\n",
       "      <th>2025-01-02 09:31:00</th>\n",
       "      <th>IM</th>\n",
       "      <td>-0.000438</td>\n",
       "      <td>-0.001834</td>\n",
       "      <td>-0.001301</td>\n",
       "      <td>-0.000771</td>\n",
       "      <td>-0.000353</td>\n",
       "    </tr>\n",
       "    <tr>\n",
       "      <th>2025-01-02 09:32:00</th>\n",
       "      <th>IM</th>\n",
       "      <td>-0.001396</td>\n",
       "      <td>-0.000863</td>\n",
       "      <td>-0.000333</td>\n",
       "      <td>0.000085</td>\n",
       "      <td>0.001055</td>\n",
       "    </tr>\n",
       "    <tr>\n",
       "      <th>2025-01-02 09:33:00</th>\n",
       "      <th>IM</th>\n",
       "      <td>0.000533</td>\n",
       "      <td>0.001063</td>\n",
       "      <td>0.001481</td>\n",
       "      <td>0.002450</td>\n",
       "      <td>0.003588</td>\n",
       "    </tr>\n",
       "    <tr>\n",
       "      <th>2025-01-02 09:34:00</th>\n",
       "      <th>IM</th>\n",
       "      <td>0.000530</td>\n",
       "      <td>0.000948</td>\n",
       "      <td>0.001918</td>\n",
       "      <td>0.003055</td>\n",
       "      <td>0.002306</td>\n",
       "    </tr>\n",
       "  </tbody>\n",
       "</table>\n",
       "</div>"
      ],
      "text/plain": [
       "                          nxt1_ret_1h  nxt1_ret_2h  nxt1_ret_3h  nxt1_ret_4h  \\\n",
       "trade_time          code                                                       \n",
       "2025-01-02 09:30:00 IM      -0.002609    -0.003047    -0.004443    -0.003910   \n",
       "2025-01-02 09:31:00 IM      -0.000438    -0.001834    -0.001301    -0.000771   \n",
       "2025-01-02 09:32:00 IM      -0.001396    -0.000863    -0.000333     0.000085   \n",
       "2025-01-02 09:33:00 IM       0.000533     0.001063     0.001481     0.002450   \n",
       "2025-01-02 09:34:00 IM       0.000530     0.000948     0.001918     0.003055   \n",
       "\n",
       "                          nxt1_ret_5h  \n",
       "trade_time          code               \n",
       "2025-01-02 09:30:00 IM      -0.003380  \n",
       "2025-01-02 09:31:00 IM      -0.000353  \n",
       "2025-01-02 09:32:00 IM       0.001055  \n",
       "2025-01-02 09:33:00 IM       0.003588  \n",
       "2025-01-02 09:34:00 IM       0.002306  "
      ]
     },
     "execution_count": 4,
     "metadata": {},
     "output_type": "execute_result"
    }
   ],
   "source": [
    "returns1 = fetch_returns1(begin_date=begin_date1,\n",
    "                                 end_date=end_date1,\n",
    "                                 codes=['IM'])\n",
    "returns1.head()"
   ]
  },
  {
   "cell_type": "code",
   "execution_count": 5,
   "metadata": {},
   "outputs": [
    {
     "data": {
      "text/html": [
       "<div>\n",
       "<style scoped>\n",
       "    .dataframe tbody tr th:only-of-type {\n",
       "        vertical-align: middle;\n",
       "    }\n",
       "\n",
       "    .dataframe tbody tr th {\n",
       "        vertical-align: top;\n",
       "    }\n",
       "\n",
       "    .dataframe thead th {\n",
       "        text-align: right;\n",
       "    }\n",
       "</style>\n",
       "<table border=\"1\" class=\"dataframe\">\n",
       "  <thead>\n",
       "    <tr style=\"text-align: right;\">\n",
       "      <th></th>\n",
       "      <th></th>\n",
       "      <th>nxt1_ret_1h</th>\n",
       "      <th>nxt1_ret_2h</th>\n",
       "      <th>nxt1_ret_3h</th>\n",
       "      <th>nxt1_ret_4h</th>\n",
       "      <th>nxt1_ret_5h</th>\n",
       "    </tr>\n",
       "    <tr>\n",
       "      <th>trade_time</th>\n",
       "      <th>code</th>\n",
       "      <th></th>\n",
       "      <th></th>\n",
       "      <th></th>\n",
       "      <th></th>\n",
       "      <th></th>\n",
       "    </tr>\n",
       "  </thead>\n",
       "  <tbody>\n",
       "    <tr>\n",
       "      <th>2025-01-02 09:30:00</th>\n",
       "      <th>IM</th>\n",
       "      <td>-0.002605</td>\n",
       "      <td>-0.003042</td>\n",
       "      <td>-0.004433</td>\n",
       "      <td>-0.003902</td>\n",
       "      <td>-0.003374</td>\n",
       "    </tr>\n",
       "    <tr>\n",
       "      <th>2025-01-02 09:31:00</th>\n",
       "      <th>IM</th>\n",
       "      <td>-0.000438</td>\n",
       "      <td>-0.001833</td>\n",
       "      <td>-0.001300</td>\n",
       "      <td>-0.000771</td>\n",
       "      <td>-0.000353</td>\n",
       "    </tr>\n",
       "    <tr>\n",
       "      <th>2025-01-02 09:32:00</th>\n",
       "      <th>IM</th>\n",
       "      <td>-0.001395</td>\n",
       "      <td>-0.000863</td>\n",
       "      <td>-0.000333</td>\n",
       "      <td>0.000085</td>\n",
       "      <td>0.001055</td>\n",
       "    </tr>\n",
       "    <tr>\n",
       "      <th>2025-01-02 09:33:00</th>\n",
       "      <th>IM</th>\n",
       "      <td>0.000533</td>\n",
       "      <td>0.001064</td>\n",
       "      <td>0.001482</td>\n",
       "      <td>0.002453</td>\n",
       "      <td>0.003594</td>\n",
       "    </tr>\n",
       "    <tr>\n",
       "      <th>2025-01-02 09:34:00</th>\n",
       "      <th>IM</th>\n",
       "      <td>0.000530</td>\n",
       "      <td>0.000948</td>\n",
       "      <td>0.001919</td>\n",
       "      <td>0.003059</td>\n",
       "      <td>0.002308</td>\n",
       "    </tr>\n",
       "  </tbody>\n",
       "</table>\n",
       "</div>"
      ],
      "text/plain": [
       "                          nxt1_ret_1h  nxt1_ret_2h  nxt1_ret_3h  nxt1_ret_4h  \\\n",
       "trade_time          code                                                       \n",
       "2025-01-02 09:30:00 IM      -0.002605    -0.003042    -0.004433    -0.003902   \n",
       "2025-01-02 09:31:00 IM      -0.000438    -0.001833    -0.001300    -0.000771   \n",
       "2025-01-02 09:32:00 IM      -0.001395    -0.000863    -0.000333     0.000085   \n",
       "2025-01-02 09:33:00 IM       0.000533     0.001064     0.001482     0.002453   \n",
       "2025-01-02 09:34:00 IM       0.000530     0.000948     0.001919     0.003059   \n",
       "\n",
       "                          nxt1_ret_5h  \n",
       "trade_time          code               \n",
       "2025-01-02 09:30:00 IM      -0.003374  \n",
       "2025-01-02 09:31:00 IM      -0.000353  \n",
       "2025-01-02 09:32:00 IM       0.001055  \n",
       "2025-01-02 09:33:00 IM       0.003594  \n",
       "2025-01-02 09:34:00 IM       0.002308  "
      ]
     },
     "execution_count": 5,
     "metadata": {},
     "output_type": "execute_result"
    }
   ],
   "source": [
    "returns2 = fetch_returns2(begin_date=begin_date1,\n",
    "                                 end_date=end_date1,\n",
    "                                 codes=['IM'])\n",
    "returns2.head()"
   ]
  },
  {
   "cell_type": "code",
   "execution_count": 6,
   "metadata": {},
   "outputs": [
    {
     "data": {
      "text/plain": [
       "0.16007562172660653"
      ]
     },
     "execution_count": 6,
     "metadata": {},
     "output_type": "execute_result"
    }
   ],
   "source": [
    "returns2['nxt1_ret_1h']\n",
    "\n",
    "returns1.groupby('code').apply(lambda x: x['nxt1_ret_1h'].autocorr(lag=1)).mean()"
   ]
  },
  {
   "cell_type": "code",
   "execution_count": 7,
   "metadata": {},
   "outputs": [
    {
     "data": {
      "text/plain": [
       "0.5632627418209767"
      ]
     },
     "execution_count": 7,
     "metadata": {},
     "output_type": "execute_result"
    }
   ],
   "source": [
    "returns1.groupby('code').apply(lambda x: x['nxt1_ret_2h'].autocorr(lag=1)).mean()"
   ]
  },
  {
   "cell_type": "code",
   "execution_count": 8,
   "metadata": {},
   "outputs": [
    {
     "data": {
      "text/plain": [
       "0.7161296426420235"
      ]
     },
     "execution_count": 8,
     "metadata": {},
     "output_type": "execute_result"
    }
   ],
   "source": [
    "returns1.groupby('code').apply(lambda x: x['nxt1_ret_3h'].autocorr(lag=1)).mean()"
   ]
  },
  {
   "cell_type": "code",
   "execution_count": 9,
   "metadata": {},
   "outputs": [
    {
     "data": {
      "text/plain": [
       "0.7899745023088793"
      ]
     },
     "execution_count": 9,
     "metadata": {},
     "output_type": "execute_result"
    }
   ],
   "source": [
    "returns1.groupby('code').apply(lambda x: x['nxt1_ret_4h'].autocorr(lag=1)).mean()"
   ]
  },
  {
   "cell_type": "code",
   "execution_count": 10,
   "metadata": {},
   "outputs": [
    {
     "data": {
      "text/plain": [
       "0.8374793320424713"
      ]
     },
     "execution_count": 10,
     "metadata": {},
     "output_type": "execute_result"
    }
   ],
   "source": [
    "returns1.groupby('code').apply(lambda x: x['nxt1_ret_5h'].autocorr(lag=1)).mean()"
   ]
  },
  {
   "cell_type": "code",
   "execution_count": 13,
   "metadata": {},
   "outputs": [
    {
     "data": {
      "text/html": [
       "<div>\n",
       "<style scoped>\n",
       "    .dataframe tbody tr th:only-of-type {\n",
       "        vertical-align: middle;\n",
       "    }\n",
       "\n",
       "    .dataframe tbody tr th {\n",
       "        vertical-align: top;\n",
       "    }\n",
       "\n",
       "    .dataframe thead th {\n",
       "        text-align: right;\n",
       "    }\n",
       "</style>\n",
       "<table border=\"1\" class=\"dataframe\">\n",
       "  <thead>\n",
       "    <tr style=\"text-align: right;\">\n",
       "      <th></th>\n",
       "      <th></th>\n",
       "      <th>nxt1_ret_1h</th>\n",
       "      <th>nxt1_ret_2h</th>\n",
       "      <th>nxt1_ret_3h</th>\n",
       "      <th>nxt1_ret_4h</th>\n",
       "      <th>nxt1_ret_5h</th>\n",
       "    </tr>\n",
       "    <tr>\n",
       "      <th>trade_time</th>\n",
       "      <th>code</th>\n",
       "      <th></th>\n",
       "      <th></th>\n",
       "      <th></th>\n",
       "      <th></th>\n",
       "      <th></th>\n",
       "    </tr>\n",
       "  </thead>\n",
       "  <tbody>\n",
       "    <tr>\n",
       "      <th>2025-01-02 09:30:00</th>\n",
       "      <th>IM</th>\n",
       "      <td>-0.002609</td>\n",
       "      <td>-0.003047</td>\n",
       "      <td>-0.004443</td>\n",
       "      <td>-0.003910</td>\n",
       "      <td>-0.003380</td>\n",
       "    </tr>\n",
       "    <tr>\n",
       "      <th>2025-01-02 09:35:00</th>\n",
       "      <th>IM</th>\n",
       "      <td>0.000418</td>\n",
       "      <td>0.001387</td>\n",
       "      <td>0.002524</td>\n",
       "      <td>0.001775</td>\n",
       "      <td>0.002515</td>\n",
       "    </tr>\n",
       "    <tr>\n",
       "      <th>2025-01-02 09:40:00</th>\n",
       "      <th>IM</th>\n",
       "      <td>0.000066</td>\n",
       "      <td>-0.000178</td>\n",
       "      <td>-0.002595</td>\n",
       "      <td>0.000030</td>\n",
       "      <td>0.000544</td>\n",
       "    </tr>\n",
       "    <tr>\n",
       "      <th>2025-01-02 09:45:00</th>\n",
       "      <th>IM</th>\n",
       "      <td>0.000581</td>\n",
       "      <td>0.000539</td>\n",
       "      <td>-0.000253</td>\n",
       "      <td>-0.001081</td>\n",
       "      <td>0.001263</td>\n",
       "    </tr>\n",
       "    <tr>\n",
       "      <th>2025-01-02 09:50:00</th>\n",
       "      <th>IM</th>\n",
       "      <td>0.000578</td>\n",
       "      <td>0.000647</td>\n",
       "      <td>0.000483</td>\n",
       "      <td>0.000644</td>\n",
       "      <td>0.000585</td>\n",
       "    </tr>\n",
       "    <tr>\n",
       "      <th>...</th>\n",
       "      <th>...</th>\n",
       "      <td>...</td>\n",
       "      <td>...</td>\n",
       "      <td>...</td>\n",
       "      <td>...</td>\n",
       "      <td>...</td>\n",
       "    </tr>\n",
       "    <tr>\n",
       "      <th>2025-01-27 14:35:00</th>\n",
       "      <th>IM</th>\n",
       "      <td>0.000499</td>\n",
       "      <td>0.000708</td>\n",
       "      <td>0.000335</td>\n",
       "      <td>-0.000235</td>\n",
       "      <td>-0.000071</td>\n",
       "    </tr>\n",
       "    <tr>\n",
       "      <th>2025-01-27 14:40:00</th>\n",
       "      <th>IM</th>\n",
       "      <td>-0.000386</td>\n",
       "      <td>-0.000362</td>\n",
       "      <td>-0.000996</td>\n",
       "      <td>-0.001727</td>\n",
       "      <td>-0.001882</td>\n",
       "    </tr>\n",
       "    <tr>\n",
       "      <th>2025-01-27 14:45:00</th>\n",
       "      <th>IM</th>\n",
       "      <td>-0.000206</td>\n",
       "      <td>-0.000680</td>\n",
       "      <td>-0.000449</td>\n",
       "      <td>-0.000230</td>\n",
       "      <td>0.000913</td>\n",
       "    </tr>\n",
       "    <tr>\n",
       "      <th>2025-01-27 14:50:00</th>\n",
       "      <th>IM</th>\n",
       "      <td>-0.000598</td>\n",
       "      <td>-0.001487</td>\n",
       "      <td>-0.001544</td>\n",
       "      <td>-0.001362</td>\n",
       "      <td>-0.001224</td>\n",
       "    </tr>\n",
       "    <tr>\n",
       "      <th>2025-01-27 14:55:00</th>\n",
       "      <th>IM</th>\n",
       "      <td>-0.000712</td>\n",
       "      <td>-0.002380</td>\n",
       "      <td>-0.003238</td>\n",
       "      <td>-0.003179</td>\n",
       "      <td>NaN</td>\n",
       "    </tr>\n",
       "  </tbody>\n",
       "</table>\n",
       "<p>881 rows × 5 columns</p>\n",
       "</div>"
      ],
      "text/plain": [
       "                          nxt1_ret_1h  nxt1_ret_2h  nxt1_ret_3h  nxt1_ret_4h  \\\n",
       "trade_time          code                                                       \n",
       "2025-01-02 09:30:00 IM      -0.002609    -0.003047    -0.004443    -0.003910   \n",
       "2025-01-02 09:35:00 IM       0.000418     0.001387     0.002524     0.001775   \n",
       "2025-01-02 09:40:00 IM       0.000066    -0.000178    -0.002595     0.000030   \n",
       "2025-01-02 09:45:00 IM       0.000581     0.000539    -0.000253    -0.001081   \n",
       "2025-01-02 09:50:00 IM       0.000578     0.000647     0.000483     0.000644   \n",
       "...                               ...          ...          ...          ...   \n",
       "2025-01-27 14:35:00 IM       0.000499     0.000708     0.000335    -0.000235   \n",
       "2025-01-27 14:40:00 IM      -0.000386    -0.000362    -0.000996    -0.001727   \n",
       "2025-01-27 14:45:00 IM      -0.000206    -0.000680    -0.000449    -0.000230   \n",
       "2025-01-27 14:50:00 IM      -0.000598    -0.001487    -0.001544    -0.001362   \n",
       "2025-01-27 14:55:00 IM      -0.000712    -0.002380    -0.003238    -0.003179   \n",
       "\n",
       "                          nxt1_ret_5h  \n",
       "trade_time          code               \n",
       "2025-01-02 09:30:00 IM      -0.003380  \n",
       "2025-01-02 09:35:00 IM       0.002515  \n",
       "2025-01-02 09:40:00 IM       0.000544  \n",
       "2025-01-02 09:45:00 IM       0.001263  \n",
       "2025-01-02 09:50:00 IM       0.000585  \n",
       "...                               ...  \n",
       "2025-01-27 14:35:00 IM      -0.000071  \n",
       "2025-01-27 14:40:00 IM      -0.001882  \n",
       "2025-01-27 14:45:00 IM       0.000913  \n",
       "2025-01-27 14:50:00 IM      -0.001224  \n",
       "2025-01-27 14:55:00 IM            NaN  \n",
       "\n",
       "[881 rows x 5 columns]"
      ]
     },
     "execution_count": 13,
     "metadata": {},
     "output_type": "execute_result"
    }
   ],
   "source": [
    "time_index = returns1.index.get_level_values('trade_time')\n",
    "mask = time_index.minute % 5 == 0\n",
    "returns1_filtered = returns1[mask]\n",
    "returns1_filtered"
   ]
  },
  {
   "cell_type": "code",
   "execution_count": 14,
   "metadata": {},
   "outputs": [
    {
     "data": {
      "text/plain": [
       "0.05541271388055188"
      ]
     },
     "execution_count": 14,
     "metadata": {},
     "output_type": "execute_result"
    }
   ],
   "source": [
    "returns1_filtered.groupby('code').apply(lambda x: x['nxt1_ret_5h'].autocorr(lag=1)).mean()"
   ]
  },
  {
   "cell_type": "code",
   "execution_count": null,
   "metadata": {},
   "outputs": [],
   "source": []
  }
 ],
 "metadata": {
  "kernelspec": {
   "display_name": "lingua",
   "language": "python",
   "name": "python3"
  },
  "language_info": {
   "codemirror_mode": {
    "name": "ipython",
    "version": 3
   },
   "file_extension": ".py",
   "mimetype": "text/x-python",
   "name": "python",
   "nbconvert_exporter": "python",
   "pygments_lexer": "ipython3",
   "version": "3.8.3"
  }
 },
 "nbformat": 4,
 "nbformat_minor": 2
}
