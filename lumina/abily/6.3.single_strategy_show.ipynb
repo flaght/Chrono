{
 "cells": [
  {
   "cell_type": "markdown",
   "metadata": {},
   "source": [
    "### 单个策略在不同数据集的表现"
   ]
  },
  {
   "cell_type": "code",
   "execution_count": 1,
   "metadata": {},
   "outputs": [
    {
     "data": {
      "text/plain": [
       "True"
      ]
     },
     "execution_count": 1,
     "metadata": {},
     "output_type": "execute_result"
    }
   ],
   "source": [
    "from dotenv import load_dotenv\n",
    "load_dotenv()"
   ]
  },
  {
   "cell_type": "code",
   "execution_count": 2,
   "metadata": {},
   "outputs": [],
   "source": [
    "import pandas as pd\n",
    "from lumina.genetic.signal.method import *\n",
    "from lumina.genetic.strategy.method import *\n",
    "from ultron.factor.genetic.geneticist.operators import *\n",
    "from lumina.genetic.fusion.orders import profit_std, profit_rate, position_next_order_cy\n",
    "from lumina.genetic.fusion.orders.state import order_rate\n",
    "from lumina.genetic.metrics.ts_pnl import calculate_ful_ts_pnl"
   ]
  },
  {
   "cell_type": "markdown",
   "metadata": {},
   "source": []
  },
  {
   "cell_type": "code",
   "execution_count": 3,
   "metadata": {},
   "outputs": [],
   "source": [
    "from kdutils.macro2 import *\n",
    "from kdutils.file import fetch_file_data"
   ]
  },
  {
   "cell_type": "code",
   "execution_count": 4,
   "metadata": {},
   "outputs": [],
   "source": [
    "method = 'aicso2'\n",
    "g_instruments = 'ims'"
   ]
  },
  {
   "cell_type": "code",
   "execution_count": 5,
   "metadata": {},
   "outputs": [
    {
     "data": {
      "text/html": [
       "<div>\n",
       "<style scoped>\n",
       "    .dataframe tbody tr th:only-of-type {\n",
       "        vertical-align: middle;\n",
       "    }\n",
       "\n",
       "    .dataframe tbody tr th {\n",
       "        vertical-align: top;\n",
       "    }\n",
       "\n",
       "    .dataframe thead th {\n",
       "        text-align: right;\n",
       "    }\n",
       "</style>\n",
       "<table border=\"1\" class=\"dataframe\">\n",
       "  <thead>\n",
       "    <tr style=\"text-align: right;\">\n",
       "      <th></th>\n",
       "      <th>trade_time</th>\n",
       "      <th>code</th>\n",
       "      <th>fz002_10_15_0</th>\n",
       "      <th>fz002_10_15_1</th>\n",
       "      <th>fz002_5_10_0</th>\n",
       "      <th>fz002_5_10_1</th>\n",
       "      <th>gd002_10_15_0</th>\n",
       "      <th>gd002_10_15_1</th>\n",
       "      <th>gd002_5_10_0</th>\n",
       "      <th>gd002_5_10_1</th>\n",
       "      <th>...</th>\n",
       "      <th>tf022_5_10_0</th>\n",
       "      <th>tf022_5_10_1</th>\n",
       "      <th>close</th>\n",
       "      <th>high</th>\n",
       "      <th>low</th>\n",
       "      <th>open</th>\n",
       "      <th>value</th>\n",
       "      <th>volume</th>\n",
       "      <th>openint</th>\n",
       "      <th>vwap</th>\n",
       "    </tr>\n",
       "  </thead>\n",
       "  <tbody>\n",
       "    <tr>\n",
       "      <th>0</th>\n",
       "      <td>2022-07-25 09:30:00</td>\n",
       "      <td>IM</td>\n",
       "      <td>0.000005</td>\n",
       "      <td>0.000012</td>\n",
       "      <td>1.510336e-07</td>\n",
       "      <td>0.000011</td>\n",
       "      <td>0.514307</td>\n",
       "      <td>0.535732</td>\n",
       "      <td>0.638363</td>\n",
       "      <td>0.594229</td>\n",
       "      <td>...</td>\n",
       "      <td>6960.738199</td>\n",
       "      <td>6965.166142</td>\n",
       "      <td>6974.2</td>\n",
       "      <td>6974.2</td>\n",
       "      <td>6974.2</td>\n",
       "      <td>6974.2</td>\n",
       "      <td>78111040.0</td>\n",
       "      <td>56.0</td>\n",
       "      <td>17477.0</td>\n",
       "      <td>6974.200000</td>\n",
       "    </tr>\n",
       "    <tr>\n",
       "      <th>1</th>\n",
       "      <td>2022-07-25 09:31:00</td>\n",
       "      <td>IM</td>\n",
       "      <td>0.000004</td>\n",
       "      <td>0.000014</td>\n",
       "      <td>-5.022059e-07</td>\n",
       "      <td>0.000019</td>\n",
       "      <td>0.519601</td>\n",
       "      <td>0.490171</td>\n",
       "      <td>0.577894</td>\n",
       "      <td>0.474407</td>\n",
       "      <td>...</td>\n",
       "      <td>6962.646048</td>\n",
       "      <td>6965.797137</td>\n",
       "      <td>6973.8</td>\n",
       "      <td>6994.8</td>\n",
       "      <td>6964.4</td>\n",
       "      <td>6971.8</td>\n",
       "      <td>848911040.0</td>\n",
       "      <td>608.0</td>\n",
       "      <td>17333.0</td>\n",
       "      <td>6981.176316</td>\n",
       "    </tr>\n",
       "    <tr>\n",
       "      <th>2</th>\n",
       "      <td>2022-07-25 09:32:00</td>\n",
       "      <td>IM</td>\n",
       "      <td>0.000004</td>\n",
       "      <td>0.000023</td>\n",
       "      <td>5.013559e-06</td>\n",
       "      <td>0.000050</td>\n",
       "      <td>0.505921</td>\n",
       "      <td>0.437287</td>\n",
       "      <td>0.506818</td>\n",
       "      <td>0.366650</td>\n",
       "      <td>...</td>\n",
       "      <td>6965.278947</td>\n",
       "      <td>6967.786373</td>\n",
       "      <td>6982.8</td>\n",
       "      <td>6995.2</td>\n",
       "      <td>6969.6</td>\n",
       "      <td>6973.8</td>\n",
       "      <td>597671840.0</td>\n",
       "      <td>428.0</td>\n",
       "      <td>17268.0</td>\n",
       "      <td>6982.147664</td>\n",
       "    </tr>\n",
       "    <tr>\n",
       "      <th>3</th>\n",
       "      <td>2022-07-25 09:33:00</td>\n",
       "      <td>IM</td>\n",
       "      <td>0.000006</td>\n",
       "      <td>0.000033</td>\n",
       "      <td>1.808164e-05</td>\n",
       "      <td>0.000077</td>\n",
       "      <td>0.482672</td>\n",
       "      <td>0.387361</td>\n",
       "      <td>0.415001</td>\n",
       "      <td>0.283643</td>\n",
       "      <td>...</td>\n",
       "      <td>6970.107860</td>\n",
       "      <td>6972.851800</td>\n",
       "      <td>6989.8</td>\n",
       "      <td>6989.8</td>\n",
       "      <td>6981.6</td>\n",
       "      <td>6982.8</td>\n",
       "      <td>391195160.0</td>\n",
       "      <td>280.0</td>\n",
       "      <td>17213.0</td>\n",
       "      <td>6985.627857</td>\n",
       "    </tr>\n",
       "    <tr>\n",
       "      <th>4</th>\n",
       "      <td>2022-07-25 09:34:00</td>\n",
       "      <td>IM</td>\n",
       "      <td>0.000008</td>\n",
       "      <td>0.000042</td>\n",
       "      <td>3.322211e-05</td>\n",
       "      <td>0.000094</td>\n",
       "      <td>0.453396</td>\n",
       "      <td>0.340788</td>\n",
       "      <td>0.309016</td>\n",
       "      <td>0.219035</td>\n",
       "      <td>...</td>\n",
       "      <td>6976.463962</td>\n",
       "      <td>6976.334521</td>\n",
       "      <td>6993.0</td>\n",
       "      <td>6993.0</td>\n",
       "      <td>6982.6</td>\n",
       "      <td>6989.6</td>\n",
       "      <td>447271480.0</td>\n",
       "      <td>320.0</td>\n",
       "      <td>17123.0</td>\n",
       "      <td>6988.616875</td>\n",
       "    </tr>\n",
       "  </tbody>\n",
       "</table>\n",
       "<p>5 rows × 856 columns</p>\n",
       "</div>"
      ],
      "text/plain": [
       "           trade_time code  fz002_10_15_0  fz002_10_15_1  fz002_5_10_0  \\\n",
       "0 2022-07-25 09:30:00   IM       0.000005       0.000012  1.510336e-07   \n",
       "1 2022-07-25 09:31:00   IM       0.000004       0.000014 -5.022059e-07   \n",
       "2 2022-07-25 09:32:00   IM       0.000004       0.000023  5.013559e-06   \n",
       "3 2022-07-25 09:33:00   IM       0.000006       0.000033  1.808164e-05   \n",
       "4 2022-07-25 09:34:00   IM       0.000008       0.000042  3.322211e-05   \n",
       "\n",
       "   fz002_5_10_1  gd002_10_15_0  gd002_10_15_1  gd002_5_10_0  gd002_5_10_1  \\\n",
       "0      0.000011       0.514307       0.535732      0.638363      0.594229   \n",
       "1      0.000019       0.519601       0.490171      0.577894      0.474407   \n",
       "2      0.000050       0.505921       0.437287      0.506818      0.366650   \n",
       "3      0.000077       0.482672       0.387361      0.415001      0.283643   \n",
       "4      0.000094       0.453396       0.340788      0.309016      0.219035   \n",
       "\n",
       "   ...  tf022_5_10_0  tf022_5_10_1   close    high     low    open  \\\n",
       "0  ...   6960.738199   6965.166142  6974.2  6974.2  6974.2  6974.2   \n",
       "1  ...   6962.646048   6965.797137  6973.8  6994.8  6964.4  6971.8   \n",
       "2  ...   6965.278947   6967.786373  6982.8  6995.2  6969.6  6973.8   \n",
       "3  ...   6970.107860   6972.851800  6989.8  6989.8  6981.6  6982.8   \n",
       "4  ...   6976.463962   6976.334521  6993.0  6993.0  6982.6  6989.6   \n",
       "\n",
       "         value  volume  openint         vwap  \n",
       "0   78111040.0    56.0  17477.0  6974.200000  \n",
       "1  848911040.0   608.0  17333.0  6981.176316  \n",
       "2  597671840.0   428.0  17268.0  6982.147664  \n",
       "3  391195160.0   280.0  17213.0  6985.627857  \n",
       "4  447271480.0   320.0  17123.0  6988.616875  \n",
       "\n",
       "[5 rows x 856 columns]"
      ]
     },
     "execution_count": 5,
     "metadata": {},
     "output_type": "execute_result"
    }
   ],
   "source": [
    "total_data = fetch_file_data(base_path=base_path,\n",
    "                             method=method,\n",
    "                             g_instruments=g_instruments,\n",
    "                             datasets=['train_data','val_data','test_data'])\n",
    "total_data.head()\n",
    "\n",
    "#filename = os.path.join(base_path, method, g_instruments, 'merge',\n",
    "#                            \"train_data.feather\")\n",
    "#factors_data = pd.read_feather(filename).sort_values(\n",
    "#        by=['trade_time', 'code'])\n",
    "#rootid = INDEX_MAPPING[INSTRUMENTS_CODES[g_instruments]]\n",
    "#factors_data['trade_time'] = pd.to_datetime(factors_data['trade_time'])\n",
    "#factors_data = factors_data.set_index('trade_time')\n",
    "\n",
    "#total_data = factors_data"
   ]
  },
  {
   "cell_type": "code",
   "execution_count": 6,
   "metadata": {},
   "outputs": [],
   "source": [
    "total_data['trade_time'] = pd.to_datetime(total_data['trade_time'])"
   ]
  },
  {
   "cell_type": "code",
   "execution_count": 7,
   "metadata": {},
   "outputs": [],
   "source": [
    "strategy_settings = {\n",
    "        'capital': 10000000,\n",
    "        'commission':0.00023,# COST_MAPPING[INSTRUMENTS_CODES[g_instruments]],\n",
    "        'slippage': 0,#SLIPPAGE_MAPPING[INSTRUMENTS_CODES[g_instruments]],\n",
    "        'size': CONT_MULTNUM_MAPPING[INSTRUMENTS_CODES[g_instruments]]\n",
    "    }"
   ]
  },
  {
   "cell_type": "code",
   "execution_count": 8,
   "metadata": {},
   "outputs": [],
   "source": [
    "total_data1 = total_data.set_index(['trade_time'])\n",
    "total_data2 = total_data.set_index(['trade_time', 'code']).unstack()\n",
    "\n",
    "total_dt = total_data2.copy()"
   ]
  },
  {
   "cell_type": "code",
   "execution_count": 9,
   "metadata": {},
   "outputs": [],
   "source": [
    "def build_strategy(total_data1,\n",
    "                   total_data2,\n",
    "                   total_dt,\n",
    "                   formual,\n",
    "                   signal_method,\n",
    "                   strategy_method,\n",
    "                   signal_params,\n",
    "                   strategy_params,\n",
    "                   strategy_settings,\n",
    "                   key_name='open'):\n",
    "    factors_data = calc_factor(expression=formual,\n",
    "                               total_data=total_data1,\n",
    "                               key='code',\n",
    "                               indexs=[])\n",
    "    factors_data1 = factors_data.reset_index().set_index(\n",
    "        ['trade_time', 'code'])\n",
    "    pos_data = eval(signal_method)(factor_data=factors_data1, **signal_params)\n",
    "    pos_data1 = eval(strategy_method)(signal=pos_data,\n",
    "                                      total_data=total_dt,\n",
    "                                      **strategy_params)\n",
    "\n",
    "    total_data2['trade_vol', total_data2['open'].columns[0]] = (\n",
    "        strategy_settings['capital'] / total_data2['open'] /\n",
    "        strategy_settings['size'])\n",
    "\n",
    "    orders = position_next_order_cy(pos_data=pos_data1,\n",
    "                                    market_data=total_data2,\n",
    "                                    commission=strategy_settings['commission'],\n",
    "                                    slippage=strategy_settings['slippage'],\n",
    "                                    name=key_name)\n",
    "    profit_rate_val = profit_rate(orders=orders)\n",
    "\n",
    "    df1 = calculate_ful_ts_pnl(pos_data=pos_data1,\n",
    "                               total_data=total_data2,\n",
    "                               strategy_settings=strategy_settings)\n",
    "    return df1, profit_rate_val, orders"
   ]
  },
  {
   "cell_type": "code",
   "execution_count": 10,
   "metadata": {},
   "outputs": [],
   "source": [
    "formual = \"SIGMOID(MQUANTILE(12,MACCBands(8,SIGMOID(MSmart(8,MSUM(20,'db002_5_10_0'),MARGMAX(16,'oi030_5_10_0'))),'rv006_5_10_0_2')))\"\n",
    "signal_method = \"mean_signal\"\n",
    "strategy_method = \"trailing_atr_strategy\"\n",
    "signal_params = {\"threshold\": 0.4, \"roll_num\": 50}\n",
    "strategy_params = {\"atr_period\": 30, \"atr_multiplier\": 9, \"max_volume\": 1}\n",
    "df1, profit_rate_val, orders = build_strategy(\n",
    "    total_data1=total_data1,\n",
    "    total_data2=total_data2,\n",
    "    total_dt=total_dt,\n",
    "    formual=formual,\n",
    "    signal_method=signal_method,\n",
    "    strategy_method=strategy_method,\n",
    "    signal_params=signal_params,\n",
    "    strategy_params=strategy_params,\n",
    "    strategy_settings=strategy_settings,\n",
    "    key_name='open')"
   ]
  },
  {
   "cell_type": "code",
   "execution_count": 11,
   "metadata": {},
   "outputs": [
    {
     "data": {
      "text/plain": [
       "<Axes: title={'center': 'Cumulative Returns'}, xlabel='trade_time'>"
      ]
     },
     "execution_count": 11,
     "metadata": {},
     "output_type": "execute_result"
    },
    {
     "data": {
      "image/png": "[encoded data removed]",
      "text/plain": [
       "<Figure size 1200x600 with 1 Axes>"
      ]
     },
     "metadata": {},
     "output_type": "display_data"
    }
   ],
   "source": [
    "df1['ret'].cumsum().plot(figsize=(12, 6), title='Cumulative Returns')"
   ]
  },
  {
   "cell_type": "code",
   "execution_count": 12,
   "metadata": {},
   "outputs": [
    {
     "data": {
      "text/plain": [
       "1.1189193718172725"
      ]
     },
     "execution_count": 12,
     "metadata": {},
     "output_type": "execute_result"
    }
   ],
   "source": [
    "import ultron.factor.empyrical as empyrical\n",
    "empyrical.sharpe_ratio(returns=df1['ret'],\n",
    "                                             period=empyrical.DAILY)"
   ]
  },
  {
   "cell_type": "code",
   "execution_count": 34,
   "metadata": {},
   "outputs": [],
   "source": [
    "res = []\n",
    "for order in orders:\n",
    "    rat1 = order_rate(order=order)\n",
    "    s1 = order._asdict()\n",
    "    s1['rate'] = rat1\n",
    "    res.append(s1)"
   ]
  },
  {
   "cell_type": "code",
   "execution_count": 42,
   "metadata": {},
   "outputs": [],
   "source": [
    "rates = [order_rate(order) for order in orders]"
   ]
  },
  {
   "cell_type": "code",
   "execution_count": 64,
   "metadata": {},
   "outputs": [],
   "source": [
    "import numpy as np\n",
    "n_sigma = 3\n",
    "rates_series = np.array(rates)\n",
    "mean_val = np.mean(rates_series)\n",
    "std_val = np.std(rates_series)\n",
    "lower_bound = mean_val - n_sigma * std_val\n",
    "upper_bound = mean_val + n_sigma * std_val"
   ]
  },
  {
   "cell_type": "code",
   "execution_count": 65,
   "metadata": {},
   "outputs": [
    {
     "data": {
      "text/plain": [
       "array([ 5.29069494e-02, -3.81174534e-02, -8.52656635e-04,  6.26702531e-03,\n",
       "        5.74289756e-04, -8.08580330e-03, -4.58362830e-02, -4.60340000e-04,\n",
       "       -2.07203666e-03,  2.87065675e-04, -2.33568573e-03, -1.14688010e-04,\n",
       "       -8.89170626e-03, -1.48905848e-03, -8.03363758e-04, -8.60545825e-04,\n",
       "        4.81826177e-02, -5.80876387e-04,  8.96866774e-03, -8.87546988e-04,\n",
       "       -1.77189560e-03,  9.59408428e-03, -5.90001369e-05,  3.42178717e-04,\n",
       "       -9.34209772e-03,  4.41282339e-02, -1.06886596e-04, -4.92438092e-04,\n",
       "        3.17110424e-02, -1.92101815e-03, -1.35319901e-02,  5.29143014e-03,\n",
       "       -4.27330708e-04, -8.23310422e-04,  3.43421768e-05,  3.93687007e-03,\n",
       "       -9.07868555e-03,  6.59370310e-04, -3.61512204e-03, -4.51286354e-03,\n",
       "       -7.89103523e-04,  1.82007587e-02,  2.66890168e-02,  4.05985966e-04,\n",
       "        5.74756717e-02, -2.84675692e-03, -3.13750048e-04,  2.64071948e-02,\n",
       "       -2.32558214e-04])"
      ]
     },
     "execution_count": 65,
     "metadata": {},
     "output_type": "execute_result"
    }
   ],
   "source": [
    "rates_series = rates_series[(rates_series >= lower_bound)\n",
    "                            & (rates_series <= upper_bound)]\n",
    "rates_series"
   ]
  },
  {
   "cell_type": "code",
   "execution_count": 66,
   "metadata": {},
   "outputs": [
    {
     "data": {
      "text/plain": [
       "0.19914043237908055"
      ]
     },
     "execution_count": 66,
     "metadata": {},
     "output_type": "execute_result"
    }
   ],
   "source": [
    "rates_series.mean() / rates_series.std()"
   ]
  },
  {
   "cell_type": "code",
   "execution_count": 57,
   "metadata": {},
   "outputs": [
    {
     "data": {
      "text/plain": [
       "0.0018188176982320793"
      ]
     },
     "execution_count": 57,
     "metadata": {},
     "output_type": "execute_result"
    }
   ],
   "source": [
    "s1 = pd.DataFrame(res).loc[1:].sort_values(by='rate', ascending=False)\n",
    "s1[s1['rate'] < 0.1]['rate'].sum()\n",
    "\n",
    "s1['rate'].mean()"
   ]
  },
  {
   "cell_type": "code",
   "execution_count": 59,
   "metadata": {},
   "outputs": [
    {
     "data": {
      "text/plain": [
       "0.21345896988294194"
      ]
     },
     "execution_count": 59,
     "metadata": {},
     "output_type": "execute_result"
    }
   ],
   "source": [
    "rates_series.max()"
   ]
  },
  {
   "cell_type": "code",
   "execution_count": null,
   "metadata": {},
   "outputs": [],
   "source": []
  }
 ],
 "metadata": {
  "kernelspec": {
   "display_name": "lingua",
   "language": "python",
   "name": "python3"
  },
  "language_info": {
   "codemirror_mode": {
    "name": "ipython",
    "version": 3
   },
   "file_extension": ".py",
   "mimetype": "text/x-python",
   "name": "python",
   "nbconvert_exporter": "python",
   "pygments_lexer": "ipython3",
   "version": "3.8.3"
  }
 },
 "nbformat": 4,
 "nbformat_minor": 2
}
