{
 "cells": [
  {
   "cell_type": "markdown",
   "metadata": {},
   "source": [
    "校验kmeans的结果，合成信号值， 多头信号1 数据应该集中数据头部，  空头信号-1 数据应该集中在数据尾部  中间处于不动即0"
   ]
  },
  {
   "cell_type": "code",
   "execution_count": 1,
   "metadata": {},
   "outputs": [],
   "source": [
    "import os\n",
    "import pandas as pd\n",
    "from lumina.genetic.fusion import Rotor\n",
    "from lumina.genetic import Actuator"
   ]
  },
  {
   "cell_type": "code",
   "execution_count": 3,
   "metadata": {},
   "outputs": [
    {
     "name": "stdout",
     "output_type": "stream",
     "text": [
      "predict groups model::100.0%"
     ]
    },
    {
     "data": {
      "text/html": [
       "<div>\n",
       "<style scoped>\n",
       "    .dataframe tbody tr th:only-of-type {\n",
       "        vertical-align: middle;\n",
       "    }\n",
       "\n",
       "    .dataframe tbody tr th {\n",
       "        vertical-align: top;\n",
       "    }\n",
       "\n",
       "    .dataframe thead th {\n",
       "        text-align: right;\n",
       "    }\n",
       "</style>\n",
       "<table border=\"1\" class=\"dataframe\">\n",
       "  <thead>\n",
       "    <tr style=\"text-align: right;\">\n",
       "      <th></th>\n",
       "      <th>code</th>\n",
       "      <th>value</th>\n",
       "    </tr>\n",
       "    <tr>\n",
       "      <th>trade_time</th>\n",
       "      <th></th>\n",
       "      <th></th>\n",
       "    </tr>\n",
       "  </thead>\n",
       "  <tbody>\n",
       "    <tr>\n",
       "      <th>2024-05-29 13:23:00</th>\n",
       "      <td>IM</td>\n",
       "      <td>0.0</td>\n",
       "    </tr>\n",
       "    <tr>\n",
       "      <th>2024-05-29 13:24:00</th>\n",
       "      <td>IM</td>\n",
       "      <td>0.0</td>\n",
       "    </tr>\n",
       "    <tr>\n",
       "      <th>2024-05-29 13:25:00</th>\n",
       "      <td>IM</td>\n",
       "      <td>0.0</td>\n",
       "    </tr>\n",
       "    <tr>\n",
       "      <th>2024-05-29 13:26:00</th>\n",
       "      <td>IM</td>\n",
       "      <td>0.0</td>\n",
       "    </tr>\n",
       "    <tr>\n",
       "      <th>2024-05-29 13:27:00</th>\n",
       "      <td>IM</td>\n",
       "      <td>0.0</td>\n",
       "    </tr>\n",
       "  </tbody>\n",
       "</table>\n",
       "</div>"
      ],
      "text/plain": [
       "                    code  value\n",
       "trade_time                     \n",
       "2024-05-29 13:23:00   IM    0.0\n",
       "2024-05-29 13:24:00   IM    0.0\n",
       "2024-05-29 13:25:00   IM    0.0\n",
       "2024-05-29 13:26:00   IM    0.0\n",
       "2024-05-29 13:27:00   IM    0.0"
      ]
     },
     "execution_count": 3,
     "metadata": {},
     "output_type": "execute_result"
    }
   ],
   "source": [
    "code = 'im'\n",
    "def fetch_rotor(name):\n",
    "    base_path = '/workspace/worker/pj/Chrono/lumina/abily/records/aicso2/ims/kmeans'\n",
    "    rotor = Rotor.from_pickle(\n",
    "            path=os.path.join(base_path, code.lower()), name=name)\n",
    "    return rotor\n",
    "\n",
    "\n",
    "def fetch_data():\n",
    "    base_path = '/workspace/worker/pj/Chrono/lumina/abily/records/'\n",
    "    filename = os.path.join(base_path, 'aicso2', 'ims', 'merge',\"val_data.feather\")\n",
    "    factors_data = pd.read_feather(filename).sort_values(\n",
    "        by=['trade_time', 'code'])\n",
    "    return factors_data\n",
    "\n",
    "def create_postions(k_split, filter_strategies, total_data):\n",
    "    actuator = Actuator(k_split=k_split)\n",
    "\n",
    "    strategies_data = actuator.calculate(strategies_infos=filter_strategies,\n",
    "                                         total_data=total_data)\n",
    "    return strategies_data\n",
    "\n",
    "\n",
    "def merge_signals(strategies_data, filter_strategies):\n",
    "    actuator = Actuator(k_split=4)\n",
    "    weights_data = actuator.fitness_weight(strategies_infos=filter_strategies)\n",
    "    positions_data = actuator.fitness_signal(\n",
    "        strategies_infos=filter_strategies,\n",
    "        strategies_data=strategies_data,\n",
    "        weights_data=weights_data)\n",
    "    return positions_data, weights_data\n",
    "\n",
    "total_data = fetch_data()\n",
    "total_data['trade_time'] = pd.to_datetime(total_data['trade_time'])\n",
    "basic_rotor = fetch_rotor('1011713336')\n",
    "\n",
    "strategies_data = create_postions(k_split=4,\n",
    "                                      filter_strategies=basic_rotor.strategies,\n",
    "                                      total_data=total_data)\n",
    "positions_data, weights_data = merge_signals(strategies_data,\n",
    "                                                 basic_rotor.strategies)\n",
    "positions_data.name = 'value'\n",
    "positions_data = positions_data.reset_index().set_index('trade_time')\n",
    "positions_data.head()"
   ]
  },
  {
   "cell_type": "code",
   "execution_count": 17,
   "metadata": {},
   "outputs": [
    {
     "name": "stdout",
     "output_type": "stream",
     "text": [
      "short:0.5499264443986731, long:-0.12144361544932651, zero:1.3337233057012259, mapping:{0: -1, 1: 1, 2: 0}\n"
     ]
    }
   ],
   "source": [
    "roto1 = fetch_rotor('1011713336')\n",
    "signal_data = roto1.predict(positions_data)\n",
    "signal_data.name = 'signal'\n",
    "t1_dt = pd.concat([positions_data, signal_data], axis=1)\n",
    "short = t1_dt[t1_dt['signal']==-1].value.max()\n",
    "long = t1_dt[t1_dt['signal']==1].value.max()\n",
    "zero = t1_dt[t1_dt['signal']==0].value.max()\n",
    "print(\"short:{0}, long:{1}, zero:{2}, mapping:{3}\".format(short, long, zero, roto1._best_mapping))\n"
   ]
  },
  {
   "cell_type": "code",
   "execution_count": 18,
   "metadata": {},
   "outputs": [
    {
     "name": "stdout",
     "output_type": "stream",
     "text": [
      "short:1.3337233057012259, long:0.5499264443986731, zero:-0.12144361544932651, mapping:{0: 1, 1: 0, 2: -1}\n"
     ]
    }
   ],
   "source": [
    "roto1 = fetch_rotor('1012903652')\n",
    "signal_data = roto1.predict(positions_data)\n",
    "signal_data.name = 'signal'\n",
    "t1_dt = pd.concat([positions_data, signal_data], axis=1)\n",
    "short = t1_dt[t1_dt['signal']==-1].value.max()\n",
    "long = t1_dt[t1_dt['signal']==1].value.max()\n",
    "zero = t1_dt[t1_dt['signal']==0].value.max()\n",
    "print(\"short:{0}, long:{1}, zero:{2}, mapping:{3}\".format(short, long, zero, roto1._best_mapping))\n"
   ]
  },
  {
   "cell_type": "code",
   "execution_count": 19,
   "metadata": {},
   "outputs": [
    {
     "name": "stdout",
     "output_type": "stream",
     "text": [
      "short:0.5499264443986731, long:1.3337233057012259, zero:-0.12144361544932651, mapping:{0: -1, 1: 0, 2: 1}\n"
     ]
    }
   ],
   "source": [
    "roto1 = fetch_rotor('1014219724')\n",
    "signal_data = roto1.predict(positions_data)\n",
    "signal_data.name = 'signal'\n",
    "t1_dt = pd.concat([positions_data, signal_data], axis=1)\n",
    "short = t1_dt[t1_dt['signal']==-1].value.max()\n",
    "long = t1_dt[t1_dt['signal']==1].value.max()\n",
    "zero = t1_dt[t1_dt['signal']==0].value.max()\n",
    "print(\"short:{0}, long:{1}, zero:{2}, mapping:{3}\".format(short, long, zero, roto1._best_mapping))\n"
   ]
  },
  {
   "cell_type": "code",
   "execution_count": 20,
   "metadata": {},
   "outputs": [
    {
     "name": "stdout",
     "output_type": "stream",
     "text": [
      "short:-0.12144361544932651, long:1.3337233057012259, zero:0.5499264443986731, mapping:{0: 0, 1: -1, 2: 1}\n"
     ]
    }
   ],
   "source": [
    "roto1 = fetch_rotor('1043418952')\n",
    "signal_data = roto1.predict(positions_data)\n",
    "signal_data.name = 'signal'\n",
    "t1_dt = pd.concat([positions_data, signal_data], axis=1)\n",
    "short = t1_dt[t1_dt['signal']==-1].value.max()\n",
    "long = t1_dt[t1_dt['signal']==1].value.max()\n",
    "zero = t1_dt[t1_dt['signal']==0].value.max()\n",
    "print(\"short:{0}, long:{1}, zero:{2}, mapping:{3}\".format(short, long, zero, roto1._best_mapping))\n"
   ]
  },
  {
   "cell_type": "code",
   "execution_count": 21,
   "metadata": {},
   "outputs": [
    {
     "name": "stdout",
     "output_type": "stream",
     "text": [
      "short:1.3337233057012259, long:-0.12144361544932651, zero:0.5499264443986731, mapping:{0: 0, 1: 1, 2: -1}\n"
     ]
    }
   ],
   "source": [
    "roto1 = fetch_rotor('1067545581')\n",
    "signal_data = roto1.predict(positions_data)\n",
    "signal_data.name = 'signal'\n",
    "t1_dt = pd.concat([positions_data, signal_data], axis=1)\n",
    "short = t1_dt[t1_dt['signal']==-1].value.max()\n",
    "long = t1_dt[t1_dt['signal']==1].value.max()\n",
    "zero = t1_dt[t1_dt['signal']==0].value.max()\n",
    "print(\"short:{0}, long:{1}, zero:{2}, mapping:{3}\".format(short, long, zero, roto1._best_mapping))\n"
   ]
  },
  {
   "cell_type": "code",
   "execution_count": 22,
   "metadata": {},
   "outputs": [
    {
     "name": "stdout",
     "output_type": "stream",
     "text": [
      "short:-0.12144361544932651, long:0.5499264443986731, zero:1.3337233057012259, mapping:{0: 1, 1: -1, 2: 0}\n"
     ]
    }
   ],
   "source": [
    "roto1 = fetch_rotor('1082031393')\n",
    "signal_data = roto1.predict(positions_data)\n",
    "signal_data.name = 'signal'\n",
    "t1_dt = pd.concat([positions_data, signal_data], axis=1)\n",
    "short = t1_dt[t1_dt['signal']==-1].value.max()\n",
    "long = t1_dt[t1_dt['signal']==1].value.max()\n",
    "zero = t1_dt[t1_dt['signal']==0].value.max()\n",
    "print(\"short:{0}, long:{1}, zero:{2}, mapping:{3}\".format(short, long, zero, roto1._best_mapping))\n"
   ]
  },
  {
   "cell_type": "code",
   "execution_count": null,
   "metadata": {},
   "outputs": [],
   "source": []
  }
 ],
 "metadata": {
  "kernelspec": {
   "display_name": "lingua",
   "language": "python",
   "name": "python3"
  },
  "language_info": {
   "codemirror_mode": {
    "name": "ipython",
    "version": 3
   },
   "file_extension": ".py",
   "mimetype": "text/x-python",
   "name": "python",
   "nbconvert_exporter": "python",
   "pygments_lexer": "ipython3",
   "version": "3.8.3"
  }
 },
 "nbformat": 4,
 "nbformat_minor": 2
}
