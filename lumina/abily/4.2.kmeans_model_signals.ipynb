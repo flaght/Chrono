{
 "cells": [
  {
   "cell_type": "markdown",
   "metadata": {},
   "source": [
    "校验kmeans的结果，合成信号值， 多头信号1 数据应该集中数据头部，  空头信号-1 数据应该集中在数据尾部  中间处于不动即0"
   ]
  },
  {
   "cell_type": "code",
   "execution_count": 1,
   "metadata": {},
   "outputs": [],
   "source": [
    "import os\n",
    "import pandas as pd\n",
    "from lumina.genetic.fusion import Rotor\n",
    "from lumina.genetic import Actuator"
   ]
  },
  {
   "cell_type": "code",
   "execution_count": 4,
   "metadata": {},
   "outputs": [
    {
     "name": "stdout",
     "output_type": "stream",
     "text": [
      "predict groups model::1.1%"
     ]
    },
    {
     "name": "stderr",
     "output_type": "stream",
     "text": [
      "/workspace/worker/env/lingua/lib/python3.8/site-packages/Finance_Ultron-1.7.8-py3.8-linux-x86_64.egg/ultron/factor/genetic/geneticist/operators.py:320: RuntimeWarning: divide by zero encountered in true_divide\n",
      "  return eval(expression).transform(total_data,\n",
      "/workspace/worker/env/lingua/lib/python3.8/site-packages/Finance_Ultron-1.7.8-py3.8-linux-x86_64.egg/ultron/factor/genetic/geneticist/operators.py:320: RuntimeWarning: invalid value encountered in double_scalars\n",
      "  return eval(expression).transform(total_data,\n"
     ]
    },
    {
     "name": "stdout",
     "output_type": "stream",
     "text": [
      "predict groups model::17.58%"
     ]
    },
    {
     "name": "stderr",
     "output_type": "stream",
     "text": [
      "/workspace/worker/env/lingua/lib/python3.8/site-packages/Finance_Ultron-1.7.8-py3.8-linux-x86_64.egg/ultron/factor/genetic/geneticist/operators.py:320: RuntimeWarning: invalid value encountered in double_scalars\n",
      "  return eval(expression).transform(total_data,\n"
     ]
    },
    {
     "name": "stdout",
     "output_type": "stream",
     "text": [
      "predict groups model::28.57%"
     ]
    },
    {
     "name": "stderr",
     "output_type": "stream",
     "text": [
      "/workspace/worker/env/lingua/lib/python3.8/site-packages/Finance_Ultron-1.7.8-py3.8-linux-x86_64.egg/ultron/factor/genetic/geneticist/operators.py:320: RuntimeWarning: divide by zero encountered in true_divide\n",
      "  return eval(expression).transform(total_data,\n"
     ]
    },
    {
     "name": "stdout",
     "output_type": "stream",
     "text": [
      "predict groups model::34.07%"
     ]
    },
    {
     "name": "stderr",
     "output_type": "stream",
     "text": [
      "/workspace/worker/env/lingua/lib/python3.8/site-packages/Finance_Ultron-1.7.8-py3.8-linux-x86_64.egg/ultron/factor/genetic/geneticist/operators.py:320: RuntimeWarning: divide by zero encountered in true_divide\n",
      "  return eval(expression).transform(total_data,\n"
     ]
    },
    {
     "name": "stdout",
     "output_type": "stream",
     "text": [
      "predict groups model::34.07%"
     ]
    },
    {
     "name": "stderr",
     "output_type": "stream",
     "text": [
      "/workspace/worker/env/lingua/lib/python3.8/site-packages/Finance_Ultron-1.7.8-py3.8-linux-x86_64.egg/ultron/factor/genetic/geneticist/operators.py:320: RuntimeWarning: invalid value encountered in true_divide\n",
      "  return eval(expression).transform(total_data,\n",
      "/workspace/worker/env/lingua/lib/python3.8/site-packages/Finance_Ultron-1.7.8-py3.8-linux-x86_64.egg/ultron/factor/genetic/geneticist/operators.py:320: RuntimeWarning: divide by zero encountered in true_divide\n",
      "  return eval(expression).transform(total_data,\n"
     ]
    },
    {
     "name": "stdout",
     "output_type": "stream",
     "text": [
      "predict groups model::43.96%"
     ]
    },
    {
     "name": "stderr",
     "output_type": "stream",
     "text": [
      "/workspace/worker/env/lingua/lib/python3.8/site-packages/Finance_Ultron-1.7.8-py3.8-linux-x86_64.egg/ultron/factor/genetic/geneticist/operators.py:320: RuntimeWarning: divide by zero encountered in true_divide\n",
      "  return eval(expression).transform(total_data,\n"
     ]
    },
    {
     "name": "stdout",
     "output_type": "stream",
     "text": [
      "predict groups model::42.86%"
     ]
    },
    {
     "name": "stderr",
     "output_type": "stream",
     "text": [
      "/workspace/worker/env/lingua/lib/python3.8/site-packages/Finance_Ultron-1.7.8-py3.8-linux-x86_64.egg/ultron/factor/genetic/geneticist/operators.py:320: RuntimeWarning: divide by zero encountered in true_divide\n",
      "  return eval(expression).transform(total_data,\n"
     ]
    },
    {
     "name": "stdout",
     "output_type": "stream",
     "text": [
      "predict groups model::49.45%"
     ]
    },
    {
     "name": "stderr",
     "output_type": "stream",
     "text": [
      "/workspace/worker/env/lingua/lib/python3.8/site-packages/Finance_Ultron-1.7.8-py3.8-linux-x86_64.egg/ultron/factor/genetic/geneticist/operators.py:320: RuntimeWarning: divide by zero encountered in true_divide\n",
      "  return eval(expression).transform(total_data,\n"
     ]
    },
    {
     "name": "stdout",
     "output_type": "stream",
     "text": [
      "predict groups model::63.74%"
     ]
    },
    {
     "name": "stderr",
     "output_type": "stream",
     "text": [
      "/workspace/worker/env/lingua/lib/python3.8/site-packages/Finance_Ultron-1.7.8-py3.8-linux-x86_64.egg/ultron/factor/genetic/geneticist/operators.py:320: RuntimeWarning: divide by zero encountered in true_divide\n",
      "  return eval(expression).transform(total_data,\n"
     ]
    },
    {
     "name": "stdout",
     "output_type": "stream",
     "text": [
      "predict groups model::64.84%"
     ]
    },
    {
     "name": "stderr",
     "output_type": "stream",
     "text": [
      "/workspace/worker/env/lingua/lib/python3.8/site-packages/Finance_Ultron-1.7.8-py3.8-linux-x86_64.egg/ultron/factor/genetic/geneticist/operators.py:320: RuntimeWarning: divide by zero encountered in true_divide\n",
      "  return eval(expression).transform(total_data,\n"
     ]
    },
    {
     "name": "stdout",
     "output_type": "stream",
     "text": [
      "predict groups model::63.74%"
     ]
    },
    {
     "name": "stderr",
     "output_type": "stream",
     "text": [
      "/workspace/worker/env/lingua/lib/python3.8/site-packages/Finance_Ultron-1.7.8-py3.8-linux-x86_64.egg/ultron/factor/genetic/geneticist/operators.py:320: RuntimeWarning: divide by zero encountered in true_divide\n",
      "  return eval(expression).transform(total_data,\n"
     ]
    },
    {
     "name": "stdout",
     "output_type": "stream",
     "text": [
      "predict groups model::70.33%"
     ]
    },
    {
     "name": "stderr",
     "output_type": "stream",
     "text": [
      "/workspace/worker/env/lingua/lib/python3.8/site-packages/Finance_Ultron-1.7.8-py3.8-linux-x86_64.egg/ultron/factor/genetic/geneticist/operators.py:320: RuntimeWarning: invalid value encountered in true_divide\n",
      "  return eval(expression).transform(total_data,\n"
     ]
    },
    {
     "name": "stdout",
     "output_type": "stream",
     "text": [
      "predict groups model::71.43%"
     ]
    },
    {
     "ename": "KeyboardInterrupt",
     "evalue": "",
     "output_type": "error",
     "traceback": [
      "\u001b[0;31m---------------------------------------------------------------------------\u001b[0m",
      "\u001b[0;31mKeyboardInterrupt\u001b[0m                         Traceback (most recent call last)",
      "Cell \u001b[0;32mIn[4], line 46\u001b[0m\n\u001b[1;32m     43\u001b[0m total_data[\u001b[38;5;124m'\u001b[39m\u001b[38;5;124mtrade_time\u001b[39m\u001b[38;5;124m'\u001b[39m] \u001b[38;5;241m=\u001b[39m pd\u001b[38;5;241m.\u001b[39mto_datetime(total_data[\u001b[38;5;124m'\u001b[39m\u001b[38;5;124mtrade_time\u001b[39m\u001b[38;5;124m'\u001b[39m])\n\u001b[1;32m     44\u001b[0m basic_rotor \u001b[38;5;241m=\u001b[39m fetch_rotor(\u001b[38;5;124m'\u001b[39m\u001b[38;5;124m1004645202\u001b[39m\u001b[38;5;124m'\u001b[39m)\n\u001b[0;32m---> 46\u001b[0m strategies_data \u001b[38;5;241m=\u001b[39m \u001b[43mcreate_postions\u001b[49m\u001b[43m(\u001b[49m\u001b[43mk_split\u001b[49m\u001b[38;5;241;43m=\u001b[39;49m\u001b[38;5;241;43m4\u001b[39;49m\u001b[43m,\u001b[49m\n\u001b[1;32m     47\u001b[0m \u001b[43m                                      \u001b[49m\u001b[43mfilter_strategies\u001b[49m\u001b[38;5;241;43m=\u001b[39;49m\u001b[43mbasic_rotor\u001b[49m\u001b[38;5;241;43m.\u001b[39;49m\u001b[43mstrategies\u001b[49m\u001b[43m,\u001b[49m\n\u001b[1;32m     48\u001b[0m \u001b[43m                                      \u001b[49m\u001b[43mtotal_data\u001b[49m\u001b[38;5;241;43m=\u001b[39;49m\u001b[43mtotal_data\u001b[49m\u001b[43m)\u001b[49m\n\u001b[1;32m     49\u001b[0m positions_data, weights_data \u001b[38;5;241m=\u001b[39m merge_signals(strategies_data,\n\u001b[1;32m     50\u001b[0m                                                  basic_rotor\u001b[38;5;241m.\u001b[39mstrategies)\n\u001b[1;32m     51\u001b[0m positions_data\u001b[38;5;241m.\u001b[39mname \u001b[38;5;241m=\u001b[39m \u001b[38;5;124m'\u001b[39m\u001b[38;5;124mvalue\u001b[39m\u001b[38;5;124m'\u001b[39m\n",
      "Cell \u001b[0;32mIn[4], line 25\u001b[0m, in \u001b[0;36mcreate_postions\u001b[0;34m(k_split, filter_strategies, total_data)\u001b[0m\n\u001b[1;32m     22\u001b[0m \u001b[38;5;28;01mdef\u001b[39;00m \u001b[38;5;21mcreate_postions\u001b[39m(k_split, filter_strategies, total_data):\n\u001b[1;32m     23\u001b[0m     actuator \u001b[38;5;241m=\u001b[39m Actuator(k_split\u001b[38;5;241m=\u001b[39mk_split)\n\u001b[0;32m---> 25\u001b[0m     strategies_data \u001b[38;5;241m=\u001b[39m \u001b[43mactuator\u001b[49m\u001b[38;5;241;43m.\u001b[39;49m\u001b[43mcalculate\u001b[49m\u001b[43m(\u001b[49m\u001b[43mstrategies_infos\u001b[49m\u001b[38;5;241;43m=\u001b[39;49m\u001b[43mfilter_strategies\u001b[49m\u001b[43m,\u001b[49m\n\u001b[1;32m     26\u001b[0m \u001b[43m                                         \u001b[49m\u001b[43mtotal_data\u001b[49m\u001b[38;5;241;43m=\u001b[39;49m\u001b[43mtotal_data\u001b[49m\u001b[43m)\u001b[49m\n\u001b[1;32m     27\u001b[0m     \u001b[38;5;28;01mreturn\u001b[39;00m strategies_data\n",
      "File \u001b[0;32m/workspace/worker/env/lingua/lib/python3.8/site-packages/lumina/genetic/fusion/actuator.py:81\u001b[0m, in \u001b[0;36mActuator.calculate\u001b[0;34m(self, strategies_infos, total_data)\u001b[0m\n\u001b[1;32m     79\u001b[0m total_data2 \u001b[38;5;241m=\u001b[39m total_data\u001b[38;5;241m.\u001b[39mset_index([\u001b[38;5;124m'\u001b[39m\u001b[38;5;124mtrade_time\u001b[39m\u001b[38;5;124m'\u001b[39m, \u001b[38;5;124m'\u001b[39m\u001b[38;5;124mcode\u001b[39m\u001b[38;5;124m'\u001b[39m])\u001b[38;5;241m.\u001b[39munstack()\n\u001b[1;32m     80\u001b[0m process_list \u001b[38;5;241m=\u001b[39m split_k(\u001b[38;5;28mself\u001b[39m\u001b[38;5;241m.\u001b[39mk_split, strategies_infos)\n\u001b[0;32m---> 81\u001b[0m res \u001b[38;5;241m=\u001b[39m \u001b[43mcreate_parellel\u001b[49m\u001b[43m(\u001b[49m\u001b[43mprocess_list\u001b[49m\u001b[38;5;241;43m=\u001b[39;49m\u001b[43mprocess_list\u001b[49m\u001b[43m,\u001b[49m\n\u001b[1;32m     82\u001b[0m \u001b[43m                      \u001b[49m\u001b[43mcallback\u001b[49m\u001b[38;5;241;43m=\u001b[39;49m\u001b[43mrun_position\u001b[49m\u001b[43m,\u001b[49m\n\u001b[1;32m     83\u001b[0m \u001b[43m                      \u001b[49m\u001b[43mtotal_data1\u001b[49m\u001b[38;5;241;43m=\u001b[39;49m\u001b[43mtotal_data1\u001b[49m\u001b[43m,\u001b[49m\n\u001b[1;32m     84\u001b[0m \u001b[43m                      \u001b[49m\u001b[43mtotal_data2\u001b[49m\u001b[38;5;241;43m=\u001b[39;49m\u001b[43mtotal_data2\u001b[49m\u001b[43m)\u001b[49m\n\u001b[1;32m     85\u001b[0m res \u001b[38;5;241m=\u001b[39m \u001b[38;5;28mlist\u001b[39m(itertools\u001b[38;5;241m.\u001b[39mchain\u001b[38;5;241m.\u001b[39mfrom_iterable(res))\n\u001b[1;32m     86\u001b[0m strategies_data \u001b[38;5;241m=\u001b[39m pd\u001b[38;5;241m.\u001b[39mconcat(res, axis\u001b[38;5;241m=\u001b[39m\u001b[38;5;241m1\u001b[39m)\n",
      "File \u001b[0;32m/workspace/worker/env/lingua/lib/python3.8/site-packages/lumina/genetic/process.py:34\u001b[0m, in \u001b[0;36mcreate_parellel\u001b[0;34m(process_list, callback, **kwargs)\u001b[0m\n\u001b[1;32m     31\u001b[0m \u001b[38;5;28;01mdef\u001b[39;00m \u001b[38;5;21mcreate_parellel\u001b[39m(process_list, callback, \u001b[38;5;241m*\u001b[39m\u001b[38;5;241m*\u001b[39mkwargs):\n\u001b[1;32m     32\u001b[0m     parallel \u001b[38;5;241m=\u001b[39m Parallel(\u001b[38;5;28mlen\u001b[39m(process_list), verbose\u001b[38;5;241m=\u001b[39m\u001b[38;5;241m0\u001b[39m, pre_dispatch\u001b[38;5;241m=\u001b[39m\u001b[38;5;124m'\u001b[39m\u001b[38;5;124m2*n_jobs\u001b[39m\u001b[38;5;124m'\u001b[39m)\n\u001b[0;32m---> 34\u001b[0m     res \u001b[38;5;241m=\u001b[39m \u001b[43mparallel\u001b[49m\u001b[43m(\u001b[49m\n\u001b[1;32m     35\u001b[0m \u001b[43m        \u001b[49m\u001b[43mdelayed\u001b[49m\u001b[43m(\u001b[49m\u001b[43mcallback\u001b[49m\u001b[43m)\u001b[49m\u001b[43m(\u001b[49m\n\u001b[1;32m     36\u001b[0m \u001b[43m            \u001b[49m\u001b[43mtarget_column\u001b[49m\u001b[38;5;241;43m=\u001b[39;49m\u001b[43mtarget_column\u001b[49m\u001b[43m,\u001b[49m\u001b[43m \u001b[49m\u001b[43menv\u001b[49m\u001b[38;5;241;43m=\u001b[39;49m\u001b[43mEnvProcess\u001b[49m\u001b[43m(\u001b[49m\u001b[43m)\u001b[49m\u001b[43m,\u001b[49m\u001b[43m \u001b[49m\u001b[38;5;241;43m*\u001b[39;49m\u001b[38;5;241;43m*\u001b[39;49m\u001b[43mkwargs\u001b[49m\u001b[43m)\u001b[49m\n\u001b[1;32m     37\u001b[0m \u001b[43m        \u001b[49m\u001b[38;5;28;43;01mfor\u001b[39;49;00m\u001b[43m \u001b[49m\u001b[43mtarget_column\u001b[49m\u001b[43m \u001b[49m\u001b[38;5;129;43;01min\u001b[39;49;00m\u001b[43m \u001b[49m\u001b[43mprocess_list\u001b[49m\u001b[43m)\u001b[49m\n\u001b[1;32m     38\u001b[0m     \u001b[38;5;28;01mreturn\u001b[39;00m res\n",
      "File \u001b[0;32m/workspace/worker/env/lingua/lib/python3.8/site-packages/Finance_Ultron-1.7.8-py3.8-linux-x86_64.egg/ultron/kdutils/parallel.py:92\u001b[0m, in \u001b[0;36mParallel.__call__\u001b[0;34m(self, iterable)\u001b[0m\n\u001b[1;32m     89\u001b[0m         \u001b[38;5;28;01mfor\u001b[39;00m jb \u001b[38;5;129;01min\u001b[39;00m iterable:\n\u001b[1;32m     90\u001b[0m             \u001b[38;5;66;03m# 这里iterable里每一个元素是delayed.delayed_function保留的tuple\u001b[39;00m\n\u001b[1;32m     91\u001b[0m             future_result \u001b[38;5;241m=\u001b[39m pool\u001b[38;5;241m.\u001b[39msubmit(jb[\u001b[38;5;241m0\u001b[39m], \u001b[38;5;241m*\u001b[39mjb[\u001b[38;5;241m1\u001b[39m], \u001b[38;5;241m*\u001b[39m\u001b[38;5;241m*\u001b[39mjb[\u001b[38;5;241m2\u001b[39m])\n\u001b[0;32m---> 92\u001b[0m             future_result\u001b[38;5;241m.\u001b[39madd_done_callback(when_done)\n\u001b[1;32m     93\u001b[0m \u001b[38;5;28;01mreturn\u001b[39;00m result\n",
      "File \u001b[0;32m/workspace/worker/env/lingua/lib/python3.8/concurrent/futures/_base.py:636\u001b[0m, in \u001b[0;36mExecutor.__exit__\u001b[0;34m(self, exc_type, exc_val, exc_tb)\u001b[0m\n\u001b[1;32m    635\u001b[0m \u001b[38;5;28;01mdef\u001b[39;00m \u001b[38;5;21m__exit__\u001b[39m(\u001b[38;5;28mself\u001b[39m, exc_type, exc_val, exc_tb):\n\u001b[0;32m--> 636\u001b[0m     \u001b[38;5;28;43mself\u001b[39;49m\u001b[38;5;241;43m.\u001b[39;49m\u001b[43mshutdown\u001b[49m\u001b[43m(\u001b[49m\u001b[43mwait\u001b[49m\u001b[38;5;241;43m=\u001b[39;49m\u001b[38;5;28;43;01mTrue\u001b[39;49;00m\u001b[43m)\u001b[49m\n\u001b[1;32m    637\u001b[0m     \u001b[38;5;28;01mreturn\u001b[39;00m \u001b[38;5;28;01mFalse\u001b[39;00m\n",
      "File \u001b[0;32m/workspace/worker/env/lingua/lib/python3.8/concurrent/futures/process.py:686\u001b[0m, in \u001b[0;36mProcessPoolExecutor.shutdown\u001b[0;34m(self, wait)\u001b[0m\n\u001b[1;32m    684\u001b[0m     \u001b[38;5;28mself\u001b[39m\u001b[38;5;241m.\u001b[39m_queue_management_thread_wakeup\u001b[38;5;241m.\u001b[39mwakeup()\n\u001b[1;32m    685\u001b[0m     \u001b[38;5;28;01mif\u001b[39;00m wait:\n\u001b[0;32m--> 686\u001b[0m         \u001b[38;5;28;43mself\u001b[39;49m\u001b[38;5;241;43m.\u001b[39;49m\u001b[43m_queue_management_thread\u001b[49m\u001b[38;5;241;43m.\u001b[39;49m\u001b[43mjoin\u001b[49m\u001b[43m(\u001b[49m\u001b[43m)\u001b[49m\n\u001b[1;32m    687\u001b[0m \u001b[38;5;66;03m# To reduce the risk of opening too many files, remove references to\u001b[39;00m\n\u001b[1;32m    688\u001b[0m \u001b[38;5;66;03m# objects that use file descriptors.\u001b[39;00m\n\u001b[1;32m    689\u001b[0m \u001b[38;5;28mself\u001b[39m\u001b[38;5;241m.\u001b[39m_queue_management_thread \u001b[38;5;241m=\u001b[39m \u001b[38;5;28;01mNone\u001b[39;00m\n",
      "File \u001b[0;32m/workspace/worker/env/lingua/lib/python3.8/threading.py:1011\u001b[0m, in \u001b[0;36mThread.join\u001b[0;34m(self, timeout)\u001b[0m\n\u001b[1;32m   1008\u001b[0m     \u001b[38;5;28;01mraise\u001b[39;00m \u001b[38;5;167;01mRuntimeError\u001b[39;00m(\u001b[38;5;124m\"\u001b[39m\u001b[38;5;124mcannot join current thread\u001b[39m\u001b[38;5;124m\"\u001b[39m)\n\u001b[1;32m   1010\u001b[0m \u001b[38;5;28;01mif\u001b[39;00m timeout \u001b[38;5;129;01mis\u001b[39;00m \u001b[38;5;28;01mNone\u001b[39;00m:\n\u001b[0;32m-> 1011\u001b[0m     \u001b[38;5;28;43mself\u001b[39;49m\u001b[38;5;241;43m.\u001b[39;49m\u001b[43m_wait_for_tstate_lock\u001b[49m\u001b[43m(\u001b[49m\u001b[43m)\u001b[49m\n\u001b[1;32m   1012\u001b[0m \u001b[38;5;28;01melse\u001b[39;00m:\n\u001b[1;32m   1013\u001b[0m     \u001b[38;5;66;03m# the behavior of a negative timeout isn't documented, but\u001b[39;00m\n\u001b[1;32m   1014\u001b[0m     \u001b[38;5;66;03m# historically .join(timeout=x) for x<0 has acted as if timeout=0\u001b[39;00m\n\u001b[1;32m   1015\u001b[0m     \u001b[38;5;28mself\u001b[39m\u001b[38;5;241m.\u001b[39m_wait_for_tstate_lock(timeout\u001b[38;5;241m=\u001b[39m\u001b[38;5;28mmax\u001b[39m(timeout, \u001b[38;5;241m0\u001b[39m))\n",
      "File \u001b[0;32m/workspace/worker/env/lingua/lib/python3.8/threading.py:1027\u001b[0m, in \u001b[0;36mThread._wait_for_tstate_lock\u001b[0;34m(self, block, timeout)\u001b[0m\n\u001b[1;32m   1025\u001b[0m \u001b[38;5;28;01mif\u001b[39;00m lock \u001b[38;5;129;01mis\u001b[39;00m \u001b[38;5;28;01mNone\u001b[39;00m:  \u001b[38;5;66;03m# already determined that the C code is done\u001b[39;00m\n\u001b[1;32m   1026\u001b[0m     \u001b[38;5;28;01massert\u001b[39;00m \u001b[38;5;28mself\u001b[39m\u001b[38;5;241m.\u001b[39m_is_stopped\n\u001b[0;32m-> 1027\u001b[0m \u001b[38;5;28;01melif\u001b[39;00m \u001b[43mlock\u001b[49m\u001b[38;5;241;43m.\u001b[39;49m\u001b[43macquire\u001b[49m\u001b[43m(\u001b[49m\u001b[43mblock\u001b[49m\u001b[43m,\u001b[49m\u001b[43m \u001b[49m\u001b[43mtimeout\u001b[49m\u001b[43m)\u001b[49m:\n\u001b[1;32m   1028\u001b[0m     lock\u001b[38;5;241m.\u001b[39mrelease()\n\u001b[1;32m   1029\u001b[0m     \u001b[38;5;28mself\u001b[39m\u001b[38;5;241m.\u001b[39m_stop()\n",
      "\u001b[0;31mKeyboardInterrupt\u001b[0m: "
     ]
    },
    {
     "name": "stdout",
     "output_type": "stream",
     "text": [
      "predict groups model::78.02%"
     ]
    }
   ],
   "source": [
    "code = 'im'\n",
    "def fetch_rotor(name):\n",
    "    base_path = '/workspace/worker/pj/Chrono/lumina/abily/records/aicso2/ims/kmeans'\n",
    "    rotor = Rotor.from_pickle(\n",
    "            path=os.path.join(base_path, code.lower()), name=name)\n",
    "    return rotor\n",
    "\n",
    "from kdutils.file import fetch_file_data\n",
    "base_path = '/workspace/worker/pj/Chrono/lumina/abily/records/'\n",
    "#factors_data = fetch_file_data(base_path=base_path,\n",
    "#                          method='aicso2',\n",
    "#                          g_instruments='ims',\n",
    "#                          datasets=['train_data', 'val_data'])\n",
    "\n",
    "def fetch_data():\n",
    "    base_path = '/workspace/worker/pj/Chrono/lumina/abily/records/'\n",
    "    filename = os.path.join(base_path, 'aicso2', 'ims', 'merge',\"val_data.feather\")\n",
    "    factors_data = pd.read_feather(filename).sort_values(\n",
    "        by=['trade_time', 'code'])\n",
    "    return factors_data\n",
    "\n",
    "def create_postions(k_split, filter_strategies, total_data):\n",
    "    actuator = Actuator(k_split=k_split)\n",
    "\n",
    "    strategies_data = actuator.calculate(strategies_infos=filter_strategies,\n",
    "                                         total_data=total_data)\n",
    "    return strategies_data\n",
    "\n",
    "\n",
    "def merge_signals(strategies_data, filter_strategies):\n",
    "    actuator = Actuator(k_split=4)\n",
    "    weights_data = actuator.fitness_weight(strategies_infos=filter_strategies)\n",
    "    positions_data = actuator.fitness_signal(\n",
    "        strategies_infos=filter_strategies,\n",
    "        strategies_data=strategies_data,\n",
    "        weights_data=weights_data)\n",
    "    return positions_data, weights_data\n",
    "\n",
    "total_data = fetch_file_data(base_path=base_path,\n",
    "                          method='aicso2',\n",
    "                          g_instruments='ims',\n",
    "                          datasets=['train_data', 'val_data'])\n",
    "total_data['trade_time'] = pd.to_datetime(total_data['trade_time'])\n",
    "basic_rotor = fetch_rotor('1004645202')\n",
    "\n",
    "strategies_data = create_postions(k_split=4,\n",
    "                                      filter_strategies=basic_rotor.strategies,\n",
    "                                      total_data=total_data)\n",
    "positions_data, weights_data = merge_signals(strategies_data,\n",
    "                                                 basic_rotor.strategies)\n",
    "positions_data.name = 'value'\n",
    "positions_data = positions_data.reset_index().set_index('trade_time')\n",
    "positions_data.head()"
   ]
  },
  {
   "cell_type": "code",
   "execution_count": 5,
   "metadata": {},
   "outputs": [
    {
     "name": "stdout",
     "output_type": "stream",
     "text": [
      "short:0.04752687979410584, long:0.4159098338216611, zero:-0.1020546979815696, mapping:{0: -1, 1: 0, 2: 1}\n"
     ]
    }
   ],
   "source": [
    "roto1 = fetch_rotor('1012936101')\n",
    "signal_data = roto1.predict(positions_data)\n",
    "signal_data.name = 'signal'\n",
    "t1_dt = pd.concat([positions_data, signal_data], axis=1)\n",
    "short = t1_dt[t1_dt['signal']==-1].value.max()\n",
    "long = t1_dt[t1_dt['signal']==1].value.max()\n",
    "zero = t1_dt[t1_dt['signal']==0].value.max()\n",
    "print(\"short:{0}, long:{1}, zero:{2}, mapping:{3}\".format(short, long, zero, roto1._best_mapping))\n"
   ]
  },
  {
   "cell_type": "code",
   "execution_count": 6,
   "metadata": {},
   "outputs": [
    {
     "name": "stdout",
     "output_type": "stream",
     "text": [
      "short:-0.1020546979815696, long:0.04752687979410584, zero:0.4159098338216611, mapping:{0: 1, 1: -1, 2: 0}\n"
     ]
    }
   ],
   "source": [
    "roto1 = fetch_rotor('1019752472')\n",
    "signal_data = roto1.predict(positions_data)\n",
    "signal_data.name = 'signal'\n",
    "t1_dt = pd.concat([positions_data, signal_data], axis=1)\n",
    "short = t1_dt[t1_dt['signal']==-1].value.max()\n",
    "long = t1_dt[t1_dt['signal']==1].value.max()\n",
    "zero = t1_dt[t1_dt['signal']==0].value.max()\n",
    "print(\"short:{0}, long:{1}, zero:{2}, mapping:{3}\".format(short, long, zero, roto1._best_mapping))\n"
   ]
  },
  {
   "cell_type": "code",
   "execution_count": 7,
   "metadata": {},
   "outputs": [
    {
     "name": "stdout",
     "output_type": "stream",
     "text": [
      "short:0.4159098338216611, long:-0.1020546979815696, zero:0.04752687979410584, mapping:{0: 0, 1: 1, 2: -1}\n"
     ]
    }
   ],
   "source": [
    "roto1 = fetch_rotor('1022579706')\n",
    "signal_data = roto1.predict(positions_data)\n",
    "signal_data.name = 'signal'\n",
    "t1_dt = pd.concat([positions_data, signal_data], axis=1)\n",
    "short = t1_dt[t1_dt['signal']==-1].value.max()\n",
    "long = t1_dt[t1_dt['signal']==1].value.max()\n",
    "zero = t1_dt[t1_dt['signal']==0].value.max()\n",
    "print(\"short:{0}, long:{1}, zero:{2}, mapping:{3}\".format(short, long, zero, roto1._best_mapping))\n"
   ]
  },
  {
   "cell_type": "code",
   "execution_count": 8,
   "metadata": {},
   "outputs": [
    {
     "name": "stdout",
     "output_type": "stream",
     "text": [
      "short:0.4159098338216611, long:0.04752687979410584, zero:-0.1020546979815696, mapping:{0: 1, 1: 0, 2: -1}\n"
     ]
    }
   ],
   "source": [
    "roto1 = fetch_rotor('1056294026')\n",
    "signal_data = roto1.predict(positions_data)\n",
    "signal_data.name = 'signal'\n",
    "t1_dt = pd.concat([positions_data, signal_data], axis=1)\n",
    "short = t1_dt[t1_dt['signal']==-1].value.max()\n",
    "long = t1_dt[t1_dt['signal']==1].value.max()\n",
    "zero = t1_dt[t1_dt['signal']==0].value.max()\n",
    "print(\"short:{0}, long:{1}, zero:{2}, mapping:{3}\".format(short, long, zero, roto1._best_mapping))\n"
   ]
  },
  {
   "cell_type": "code",
   "execution_count": 9,
   "metadata": {},
   "outputs": [
    {
     "name": "stdout",
     "output_type": "stream",
     "text": [
      "short:0.04752687979410584, long:-0.1020546979815696, zero:0.4159098338216611, mapping:{0: -1, 1: 1, 2: 0}\n"
     ]
    }
   ],
   "source": [
    "roto1 = fetch_rotor('1073079186')\n",
    "signal_data = roto1.predict(positions_data)\n",
    "signal_data.name = 'signal'\n",
    "t1_dt = pd.concat([positions_data, signal_data], axis=1)\n",
    "short = t1_dt[t1_dt['signal']==-1].value.max()\n",
    "long = t1_dt[t1_dt['signal']==1].value.max()\n",
    "zero = t1_dt[t1_dt['signal']==0].value.max()\n",
    "print(\"short:{0}, long:{1}, zero:{2}, mapping:{3}\".format(short, long, zero, roto1._best_mapping))\n"
   ]
  },
  {
   "cell_type": "code",
   "execution_count": 10,
   "metadata": {},
   "outputs": [
    {
     "name": "stdout",
     "output_type": "stream",
     "text": [
      "short:-0.1020546979815696, long:0.4159098338216611, zero:0.04752687979410584, mapping:{0: 0, 1: -1, 2: 1}\n"
     ]
    }
   ],
   "source": [
    "roto1 = fetch_rotor('1078761302')\n",
    "signal_data = roto1.predict(positions_data)\n",
    "signal_data.name = 'signal'\n",
    "t1_dt = pd.concat([positions_data, signal_data], axis=1)\n",
    "short = t1_dt[t1_dt['signal']==-1].value.max()\n",
    "long = t1_dt[t1_dt['signal']==1].value.max()\n",
    "zero = t1_dt[t1_dt['signal']==0].value.max()\n",
    "print(\"short:{0}, long:{1}, zero:{2}, mapping:{3}\".format(short, long, zero, roto1._best_mapping))\n"
   ]
  },
  {
   "cell_type": "code",
   "execution_count": 12,
   "metadata": {},
   "outputs": [],
   "source": [
    "#mapping:{0: -1, 1: 1, 2: 0}\n",
    "\n",
    "import joblib\n",
    "\n",
    "infos = joblib.load('/workspace/worker/pj/Chrono/lumina/abily/records/aicso2/ims/metrics/3_0_-1_1.pkl')"
   ]
  },
  {
   "cell_type": "code",
   "execution_count": 13,
   "metadata": {},
   "outputs": [
    {
     "data": {
      "text/plain": [
       "EmpyricalTuple(name='3_0_-1_1', annual_return=3.0663966509891374, annual_volatility=0.25638374889830917, calmar=29.968274123590998, sharpe=5.610961810163442, max_drawdown=-0.10232142960062131, sortino=14.26811816409296, returns_series=trade_time\n",
       "2022-07-25    0.0054\n",
       "2022-07-26    0.0167\n",
       "2022-07-27    0.0218\n",
       "2022-07-28   -0.0032\n",
       "2022-07-29   -0.0032\n",
       "               ...  \n",
       "2024-11-29    0.0223\n",
       "2024-12-02    0.0086\n",
       "2024-12-03   -0.0004\n",
       "2024-12-04   -0.0090\n",
       "2024-12-05   -0.0028\n",
       "Name: ret, Length: 575, dtype: float64)"
      ]
     },
     "execution_count": 13,
     "metadata": {},
     "output_type": "execute_result"
    }
   ],
   "source": [
    "infos.empyrical"
   ]
  },
  {
   "cell_type": "code",
   "execution_count": null,
   "metadata": {},
   "outputs": [],
   "source": []
  }
 ],
 "metadata": {
  "kernelspec": {
   "display_name": "lingua",
   "language": "python",
   "name": "python3"
  },
  "language_info": {
   "codemirror_mode": {
    "name": "ipython",
    "version": 3
   },
   "file_extension": ".py",
   "mimetype": "text/x-python",
   "name": "python",
   "nbconvert_exporter": "python",
   "pygments_lexer": "ipython3",
   "version": "3.8.3"
  }
 },
 "nbformat": 4,
 "nbformat_minor": 2
}
