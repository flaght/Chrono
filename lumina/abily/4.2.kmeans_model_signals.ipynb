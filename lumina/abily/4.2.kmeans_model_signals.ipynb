{
 "cells": [
  {
   "cell_type": "markdown",
   "metadata": {},
   "source": [
    "校验kmeans的结果，合成信号值， 多头信号1 数据应该集中数据头部，  空头信号-1 数据应该集中在数据尾部  中间处于不动即0"
   ]
  },
  {
   "cell_type": "code",
   "execution_count": 1,
   "metadata": {},
   "outputs": [],
   "source": [
    "import os\n",
    "import pandas as pd\n",
    "from lumina.genetic.fusion import Rotor\n",
    "from lumina.genetic import Actuator"
   ]
  },
  {
   "cell_type": "code",
   "execution_count": 4,
   "metadata": {},
   "outputs": [
    {
     "name": "stdout",
     "output_type": "stream",
     "text": [
      "predict groups model::8.22%"
     ]
    },
    {
     "name": "stderr",
     "output_type": "stream",
     "text": [
      "/workspace/worker/env/lingua/lib/python3.8/site-packages/Finance_Ultron-1.7.8-py3.8-linux-x86_64.egg/ultron/factor/genetic/geneticist/operators.py:320: RuntimeWarning: divide by zero encountered in true_divide\n",
      "  return eval(expression).transform(total_data,\n"
     ]
    },
    {
     "name": "stdout",
     "output_type": "stream",
     "text": [
      "predict groups model::19.18%"
     ]
    },
    {
     "name": "stderr",
     "output_type": "stream",
     "text": [
      "/workspace/worker/env/lingua/lib/python3.8/site-packages/Finance_Ultron-1.7.8-py3.8-linux-x86_64.egg/ultron/factor/genetic/geneticist/operators.py:320: RuntimeWarning: divide by zero encountered in true_divide\n",
      "  return eval(expression).transform(total_data,\n",
      "/workspace/worker/env/lingua/lib/python3.8/site-packages/Finance_Ultron-1.7.8-py3.8-linux-x86_64.egg/ultron/factor/genetic/geneticist/operators.py:320: RuntimeWarning: invalid value encountered in true_divide\n",
      "  return eval(expression).transform(total_data,\n"
     ]
    },
    {
     "name": "stdout",
     "output_type": "stream",
     "text": [
      "predict groups model::42.47%"
     ]
    },
    {
     "name": "stderr",
     "output_type": "stream",
     "text": [
      "/workspace/worker/env/lingua/lib/python3.8/site-packages/Finance_Ultron-1.7.8-py3.8-linux-x86_64.egg/ultron/factor/genetic/geneticist/operators.py:320: RuntimeWarning: divide by zero encountered in true_divide\n",
      "  return eval(expression).transform(total_data,\n"
     ]
    },
    {
     "name": "stdout",
     "output_type": "stream",
     "text": [
      "predict groups model::68.49%"
     ]
    },
    {
     "name": "stderr",
     "output_type": "stream",
     "text": [
      "/workspace/worker/env/lingua/lib/python3.8/site-packages/Finance_Ultron-1.7.8-py3.8-linux-x86_64.egg/ultron/factor/genetic/geneticist/operators.py:320: RuntimeWarning: divide by zero encountered in true_divide\n",
      "  return eval(expression).transform(total_data,\n"
     ]
    },
    {
     "name": "stdout",
     "output_type": "stream",
     "text": [
      "predict groups model::64.38%"
     ]
    },
    {
     "name": "stderr",
     "output_type": "stream",
     "text": [
      "/workspace/worker/env/lingua/lib/python3.8/site-packages/Finance_Ultron-1.7.8-py3.8-linux-x86_64.egg/ultron/factor/genetic/geneticist/operators.py:320: RuntimeWarning: divide by zero encountered in true_divide\n",
      "  return eval(expression).transform(total_data,\n"
     ]
    },
    {
     "name": "stdout",
     "output_type": "stream",
     "text": [
      "predict groups model::82.19%"
     ]
    },
    {
     "name": "stderr",
     "output_type": "stream",
     "text": [
      "/workspace/worker/env/lingua/lib/python3.8/site-packages/Finance_Ultron-1.7.8-py3.8-linux-x86_64.egg/ultron/factor/genetic/geneticist/operators.py:320: RuntimeWarning: divide by zero encountered in true_divide\n",
      "  return eval(expression).transform(total_data,\n"
     ]
    },
    {
     "name": "stdout",
     "output_type": "stream",
     "text": [
      "predict groups model::91.78%"
     ]
    },
    {
     "name": "stderr",
     "output_type": "stream",
     "text": [
      "/workspace/worker/env/lingua/lib/python3.8/site-packages/Finance_Ultron-1.7.8-py3.8-linux-x86_64.egg/ultron/factor/genetic/geneticist/operators.py:320: RuntimeWarning: invalid value encountered in true_divide\n",
      "  return eval(expression).transform(total_data,\n"
     ]
    },
    {
     "name": "stdout",
     "output_type": "stream",
     "text": [
      "predict groups model::91.78%"
     ]
    },
    {
     "name": "stderr",
     "output_type": "stream",
     "text": [
      "/workspace/worker/env/lingua/lib/python3.8/site-packages/Finance_Ultron-1.7.8-py3.8-linux-x86_64.egg/ultron/factor/genetic/geneticist/operators.py:320: RuntimeWarning: divide by zero encountered in true_divide\n",
      "  return eval(expression).transform(total_data,\n"
     ]
    },
    {
     "name": "stdout",
     "output_type": "stream",
     "text": [
      "predict groups model::100.0%"
     ]
    },
    {
     "data": {
      "text/html": [
       "<div>\n",
       "<style scoped>\n",
       "    .dataframe tbody tr th:only-of-type {\n",
       "        vertical-align: middle;\n",
       "    }\n",
       "\n",
       "    .dataframe tbody tr th {\n",
       "        vertical-align: top;\n",
       "    }\n",
       "\n",
       "    .dataframe thead th {\n",
       "        text-align: right;\n",
       "    }\n",
       "</style>\n",
       "<table border=\"1\" class=\"dataframe\">\n",
       "  <thead>\n",
       "    <tr style=\"text-align: right;\">\n",
       "      <th></th>\n",
       "      <th>code</th>\n",
       "      <th>value</th>\n",
       "    </tr>\n",
       "    <tr>\n",
       "      <th>trade_time</th>\n",
       "      <th></th>\n",
       "      <th></th>\n",
       "    </tr>\n",
       "  </thead>\n",
       "  <tbody>\n",
       "    <tr>\n",
       "      <th>2022-07-25 09:30:00</th>\n",
       "      <td>IM</td>\n",
       "      <td>0.0000</td>\n",
       "    </tr>\n",
       "    <tr>\n",
       "      <th>2022-07-25 09:31:00</th>\n",
       "      <td>IM</td>\n",
       "      <td>0.0000</td>\n",
       "    </tr>\n",
       "    <tr>\n",
       "      <th>2022-07-25 09:32:00</th>\n",
       "      <td>IM</td>\n",
       "      <td>0.0000</td>\n",
       "    </tr>\n",
       "    <tr>\n",
       "      <th>2022-07-25 09:33:00</th>\n",
       "      <td>IM</td>\n",
       "      <td>0.0000</td>\n",
       "    </tr>\n",
       "    <tr>\n",
       "      <th>2022-07-25 09:34:00</th>\n",
       "      <td>IM</td>\n",
       "      <td>-0.0051</td>\n",
       "    </tr>\n",
       "  </tbody>\n",
       "</table>\n",
       "</div>"
      ],
      "text/plain": [
       "                    code   value\n",
       "trade_time                      \n",
       "2022-07-25 09:30:00   IM  0.0000\n",
       "2022-07-25 09:31:00   IM  0.0000\n",
       "2022-07-25 09:32:00   IM  0.0000\n",
       "2022-07-25 09:33:00   IM  0.0000\n",
       "2022-07-25 09:34:00   IM -0.0051"
      ]
     },
     "execution_count": 4,
     "metadata": {},
     "output_type": "execute_result"
    }
   ],
   "source": [
    "code = 'im'\n",
    "def fetch_rotor(name):\n",
    "    base_path = '/workspace/worker/pj/Chrono/lumina/abily/records/temp/aicso2/ims/kmeans'\n",
    "    rotor = Rotor.from_pickle(\n",
    "            path=os.path.join(base_path, code.lower()), name=name)\n",
    "    return rotor\n",
    "\n",
    "from kdutils.file import fetch_file_data\n",
    "base_path = '/workspace/worker/pj/Chrono/lumina/abily/records/'\n",
    "#factors_data = fetch_file_data(base_path=base_path,\n",
    "#                          method='aicso2',\n",
    "#                          g_instruments='ims',\n",
    "#                          datasets=['train_data', 'val_data'])\n",
    "\n",
    "def fetch_data():\n",
    "    base_path = '/workspace/worker/pj/Chrono/lumina/abily/records/'\n",
    "    filename = os.path.join(base_path, 'aicso2', 'ims', 'merge',\"val_data.feather\")\n",
    "    factors_data = pd.read_feather(filename).sort_values(\n",
    "        by=['trade_time', 'code'])\n",
    "    return factors_data\n",
    "\n",
    "def create_postions(k_split, filter_strategies, total_data):\n",
    "    actuator = Actuator(k_split=k_split)\n",
    "\n",
    "    strategies_data = actuator.calculate(strategies_infos=filter_strategies,\n",
    "                                         total_data=total_data)\n",
    "    return strategies_data\n",
    "\n",
    "\n",
    "def merge_signals(strategies_data, filter_strategies):\n",
    "    actuator = Actuator(k_split=4)\n",
    "    weights_data = actuator.fitness_weight(strategies_infos=filter_strategies)\n",
    "    positions_data = actuator.fitness_signal(\n",
    "        strategies_infos=filter_strategies,\n",
    "        strategies_data=strategies_data,\n",
    "        weights_data=weights_data)\n",
    "    return positions_data, weights_data\n",
    "\n",
    "total_data = fetch_file_data(base_path=base_path,\n",
    "                          method='aicso2',\n",
    "                          g_instruments='ims',\n",
    "                          datasets=['train_data', 'val_data'])\n",
    "total_data['trade_time'] = pd.to_datetime(total_data['trade_time'])\n",
    "basic_rotor = fetch_rotor('1012936101')\n",
    "\n",
    "strategies_data = create_postions(k_split=4,\n",
    "                                      filter_strategies=basic_rotor.strategies,\n",
    "                                      total_data=total_data)\n",
    "positions_data, weights_data = merge_signals(strategies_data,\n",
    "                                                 basic_rotor.strategies)\n",
    "positions_data.name = 'value'\n",
    "positions_data = positions_data.reset_index().set_index('trade_time')\n",
    "positions_data.head()"
   ]
  },
  {
   "cell_type": "code",
   "execution_count": 5,
   "metadata": {},
   "outputs": [
    {
     "name": "stdout",
     "output_type": "stream",
     "text": [
      "short:0.04752687979410584, long:0.4159098338216611, zero:-0.1020546979815696, mapping:{0: -1, 1: 0, 2: 1}\n"
     ]
    }
   ],
   "source": [
    "roto1 = fetch_rotor('1012936101')\n",
    "signal_data = roto1.predict(positions_data)\n",
    "signal_data.name = 'signal'\n",
    "t1_dt = pd.concat([positions_data, signal_data], axis=1)\n",
    "short = t1_dt[t1_dt['signal']==-1].value.max()\n",
    "long = t1_dt[t1_dt['signal']==1].value.max()\n",
    "zero = t1_dt[t1_dt['signal']==0].value.max()\n",
    "print(\"short:{0}, long:{1}, zero:{2}, mapping:{3}\".format(short, long, zero, roto1._best_mapping))\n"
   ]
  },
  {
   "cell_type": "code",
   "execution_count": 6,
   "metadata": {},
   "outputs": [
    {
     "name": "stdout",
     "output_type": "stream",
     "text": [
      "short:-0.1020546979815696, long:0.04752687979410584, zero:0.4159098338216611, mapping:{0: 1, 1: -1, 2: 0}\n"
     ]
    }
   ],
   "source": [
    "roto1 = fetch_rotor('1019752472')\n",
    "signal_data = roto1.predict(positions_data)\n",
    "signal_data.name = 'signal'\n",
    "t1_dt = pd.concat([positions_data, signal_data], axis=1)\n",
    "short = t1_dt[t1_dt['signal']==-1].value.max()\n",
    "long = t1_dt[t1_dt['signal']==1].value.max()\n",
    "zero = t1_dt[t1_dt['signal']==0].value.max()\n",
    "print(\"short:{0}, long:{1}, zero:{2}, mapping:{3}\".format(short, long, zero, roto1._best_mapping))\n"
   ]
  },
  {
   "cell_type": "code",
   "execution_count": 7,
   "metadata": {},
   "outputs": [
    {
     "name": "stdout",
     "output_type": "stream",
     "text": [
      "short:0.4159098338216611, long:-0.1020546979815696, zero:0.04752687979410584, mapping:{0: 0, 1: 1, 2: -1}\n"
     ]
    }
   ],
   "source": [
    "roto1 = fetch_rotor('1022579706')\n",
    "signal_data = roto1.predict(positions_data)\n",
    "signal_data.name = 'signal'\n",
    "t1_dt = pd.concat([positions_data, signal_data], axis=1)\n",
    "short = t1_dt[t1_dt['signal']==-1].value.max()\n",
    "long = t1_dt[t1_dt['signal']==1].value.max()\n",
    "zero = t1_dt[t1_dt['signal']==0].value.max()\n",
    "print(\"short:{0}, long:{1}, zero:{2}, mapping:{3}\".format(short, long, zero, roto1._best_mapping))\n"
   ]
  },
  {
   "cell_type": "code",
   "execution_count": 8,
   "metadata": {},
   "outputs": [
    {
     "name": "stdout",
     "output_type": "stream",
     "text": [
      "short:0.4159098338216611, long:0.04752687979410584, zero:-0.1020546979815696, mapping:{0: 1, 1: 0, 2: -1}\n"
     ]
    }
   ],
   "source": [
    "roto1 = fetch_rotor('1056294026')\n",
    "signal_data = roto1.predict(positions_data)\n",
    "signal_data.name = 'signal'\n",
    "t1_dt = pd.concat([positions_data, signal_data], axis=1)\n",
    "short = t1_dt[t1_dt['signal']==-1].value.max()\n",
    "long = t1_dt[t1_dt['signal']==1].value.max()\n",
    "zero = t1_dt[t1_dt['signal']==0].value.max()\n",
    "print(\"short:{0}, long:{1}, zero:{2}, mapping:{3}\".format(short, long, zero, roto1._best_mapping))\n"
   ]
  },
  {
   "cell_type": "code",
   "execution_count": 9,
   "metadata": {},
   "outputs": [
    {
     "name": "stdout",
     "output_type": "stream",
     "text": [
      "short:0.04752687979410584, long:-0.1020546979815696, zero:0.4159098338216611, mapping:{0: -1, 1: 1, 2: 0}\n"
     ]
    }
   ],
   "source": [
    "roto1 = fetch_rotor('1073079186')\n",
    "signal_data = roto1.predict(positions_data)\n",
    "signal_data.name = 'signal'\n",
    "t1_dt = pd.concat([positions_data, signal_data], axis=1)\n",
    "short = t1_dt[t1_dt['signal']==-1].value.max()\n",
    "long = t1_dt[t1_dt['signal']==1].value.max()\n",
    "zero = t1_dt[t1_dt['signal']==0].value.max()\n",
    "print(\"short:{0}, long:{1}, zero:{2}, mapping:{3}\".format(short, long, zero, roto1._best_mapping))\n"
   ]
  },
  {
   "cell_type": "code",
   "execution_count": 10,
   "metadata": {},
   "outputs": [
    {
     "name": "stdout",
     "output_type": "stream",
     "text": [
      "short:-0.1020546979815696, long:0.4159098338216611, zero:0.04752687979410584, mapping:{0: 0, 1: -1, 2: 1}\n"
     ]
    }
   ],
   "source": [
    "roto1 = fetch_rotor('1078761302')\n",
    "signal_data = roto1.predict(positions_data)\n",
    "signal_data.name = 'signal'\n",
    "t1_dt = pd.concat([positions_data, signal_data], axis=1)\n",
    "short = t1_dt[t1_dt['signal']==-1].value.max()\n",
    "long = t1_dt[t1_dt['signal']==1].value.max()\n",
    "zero = t1_dt[t1_dt['signal']==0].value.max()\n",
    "print(\"short:{0}, long:{1}, zero:{2}, mapping:{3}\".format(short, long, zero, roto1._best_mapping))\n"
   ]
  },
  {
   "cell_type": "code",
   "execution_count": 12,
   "metadata": {},
   "outputs": [],
   "source": [
    "#mapping:{0: -1, 1: 1, 2: 0}\n",
    "\n",
    "import joblib\n",
    "\n",
    "infos = joblib.load('/workspace/worker/pj/Chrono/lumina/abily/records/aicso2/ims/metrics/3_0_-1_1.pkl')"
   ]
  },
  {
   "cell_type": "code",
   "execution_count": 13,
   "metadata": {},
   "outputs": [
    {
     "data": {
      "text/plain": [
       "EmpyricalTuple(name='3_0_-1_1', annual_return=3.0663966509891374, annual_volatility=0.25638374889830917, calmar=29.968274123590998, sharpe=5.610961810163442, max_drawdown=-0.10232142960062131, sortino=14.26811816409296, returns_series=trade_time\n",
       "2022-07-25    0.0054\n",
       "2022-07-26    0.0167\n",
       "2022-07-27    0.0218\n",
       "2022-07-28   -0.0032\n",
       "2022-07-29   -0.0032\n",
       "               ...  \n",
       "2024-11-29    0.0223\n",
       "2024-12-02    0.0086\n",
       "2024-12-03   -0.0004\n",
       "2024-12-04   -0.0090\n",
       "2024-12-05   -0.0028\n",
       "Name: ret, Length: 575, dtype: float64)"
      ]
     },
     "execution_count": 13,
     "metadata": {},
     "output_type": "execute_result"
    }
   ],
   "source": [
    "infos.empyrical"
   ]
  },
  {
   "cell_type": "code",
   "execution_count": null,
   "metadata": {},
   "outputs": [],
   "source": []
  }
 ],
 "metadata": {
  "kernelspec": {
   "display_name": "lingua",
   "language": "python",
   "name": "python3"
  },
  "language_info": {
   "codemirror_mode": {
    "name": "ipython",
    "version": 3
   },
   "file_extension": ".py",
   "mimetype": "text/x-python",
   "name": "python",
   "nbconvert_exporter": "python",
   "pygments_lexer": "ipython3",
   "version": "3.8.3"
  }
 },
 "nbformat": 4,
 "nbformat_minor": 2
}
